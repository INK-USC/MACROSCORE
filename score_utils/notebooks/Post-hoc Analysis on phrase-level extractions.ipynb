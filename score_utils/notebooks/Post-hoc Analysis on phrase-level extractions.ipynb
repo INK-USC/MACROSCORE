{
 "cells": [
  {
   "cell_type": "code",
   "execution_count": 240,
   "metadata": {},
   "outputs": [],
   "source": [
    "import pandas as pd\n",
    "import matplotlib.pyplot as plt\n",
    "import pylab as pl\n",
    "import numpy as np\n",
    "import json"
   ]
  },
  {
   "cell_type": "code",
   "execution_count": null,
   "metadata": {},
   "outputs": [],
   "source": []
  },
  {
   "cell_type": "code",
   "execution_count": null,
   "metadata": {},
   "outputs": [],
   "source": []
  },
  {
   "cell_type": "markdown",
   "metadata": {},
   "source": [
    "## Get full paper data:"
   ]
  },
  {
   "cell_type": "code",
   "execution_count": 284,
   "metadata": {},
   "outputs": [],
   "source": [
    "paper_data = \"../segment_data/TA2_classify_data_final_with_folds.json\""
   ]
  },
  {
   "cell_type": "code",
   "execution_count": 285,
   "metadata": {},
   "outputs": [],
   "source": [
    "df_data_full = pd.read_json(paper_data)"
   ]
  },
  {
   "cell_type": "code",
   "execution_count": 289,
   "metadata": {},
   "outputs": [],
   "source": [
    "pid_claims_map = {}\n",
    "for idx, cur_row in df_data_full.iterrows():\n",
    "    try:\n",
    "        cur_pid = cur_row[\"DOI_CR\"]\n",
    "        cur_claims = [cur_row[\"coded_claim2\"], cur_row[\"coded_claim3a\"], cur_row[\"coded_claim3b\"], cur_row[\"coded_claim4\"]]\n",
    "        pid_claims_map[cur_pid] = cur_claims\n",
    "    except e:\n",
    "        print(e)"
   ]
  },
  {
   "cell_type": "code",
   "execution_count": null,
   "metadata": {},
   "outputs": [],
   "source": []
  },
  {
   "cell_type": "markdown",
   "metadata": {},
   "source": [
    "## Important Segment data analysis:"
   ]
  },
  {
   "cell_type": "code",
   "execution_count": 255,
   "metadata": {},
   "outputs": [],
   "source": [
    "inp_seg_path = \"../segment_data/TA2_classify_data_final_with_imp_claims_only.json\""
   ]
  },
  {
   "cell_type": "code",
   "execution_count": 256,
   "metadata": {},
   "outputs": [],
   "source": [
    "df = pd.read_json(inp_seg_path)"
   ]
  },
  {
   "cell_type": "code",
   "execution_count": 257,
   "metadata": {},
   "outputs": [
    {
     "data": {
      "text/plain": [
       "0    493\n",
       "1    393\n",
       "Name: label, dtype: int64"
      ]
     },
     "execution_count": 257,
     "metadata": {},
     "output_type": "execute_result"
    }
   ],
   "source": [
    "df[\"label\"].value_counts()"
   ]
  },
  {
   "cell_type": "code",
   "execution_count": 268,
   "metadata": {},
   "outputs": [
    {
     "name": "stdout",
     "output_type": "stream",
     "text": [
      "(886, 5)\n",
      "Index(['paper_id', 'important_segment', 'important_segment_idx', 'label',\n",
      "       'Fold_Id'],\n",
      "      dtype='object')\n"
     ]
    }
   ],
   "source": [
    "print(df.shape)\n",
    "print(df.columns)\n",
    "\n",
    "pid_seg_idx_map = {}\n",
    "for idx, cr in df.iterrows():\n",
    "    pid_seg_idx_map[cr[\"paper_id\"]] = [cr[\"important_segment_idx\"], cr[\"important_segment\"]]"
   ]
  },
  {
   "cell_type": "code",
   "execution_count": 259,
   "metadata": {},
   "outputs": [],
   "source": [
    "result = dict(df[\"important_segment_idx\"].value_counts())\n",
    "# result = dict(df_11[\"important_segment_idx\"].value_counts())\n",
    "# result = dict(df_00[\"important_segment_idx\"].value_counts())\n",
    "\n",
    "for i in range(0, 4):\n",
    "    if result.get(i) is None:\n",
    "        result[i] = 0\n",
    "    \n",
    "out_result = {\n",
    "    \"claim2\": result[0],\n",
    "    \"claim3a\": result[1],\n",
    "    \"claim3b\": result[2],\n",
    "    \"claim4\": result[3]\n",
    "}"
   ]
  },
  {
   "cell_type": "code",
   "execution_count": 260,
   "metadata": {},
   "outputs": [
    {
     "name": "stdout",
     "output_type": "stream",
     "text": [
      "{'claim2': 0, 'claim3a': 69, 'claim3b': 45, 'claim4': 772}\n",
      "886\n"
     ]
    }
   ],
   "source": [
    "print(out_result)\n",
    "print(sum(out_result.values()))"
   ]
  },
  {
   "cell_type": "code",
   "execution_count": null,
   "metadata": {},
   "outputs": [],
   "source": [
    "plt.figure(figsize=(15,9))\n",
    "plt.bar(out_result.keys(), out_result.values())\n",
    "plt.title(\"Important claim distribution among 886 TA2 papers\")\n",
    "# plt.title(\"Important claim distribution among 393 TA2 papers where both label & predicted label = 0\")"
   ]
  },
  {
   "cell_type": "code",
   "execution_count": null,
   "metadata": {},
   "outputs": [],
   "source": []
  },
  {
   "cell_type": "markdown",
   "metadata": {},
   "source": [
    "## Phrase-level extraction data analysis:"
   ]
  },
  {
   "cell_type": "code",
   "execution_count": 271,
   "metadata": {},
   "outputs": [],
   "source": [
    "train_extraction_path = \"../repr_claims_results/socrepr_claims_train.json\"\n",
    "dev_extraction_path = \"../repr_claims_results/socrepr_claims_dev.json\""
   ]
  },
  {
   "cell_type": "code",
   "execution_count": 272,
   "metadata": {},
   "outputs": [],
   "source": [
    "with open(train_extraction_path, \"r\") as f:\n",
    "    train_res = json.load(f)\n",
    "    \n",
    "with open(dev_extraction_path, \"r\") as f:\n",
    "    dev_res = json.load(f)"
   ]
  },
  {
   "cell_type": "code",
   "execution_count": 273,
   "metadata": {},
   "outputs": [],
   "source": [
    "res_full = train_res.copy()\n",
    "res_full = res_full + dev_res\n",
    "df_res = pd.DataFrame(res_full)"
   ]
  },
  {
   "cell_type": "code",
   "execution_count": 274,
   "metadata": {},
   "outputs": [],
   "source": [
    "df_res[\"important_segment_idx\"] = df_res.apply(lambda x: pid_seg_idx_map[x[\"paper_id\"]][0], axis=1)\n",
    "df_res[\"important_segment\"] = df_res.apply(lambda x: pid_seg_idx_map[x[\"paper_id\"]][1], axis=1)"
   ]
  },
  {
   "cell_type": "code",
   "execution_count": 275,
   "metadata": {},
   "outputs": [
    {
     "name": "stdout",
     "output_type": "stream",
     "text": [
      "(845, 6)\n",
      "Index(['paper_id', 'label', 'predicted_label', 'important_segment',\n",
      "       'important_phrases', 'important_segment_idx'],\n",
      "      dtype='object')\n"
     ]
    }
   ],
   "source": [
    "print(df_res.shape)\n",
    "print(df_res.columns)"
   ]
  },
  {
   "cell_type": "code",
   "execution_count": 276,
   "metadata": {},
   "outputs": [],
   "source": [
    "df_11 = df_res[(df_res[\"label\"] == 1) & (df_res[\"predicted_label\"] == 1)]\n",
    "df_00 = df_res[(df_res[\"label\"] == 0) & (df_res[\"predicted_label\"] == 0)]"
   ]
  },
  {
   "cell_type": "code",
   "execution_count": 298,
   "metadata": {},
   "outputs": [],
   "source": [
    "# def getMostImportantPhraseListTemp(cur_df, claim_idx):\n",
    "#     cur_df_filt = cur_df[cur_df[\"important_segment_idx\"] == claim_idx]\n",
    "#     phrase_list = []\n",
    "#     phrase_list2 = []\n",
    "#     l_t = 100\n",
    "#     for idx, cur_row in cur_df_filt.iterrows():\n",
    "#         cur_pid = cur_row[\"paper_id\"]\n",
    "#         cur_phrase = cur_row[\"important_phrases\"][0][1]\n",
    "#         cur_imp_seg = cur_row[\"important_segment\"]\n",
    "#         if len(cur_imp_seg) <= l_t:\n",
    "#             phrase_list2.append([cur_imp_seg, cur_phrase, cur_pid])\n",
    "            \n",
    "#         if cur_pid == \"10.1177/2167702612472884\":\n",
    "#             for i in cur_row[\"important_phrases\"]:\n",
    "#                 print(i, \"\\n\")\n",
    "        \n",
    "#         phrase_list.append(cur_phrase)\n",
    "\n",
    "#     for i in phrase_list:\n",
    "#         print(i, \"\\n\")\n",
    "        \n",
    "#     for i in phrase_list2:\n",
    "#         print(i, \"\\n\")\n",
    "\n",
    "\n",
    "def getMostImportantPhraseList(cur_df, claim_idx):\n",
    "    cur_df_filt = cur_df[cur_df[\"important_segment_idx\"] == claim_idx]\n",
    "    phrase_list = []\n",
    "    phrase_list2 = []\n",
    "    l_t = 100\n",
    "    for idx, cur_row in cur_df_filt.iterrows():\n",
    "        cur_pid = cur_row[\"paper_id\"]\n",
    "        cur_phrase = cur_row[\"important_phrases\"][0][1]\n",
    "        cur_imp_seg = cur_row[\"important_segment\"]        \n",
    "        phrase_list.append(cur_phrase)\n",
    "        \n",
    "        if cur_pid == \"10.1007/s13524-016-0487-5\":\n",
    "            for i in cur_row[\"important_phrases\"]:\n",
    "                print(i)\n",
    "        \n",
    "        #print(cur_pid, \"  #######  \", cur_imp_seg, \"  #########  \", cur_phrase, \"\\n\")\n",
    "\n",
    "\n",
    "    return phrase_list"
   ]
  },
  {
   "cell_type": "code",
   "execution_count": 299,
   "metadata": {},
   "outputs": [
    {
     "name": "stdout",
     "output_type": "stream",
     "text": [
      "[8.981502, 'a statistically significant improvement']\n",
      "[6.234601, 'statistically significant']\n",
      "[5.839654, 'statistically']\n",
      "[4.1362, 'the result was a statistically significant improvement in model fit - lrb - chi - square = 1 , 217 , df = 11 , p = . 001 .']\n",
      "[3.509991, 'a statistically significant improvement in model fit - lrb - chi - square = 1 , 217 , df = 11 , p = . 001']\n",
      "[3.083767, 'was a statistically significant improvement in model fit - lrb - chi - square = 1 , 217 , df = 11 , p = . 001']\n",
      "[3.033817, 'significant']\n",
      "[2.040396, 'improvement']\n",
      "[1.42845, 'the result']\n",
      "[1.403977, '. 001']\n",
      "[1.298188, 'chi - square = 1 , 217']\n",
      "[1.286927, '= . 001']\n",
      "[1.279396, '. 001']\n",
      "[0.844449, 'result']\n",
      "[0.496762, '= 1 , 217']\n",
      "[0.459804, 'fit']\n",
      "[0.297108, '1 , 217']\n",
      "[0.247735, 'model']\n",
      "[0.239056, '1 , 217']\n",
      "[0.206529, 'df']\n",
      "[0.197803, 'chi - square']\n",
      "[0.182726, '= 11']\n",
      "[0.172515, '.']\n",
      "[0.150446, 'df = 11 , p = . 001']\n",
      "[0.129126, '=']\n",
      "[0.128099, 'square']\n",
      "[0.106376, 'df']\n",
      "[0.041876, '=']\n",
      "[0.039031, '11']\n",
      "[0.035382, 'the']\n",
      "[0.021406, '11']\n",
      "[0.01646, ',']\n",
      "[0.016132, '=']\n",
      "[-0.021005, 'was']\n",
      "[-0.031884, 'p = . 001']\n",
      "[-0.069287, 'df = 11']\n",
      "[-0.083455, 'in']\n",
      "[-0.089439, '-']\n",
      "[-0.114002, ',']\n",
      "[-0.300688, 'a']\n",
      "[-0.439041, '- lrb -']\n",
      "[-0.620333, 'p']\n",
      "[-0.77958, 'chi']\n",
      "[-0.970297, 'in model fit - lrb - chi - square = 1 , 217 , df = 11 , p = . 001']\n",
      "[-1.052531, 'p']\n",
      "[-1.553596, 'model fit - lrb - chi - square = 1 , 217 , df = 11 , p = . 001']\n",
      "[-3.576072, '- lrb - chi - square = 1 , 217 , df = 11 , p = . 001']\n"
     ]
    }
   ],
   "source": [
    "phrase_list = getMostImportantPhraseList(df_11, 3)"
   ]
  },
  {
   "cell_type": "code",
   "execution_count": 295,
   "metadata": {},
   "outputs": [
    {
     "name": "stdout",
     "output_type": "stream",
     "text": [
      "We find that ethnicity is the main basis of local residential sorting, while occupational standing and, to a lesser degree, family life cycle and nativity also are significant. \n",
      "\n",
      "We selected the claim that in Newark, NJ in 1880, people lived near similar people at a very local (street segment) scale.  This was particularly the case when similarity is defined along race/ethnic lines.  \n",
      "\n",
      "The authors test the claim using a multivariate analysis based on discrete choice models for residential location. The discrete choice models were based on a random sample of 2,894 persons living on1,442 street segments.  Street segment and person level variables were grouped into four categories (Occupation, Nativity, Family, and Race/ethnicity) and entered in a stepwise fashion.  The Race/ethnicity category was entered last.  The focal test result concerns the marginal improvement to model fit associated with entering the Race/Ethnicity variables.  \n",
      "\n",
      "The result was a statistically significant improvement in model fit (Chi-square = 1,217, df=11, p = .001.  \n",
      "\n"
     ]
    }
   ],
   "source": [
    "for i in pid_claims_map[\"10.1007/s13524-016-0487-5\"]:\n",
    "    print(i, \"\\n\")"
   ]
  },
  {
   "cell_type": "code",
   "execution_count": null,
   "metadata": {},
   "outputs": [],
   "source": []
  },
  {
   "cell_type": "code",
   "execution_count": null,
   "metadata": {},
   "outputs": [],
   "source": []
  },
  {
   "cell_type": "markdown",
   "metadata": {},
   "source": [
    "## Feature value distribution in important phrases:"
   ]
  },
  {
   "cell_type": "code",
   "execution_count": 249,
   "metadata": {},
   "outputs": [],
   "source": [
    "def getNum(input_str):\n",
    "    num = \"\"\n",
    "    first = True\n",
    "    for c_char in input_str:\n",
    "        if c_char.isdigit() or c_char == '.':\n",
    "            num += c_char\n",
    "            first = False\n",
    "        elif c_char == \" \":\n",
    "            continue\n",
    "        elif not first:\n",
    "            break\n",
    "            \n",
    "    try:\n",
    "        num = float(num)\n",
    "    except:\n",
    "        num = -1\n",
    "    return num\n",
    "            \n",
    "\n",
    "def getFeatureList(input_phrase_list):\n",
    "    pv_list = []\n",
    "    \n",
    "    for cur_phrase in input_phrase_list:\n",
    "        if cur_phrase.startswith(\"p \") or \" p \" in cur_phrase:\n",
    "            cur_idx = cur_phrase.find(\" p \")\n",
    "            cur_num = getNum(cur_phrase[cur_idx + 3:])\n",
    "            if cur_num != -1 and cur_num < 1:\n",
    "                pv_list.append(cur_num)\n",
    "            \n",
    "    return pv_list"
   ]
  },
  {
   "cell_type": "code",
   "execution_count": 250,
   "metadata": {},
   "outputs": [],
   "source": [
    "pv_list1 = getFeatureList(getMostImportantPhraseList(df_11, 3))"
   ]
  },
  {
   "cell_type": "code",
   "execution_count": 251,
   "metadata": {},
   "outputs": [],
   "source": [
    "pv_list2 = getFeatureList(getMostImportantPhraseList(df_00, 3))"
   ]
  },
  {
   "cell_type": "code",
   "execution_count": 252,
   "metadata": {},
   "outputs": [],
   "source": [
    "def plotPvalues(cur_pv_list, cur_title):\n",
    "    plt.figure(figsize=(15,9))\n",
    "    plt.title(cur_title)\n",
    "    plt.xlabel(\"P-value\")\n",
    "    plt.ylabel(\"Count\")\n",
    "    pl.hist(cur_pv_list, bins=np.logspace(np.log10(0.0001),np.log10(1.0), 10))\n",
    "    pl.gca().set_xscale(\"log\")\n",
    "    pl.show()"
   ]
  },
  {
   "cell_type": "code",
   "execution_count": null,
   "metadata": {},
   "outputs": [],
   "source": [
    "plotPvalues(pv_list1, \"P-value distribution for p-values extracted from the most important phrase of reproducible papers\")"
   ]
  },
  {
   "cell_type": "code",
   "execution_count": null,
   "metadata": {},
   "outputs": [],
   "source": [
    "plotPvalues(pv_list2, \"P-value distribution for p-values extracted from the most important phrase of non-reproducible papers\")"
   ]
  },
  {
   "cell_type": "code",
   "execution_count": null,
   "metadata": {},
   "outputs": [],
   "source": []
  },
  {
   "cell_type": "code",
   "execution_count": null,
   "metadata": {},
   "outputs": [],
   "source": []
  },
  {
   "cell_type": "markdown",
   "metadata": {},
   "source": [
    "## Visualize the parsed trees:"
   ]
  },
  {
   "cell_type": "code",
   "execution_count": 96,
   "metadata": {},
   "outputs": [],
   "source": [
    "from nltk.tree import Tree\n",
    "from IPython.display import display"
   ]
  },
  {
   "cell_type": "code",
   "execution_count": 117,
   "metadata": {},
   "outputs": [],
   "source": [
    "# Load the parsed trees:\n",
    "inp_tree_path = \"../repr_claims/trees/repr_claims_trees_data.csv\""
   ]
  },
  {
   "cell_type": "code",
   "execution_count": 118,
   "metadata": {},
   "outputs": [],
   "source": [
    "df_trees = pd.read_csv(inp_tree_path)"
   ]
  },
  {
   "cell_type": "code",
   "execution_count": 119,
   "metadata": {},
   "outputs": [],
   "source": [
    "pid_tree_map = {}\n",
    "for idx, cur_row in df_trees.iterrows():\n",
    "    pid = cur_row[\"paper_id\"]\n",
    "    cur_tree = cur_row[\"important_segment_parsed_tree\"]\n",
    "    pid_tree_map[pid] = cur_tree"
   ]
  },
  {
   "cell_type": "code",
   "execution_count": null,
   "metadata": {},
   "outputs": [],
   "source": []
  },
  {
   "cell_type": "code",
   "execution_count": 120,
   "metadata": {},
   "outputs": [],
   "source": [
    "def plotTree(cur_pid):\n",
    "    cur_tree = pid_tree_map[cur_pid]\n",
    "    tree = Tree.fromstring(cur_tree)\n",
    "    display(tree)"
   ]
  },
  {
   "cell_type": "code",
   "execution_count": null,
   "metadata": {},
   "outputs": [],
   "source": [
    "plotTree(\"10.1177/2167702612472884\")"
   ]
  },
  {
   "cell_type": "code",
   "execution_count": null,
   "metadata": {},
   "outputs": [],
   "source": []
  },
  {
   "cell_type": "code",
   "execution_count": null,
   "metadata": {},
   "outputs": [],
   "source": []
  },
  {
   "cell_type": "code",
   "execution_count": 203,
   "metadata": {},
   "outputs": [
    {
     "name": "stdout",
     "output_type": "stream",
     "text": [
      "0    388\n",
      "1    320\n",
      "Name: label, dtype: int64 (708, 4)\n",
      "0    105\n",
      "1     73\n",
      "Name: label, dtype: int64 (178, 4)\n"
     ]
    }
   ],
   "source": [
    "train_path = \"../repr_claims/train.csv\"\n",
    "dev_path = \"../repr_claims/dev.csv\"\n",
    "\n",
    "df_train = pd.read_csv(train_path)\n",
    "df_dev = pd.read_csv(dev_path)\n",
    "print(df_train[\"label\"].value_counts(), df_train.shape)\n",
    "print(df_dev[\"label\"].value_counts(), df_dev.shape)"
   ]
  },
  {
   "cell_type": "code",
   "execution_count": null,
   "metadata": {},
   "outputs": [],
   "source": []
  }
 ],
 "metadata": {
  "kernelspec": {
   "display_name": "Python 3",
   "language": "python",
   "name": "python3"
  },
  "language_info": {
   "codemirror_mode": {
    "name": "ipython",
    "version": 3
   },
   "file_extension": ".py",
   "mimetype": "text/x-python",
   "name": "python",
   "nbconvert_exporter": "python",
   "pygments_lexer": "ipython3",
   "version": "3.7.4"
  }
 },
 "nbformat": 4,
 "nbformat_minor": 2
}
