{
 "cells": [
  {
   "cell_type": "code",
   "execution_count": 12,
   "metadata": {},
   "outputs": [],
   "source": [
    "import numpy as np\n",
    "import pandas as pd\n",
    "import matplotlib.pyplot as plt\n",
    "import json\n",
    "import os\n",
    "import rltk, re\n",
    "from collections import Counter\n",
    "from tqdm import tqdm\n",
    "import nltk\n",
    "import statistics\n",
    "from unidecode import unidecode\n",
    "import pdfquery\n",
    "\n",
    "%matplotlib inline"
   ]
  },
  {
   "cell_type": "code",
   "execution_count": null,
   "metadata": {},
   "outputs": [],
   "source": []
  },
  {
   "cell_type": "code",
   "execution_count": 3,
   "metadata": {},
   "outputs": [],
   "source": [
    "pdf_file_name = \"../s2orc-doc2json/tests/pdf/Abendroth_AmSocioRev_2014_G8Lr.pdf\"\n",
    "parsed_json_file_name = \"../s2orc-doc2json/tests/pdf/Abendroth_AmSocioRev_2014_G8Lr.json\""
   ]
  },
  {
   "cell_type": "code",
   "execution_count": 6,
   "metadata": {},
   "outputs": [],
   "source": [
    "claim_data_path = \"data/ta2_classify_folds/fold_full/data.json\""
   ]
  },
  {
   "cell_type": "code",
   "execution_count": 7,
   "metadata": {},
   "outputs": [],
   "source": [
    "with open(claim_data_path, \"r\") as f:\n",
    "    claim_data = json.load(f)"
   ]
  },
  {
   "cell_type": "code",
   "execution_count": 10,
   "metadata": {},
   "outputs": [],
   "source": [
    "target_claim_data = None\n",
    "for cur_claim in claim_data:\n",
    "    if cur_claim[\"pdf_filename\"] in pdf_file_name.split(\"/\")[-1]:\n",
    "        target_claim_data = cur_claim.copy()\n",
    "        break"
   ]
  },
  {
   "cell_type": "code",
   "execution_count": 33,
   "metadata": {},
   "outputs": [
    {
     "data": {
      "text/plain": [
       "{'title_CR': 'The Parity Penalty in Life Course Perspective',\n",
       " 'author_last_CR': 'Abendroth',\n",
       " 'author_first_CR': 'Anja-Kristin',\n",
       " 'pub_year_CR': 2014,\n",
       " 'DOI_CR': '10.1177/0003122414545986',\n",
       " 'ISSN_CR': '0003-1224',\n",
       " 'publication_CR': 'American Sociological Review',\n",
       " 'pub_short': 'AmSocioRev',\n",
       " 'publication_standard': 'American Sociological Review',\n",
       " 'paper_id': 'G8Lr',\n",
       " 'source_WOS': False,\n",
       " 'author_full': 'Abendroth, Anja-Kristin; Huffman, Matt L.; Treas, Judith',\n",
       " 'title_WOS': 'The Parity Penalty in Life Course Perspective: Motherhood and Occupational Status in 13 European Countries',\n",
       " 'publication_WOS': 'AMERICAN SOCIOLOGICAL REVIEW',\n",
       " 'language': 'English',\n",
       " 'keywords': 'motherhood penalty; occupational status; state policies; country comparative',\n",
       " 'keywords_plus': 'WAGE PENALTY; UNITED-STATES; WOMENS EMPLOYMENT; CAREER MOBILITY; WELFARE STATES; GENDER; WORK; SEGREGATION; GERMANY; JOB',\n",
       " 'abstract': \"Research documents a wage penalty for mothers compared to childless women. We demonstrate there is also an occupational status penalty to motherhood. Interrogating supply- and demand-side explanations of the motherhood penalty from the life course perspective, we formulate and test original hypotheses about the short-term and long-run career implications of parity-specific births. We analyze longitudinal data from the European Community and Household Panel for 13 European countries and eight time points between 1994 and 2001. Our fixed-effects models show that status losses for a first birth are not just short-term but accumulate over the career. The timing of a birth in a woman's life course matters only for older women, who experience a significant penalty to third births. Although the personal strategies that women use to minimize the career costs of motherhood (e. g., having only one child) prove ineffective, our cross-national evidence shows that public policies are linked to the motherhood penalty in occupational status.\",\n",
       " 'author_address': '[Abendroth, Anja-Kristin] Univ Bielefeld, D-33615 Bielefeld, Germany; [Huffman, Matt L.] Univ Calif Irvine, Irvine, CA 92717 USA; [Treas, Judith] Univ Calif Irvine, Ctr Demog & Social Anal, Irvine, CA 92717 USA',\n",
       " 'reprint_address': 'Abendroth, AK (reprint author), Univ Bielefeld, Fac Sociol, Univ Str 25, D-33615 Bielefeld, Germany.',\n",
       " 'author_email': 'anja.abendroth@uni-bielefeld.de',\n",
       " 'funding': 'European Science Foundation EUROCORES Programme HumVIB [460-08-163]; National Science Foundation [SES 0833010]',\n",
       " 'publisher': 'SAGE PUBLICATIONS INC',\n",
       " 'publisher_address': '2455 TELLER RD, THOUSAND OAKS, CA 91320 USA',\n",
       " 'ISSN_WOS': '0003-1224',\n",
       " 'eISSN': '1939-8271',\n",
       " 'pub_year_WOS': 2014.0,\n",
       " 'volume': '79.0',\n",
       " 'issue': '5.0',\n",
       " 'DOI_WOS': '10.1177/0003122414545986',\n",
       " 'WOS_category': 'Sociology',\n",
       " 'category': 'Sociology',\n",
       " 'accession_number': 'WOS:000342943200008',\n",
       " 'pg': '993-1014',\n",
       " 'author_last_WOS': 'Abendroth',\n",
       " 'author_first_WOS': 'Anja-Kristin',\n",
       " 'published': 'OCT 2014',\n",
       " 'pdf_filename': 'Abendroth_AmSocioRev_2014_G8Lr',\n",
       " 'claim2_abstract': 'Our  fixed-effects  models  show  that  status  losses  for  a  first  birth  are  not  just  short-term  but accumulate  over  the  career.',\n",
       " 'coded_claim2': 'Our  fixed-effects  models  show  that  status  losses  for  a  first  birth  are  not  just  short-term  but accumulate  over  the  career.',\n",
       " 'claim2_pg': '1',\n",
       " 'claim2_start': '2002',\n",
       " 'claim2_box': '(x1: 51.49 y1: 353.71) (x2: 166.66 y2: 370.02)',\n",
       " 'claim3a_concretehyp': 'Hypothesis 1: The motherhood penalty to occu-pational status will increase over a woman’s career  (demand-side  cumulative  disadvan-tage hypothesis)',\n",
       " 'coded_claim3a': 'Hypothesis 1: The motherhood penalty to occupational status will increase over a woman’s career (demand-side cumulative disadvantage hypothesis)',\n",
       " 'claim3a_pg': '5',\n",
       " 'claim3a_start': '2529',\n",
       " 'claim3a_box': '(x1: 264.00 y1: 139.96) (x2: 334.74 y2: 177.93)',\n",
       " 'claim3b_testspec': 'Dependent  variable.  Occupational  sta-tus  is  observed  over  the  eight  years  of  the survey and is measured with the International Socio-Economic  Index  (ISEI)  (Ganzeboom et al. 1992), as based on a woman’s two-digit code in the International Standard Classifica-tion  of  Occupations  (ISCO).  In  the  sample, occupational  status  ranges  from  16  to  74.5. For the few categories of the two-digit ISCO codes  that  ECHP  combined  for  confidential-ity reasons, we use the mean ISEI value of the two  combined  occupations.  When  not  cur-rently working, respondents are assigned their most  recent  occupational  status  score.  Thus, women  out  of  the  labor  force  with  a  birth  do not  register  the  immediate  status  loss  they might face if they had to work. Because occu-pational  status  immobility  during  a  leave period would likely underestimate short-term status  penalties,  we  address  this  problem  by controlling for career interruptions.Key  independent  variables. We  recon-struct  fertility  histories  based  on  information on  births  during  the  survey  and  on  children living  in  the  household  at  the  first  observa-tion.  We  use  two  time-varying  independent variables for motherhood.Parity-specific  births  are  measured  by three  dummy  variables  indicating  that  a woman had a first, second, or third child born during  the  survey.  We  do  not  consider  the  1 percent  of  births  that  were  fourth  or  higher  order. To ascertain birth order for a child born during  the  survey,  we  consider  not  only  this child and others born to the mother during the survey,  but  also  older  children  present  when the  household  was  first  observed.  A  parity-specific  dummy  variable  is  set  to  one  if  a woman had a child of that birth order and zero otherwise. Thus, the third child indicator cap-tures  the  association  of  a  third  birth  with  the occupational  status  trajectory,  given  the  first two  births  and  compared  to  the  situation before the birth of a third child.Parity-specific time since birth is recorded in  years  for  the  first,  second,  and  third  child born  before  or  during  the  survey.  This  varia-ble indicates whether the effect on a woman’s career  trajectory  for  a  child  of  given  parity remains  constant,  increases,  or  decreases  as the  child  ages.  Time  since  birth  is  calculated based  on  the  age  of  the  child  when  first observed. Thus, we know whether a birth has negative  consequences  for  occupational  sta-tus  developments  in  the  long-run  (i.e.,  for  as much as 24 years following a birth in the case of  a  mother  who  had  a  17-year-old  child  in the  first  wave  and  participated  in  all  eight surveys).  Time  since  birth  is  set  to  one  ini-tially for children born during the survey and updated annually thereafter. For women with-out children, time since birth is set to zero.Age  as  a  control  for  occupational status  trajectory.  Women’s  age  and  age-squared  are  time-varying  measures  that  con-trol  for  the  underlying  time  trajectory  for  all women’s  occupational  status.  To  test  for timing-of-birth differences in the motherhood occupational status penalty, we evaluate inter-actions  between  the  time-invariant  mother’s age at a given birth and the time-varying child parity. | we test our hypotheses with individual fixed-effects regression models predicting the change  in  respondents’  occupational  status over time. | Our  fixed-effects  models  allow  us  to  test whether  women’s  occupational  status  trajec-tories vary according to time-varying charac-teristics,  namely,  motherhood.  We  begin  by documenting  the  motherhood  occupational status  penalty.  With  age  and  its  square  con-trolling  for  the  overall  occupational  time  tra-jectory,  we  first  consider  the  average  change in occupational status associated with having a birth of given parity during the course of the survey. We then add parity-specific time since birth. With these additional controls, the first, second,  and  third  birth  indicators  provide estimates of the motherhood penalty to occu-pational  status  occurring  around  the  time  of each birth. A negative coefficient supports the demand-side cumulative disadvantage hypoth-esis  (Hypothesis  1).',\n",
       " 'coded_claim3b': 'The claim is tested using individual fixed-effects regression models predicting the change over time in respondents’ occupational status (measured with the International Socio-Economic Index (ISEI)). The focal model for the SCORE project is Model 2, which includes two time-varying independent variables for motherhood. Parity-specific births are measured by three dummy variables indicating that a woman had a first, second, or third child born during the survey. Parity-specific time since birth is recorded in years for the first, second, and third child born before or during the survey. This variable indicates whether the effect on a woman’s career trajectory for a child of given parity remains constant, increases, or decreases as the child ages. Women’s age and age-squared are time-varying measures that control for the underlying time trajectory for all women’s occupational status. ',\n",
       " 'claim3b_pg': '9 | 10 | 11',\n",
       " 'claim3b_start': '715 | 3625 | 357',\n",
       " 'claim3b_box': '(x1: 63.49 y1: 260.03) (x2: 277.18 y2: 553.94) | (x1: 280.33 y1: 488.40) (x2: 292.15 y2: 529.94) | (x1: 63.49 y1: 152.40) (x2: 136.02 y2: 361.94)',\n",
       " 'claim4_inftest': 'Time since Birth    First birth −.112* | But, how does the motherhood occupa-tional  status  penalty  change  as  a  child  ages? Because  the  immediate  cost  of  a  birth  may under-  or  over-estimate  its  long-run  impact, Model 2 controls for time since birth to inves-tigate  the  life  course  implications  of  having had  each  parity-specific  birth.  Importantly, time since the birth of the first child is statisti-cally  significant  and  negative,  indicating  that occupational  status  does  not  rebound  as  a child  grows  older.  In  fact,  if  higher-order births  are  controlled,  the  first  birth  penalty increases  as  a  child  grows  older.  With  each year since the first birth, the mother is penal-ized an extra .112 status points in addition to the .394 penalty around the birth itself. Thus, with  one  child  born  at  the  beginning  of  a 10-year  period,  occupational  status  is expected  to  increase  by  only  1.396  status points instead of 2.910 status points—that is, only  48  percent  of  the  gain  expected  in  the case of no birth.',\n",
       " 'coded_claim4': 'The coefficient on occupational status of time since the birth of the first child is statistically significant and negative (−.112, p < 0.05) indicating that occupational status does not rebound as a child grows older. In fact, if higher-order births are controlled, the first birth penalty increases as a child grows older. With each year since the first birth, the mother is penalized an extra .112 status points in addition to the .394 penalty around the birth itself. ',\n",
       " 'claim4_pg': '12 | 13',\n",
       " 'claim4_start': '934 | 128',\n",
       " 'claim4_box': '(x1: 51.49 y1: 321.60) (x2: 253.45 y2: 335.32) | (x1: 75.62 y1: 289.76) (x2: 114.78 y2: 547.31)',\n",
       " 'corr_author': 'Anja-Kristin Abendroth',\n",
       " 'corr_email': 'anja.abendroth@uni-bielefeld.de',\n",
       " 'version': 1,\n",
       " 'label': 0,\n",
       " 'Fold_Id': 5.0,\n",
       " 'content': [{'text': 'Occupational status increases over one’s career, driven by returns to human capital accumulation (Becker 1975; Mincer and Polachek 1974) and organizational mechanisms such as seniority rules and career ladders (Maume 1999; Rosenfeld 1992). Because women are largely responsible for household and caring tasks (Treas and Drobnič 2010), their career trajectories are also related to their family situations, including changes occasioned by the birth of a child. For example, research shows that motherhood hinders moves to jobs with higher occupational status\\nand prompts shifts to less demanding, lowerstatus jobs with fewer advancement prospects (Dex, Ward, and Joshi 2008). Following life course paradigms, a birth is not only an event\\naBielefeld University bUniversity of California-Irvine\\nCorresponding Author: Anja-Kristin Abendroth, Bielefeld University, Faculty of Sociology, Universitätsstraße 25, 33615 Bielefeld, Germany E-mail: anja.abendroth@uni-bielefeld.de'},\n",
       "  {'heading': 'Keywords',\n",
       "   'text': 'motherhood penalty, occupational status, state policies, country comparative\\ndemanding immediate occupational adjustments. It also precipitates a life status—motherhood—that may affect occupational development over an extended career (Elder and Giele 2009). In this article, we ask if motherhood is associated not merely with short-term costs but also long-run effects on occupational status. We also explore the important question of whether women can mitigate the career costs of motherhood or whether state intervention is necessary.\\nEmpirically, the family is linked to labor market outcomes in the growing body of survey and experimental research demonstrating that mothers experience a wage penalty (e.g., Budig and England 2001; Budig and Hodges 2010; Correll, Benard, and Paik 2007; Gangl and Ziefle 2009; Rippeyoung and Noonan 2012). In Norway and the United Kingdom, the motherhood wage penalty is partially due to the sorting of mothers and non-mothers into different occupations rather than to within-occupation pay differences (Gangl and Ziefle 2009; Petersen, Penner, and Høgnsnes 2010). In the United States, the subject of most research on this topic, the findings are mixed regarding whether job shifts into more poorly paid, mother-friendly occupations account for the motherhood wage penalty or whether employees in the same job are treated differently if they are mothers (Budig and England 2001; Budig and Hodges 2010; Gangl and Ziefle 2009). Although the wage penalty seems to work partly through occupational sorting, we know little about how motherhood affects occupational status trajectories, particularly in terms of long-run consequences over women’s careers.\\nFocusing on occupational status directs attention to considerations (e.g., the convenience of part-time work) that may lead mothers to accept jobs with lower wages or less prestige. Although changes in work hours help explain the motherhood wage penalty in the United States (Budig and England 2001; Waldfogel 1997), it is unclear whether this is due to the lower pay of part-time work within occupations or to moves to lower-status occupations that offer part-time jobs. Similarly, the labor force withdrawals that partly explain\\nthe motherhood wage penalty (Budig and England 2001; Budig and Hodges 2010; Staff and Mortimer 2012; Waldfogel 1997) may hinder income increases within an occupation or lead mothers to occupations with lower pay at re-entry. If only because occupations are apt to be implicated in the maternal wage penalty, attention to the career trajectory of occupational status is overdue in research on the motherhood penalty. Particularly if motherhood involves a long-run, rather than shortterm, penalty for the status of women’s paid work, this finding would broaden the concern with mothers’ employment disadvantage to job-related status rewards that are not strictly pecuniary (Ganzeboom, De Graaf, and Treiman 1992).\\nMotivated by a life course perspective on family dynamics and labor market outcomes, we draw on theories of human capital depreciation, occupational adjustment, and employer and institutionalized discrimination to explain the association between motherhood and occupational status developments over the life course. Based on these theoretical insights, we formulate and test a set of original hypotheses linking births to women’s occupational trajectories over a critical segment of the career. Our analysis is based on the richest available data, the European Community and Household Panel (ECHP) (Eurostat 1996), which covers 13 European countries and eight time points between 1994 and 2001. Including occupational and birth histories that predate the survey, we can study the long-run implications of motherhood. We focus on occupational status changes measured by the International Socio-Economic Index (ISEI) (Ganzeboom et al. 1992). Applying a stringent fixed-effects approach to panel data, we evaluate the occupational status penalty over an extended period while controlling for unobserved heterogeneity, which biases the results if important, unmeasured factors are omitted from analysis. This allows us to address critical unanswered questions about whether women can overcome the motherhood occupational status penalty over time or whether the negative consequences of motherhood compound over one’s career.\\nAt the national level, countries differ with respect to their motherhood wage penalty (Misra, Budig, and Moller 2007; SigleRushton and Waldfogel 2007), and national policies shape gender inequalities in the labor market (Gornick, Meyers, and Ross 1998; Mandel and Semyonov 2006; Uunk, Kalmijn, and Muffels 2005). Moreover, the motherhood penalty may vary over time, as in the case of Norway, where policy developments (e.g., publicly funded childcare) seem to have decreased the maternal wage effect (Petersen et al. 2010; Petersen, Penner, and Høgnsnes 2014). Given these issues, we capitalize on the cross-national ECHP data to produce new evidence on whether national-level policies can mitigate negative occupational outcomes associated with motherhood.\\nExpanding prior research on the motherhood penalty (e.g., Aisenbrey, Evertsson, and Grunow 2009; Dex et al. 2008; Grunow, Hofmeister, and Buchholz 2006), we make four major contributions. First, we demonstrate the implications of motherhood for another job reward—occupational status. Although the motherhood wage penalty has received the most attention, our focus on occupational status underscores that wages are only one of many likely costs associated with motherhood. Second, addressing the efficacy of fertility strategies that women use to mitigate the career costs of motherhood, we test theoretically motivated hypotheses on whether the motherhood occupational status penalty differs by parity between first and higher-order births. Third, by explicitly recognizing the life course dimension of occupational attainment, we evaluate outcomes over a longer term to determine whether occupational status eventually rebounds from the immediate impact of a birth or suffers an enduring, or even increasing, penalty. And, relatedly, we test whether the timing of a birth in a mother’s life course shapes her occupational status. Finally, by exploiting unique cross-national data, we show the importance of country context for women’s careers by evaluating two public policies (publicly funded childcare and family cash benefits) hypothesized to be consequential for the\\nlong-run motherhood penalty on women’s occupational achievement.'},\n",
       "  {'heading': 'THEOrETiCAL BACKgrOund', 'text': ''},\n",
       "  {'heading': 'Motherhood and Occupational Status',\n",
       "   'text': 'Supply-side theories emphasize the career costs associated with mothers’ employment behavior, while demand-side approaches stress the costs arising from workplace discrimination against mothers. Both perspectives predict that a birth will depress a woman’s occupational status. Prior research, although limited, is consistent with this expectation (Aisenbrey et al. 2009; Benard and Correll 2010; Correll et al. 2007; Dex et al. 2008; Jacobs 1999). Of interest to us are the long-term, life course implications of births and motherhood for women’s careers.\\nFollowing supply-side theories, motherhood retards occupational status by limiting human capital accumulation and thus job productivity (Filer 1985; Mincer and Polachek 1974). Employers hire and promote workers with employment experience and on-the-job training (Rosenbaum 1979a). Employment interruptions or periods of parttime work depress mothers’ occupational gains by fostering depreciation of employment skills and slowing the acquisition of job experience (Mincer and Polachek 1974). Indeed, mothers are more likely to work reduced hours (Rosenfeld and Birkelund 1995; Uunk et al. 2005; Van der Lippe 2001) and to interrupt employment, a practice institutionalized with maternal leaves (Baum 2002; Bruning and Plantenga 1999; Klerman and Leibowitz 1994). Some advanced industrialized countries, however, provide public childcare and leave arrangements (Plantenga and Remery 2005) that aid mothers’ return to employment, particularly when children are older and in school (Treas and Widmer 2000; Waldfogel, Higuchi, and Abe 1999).\\nFocusing on women’s preferences, another supply-side explanation emphasizes occupational adjustments or “compensating differentials” (Filer 1985). In other words, mothers may accept lower-status occupations to secure\\njobs that, being less demanding or part-time, are more compatible with family commitments. This argument suggests a retreat around the time of a birth from higher-status occupations involving longer hours and greater responsibilities, although these jobs might have greater flexibility to balance work and family life (Blank 1990). The empirical evidence is inconclusive. It is uncertain whether mothers’ occupations are actually less demanding and whether occupational adjustments drive the wage penalty (Budig and England 2001; Desai and Waite 1991; Glass 1990; Okamoto and England 1999).\\nWhether attributable to human capital or occupational adjustment mechanisms, career interruptions due to childcare demands do lead to lower occupational status when women return to work after a birth (Aisenbrey et al. 2009; Dex et al. 2008; Grunow et al. 2006; Staff and Mortimer 2012), especially if women take part-time jobs (Dex et al. 2008). Jacobs (1999) reports an upward trajectory in British women’s occupational status over time, but a decline for mothers employed part-time. As Blackwell (2001) confirms, changes from full- to part-time work are linked with downward mobility. Occupational adjustments toward less demanding work are apt to occur around the time of a birth, when the challenges of integrating work and family life peak (Byron 2005). As children age, women may advance their careers by working longer hours, taking on more responsibility, and pursuing on-thejob training. According to research on occupational status pre- and post-birth, there is an occupational status penalty around the time of birth (e.g., Aisenbrey et al. 2009; Grunow et al. 2006; Smeaton 2006), but few studies address the long-term occupational consequences of motherhood (Dex et al. 2008). Moreover, wages before and after a birth do not indicate whether the penalty is especially high around the time of a birth but declines as a child ages (Budig and England 2001; Budig and Hodges 2010; Waldfogel 1997). From the supply-side perspective, studies of the motherhood occupational status penalty may overstate the career effects of motherhood if they\\nonly consider the immediate consequences of a birth and ignore longer-term implications.\\nBoth human capital and occupational adjustment arguments imply that the penalty to motherhood will peak around the time of a birth, when work-family issues are most intense. To be sure, mothers are better positioned to intensify their work effort, augment job skills and experience, and shift to more demanding and higher-status work when children grow older and household responsibilities diminish (Anderson, Binder, and Krause 2003). However, it is difficult to compensate for the loss and depreciation of human capital over time. This implies that women are likely to improve their occupational status when children grow older, but they are unlikely to catch up after a career loss and achieve a similar occupational status trajectory as women without children.\\nDemand-side arguments offer an alternative explanation: mothers are less likely than childless women to work in high-status occupations, because employers view them as less productive, committed, and competent (Correll et al. 2007; England 2010). Even if mothers’ higher household demands do not affect their work, motherhood is a generalized status characteristic that affects performance expectations due to perceived conflicts between maternal and work roles (Ridgeway 1997). These perceptions may be triggered by the birth of a child or by simply having young children at home (Budig and England 2001; Gangl and Ziefle 2009). By varying the motherhood status of hypothetical job applicants, experiments document discrimination against mothers (Benard and Correll 2010; Correll et al. 2007). Survey results also attribute the negative association between births and wages (net of human capital) to employer discrimination (Budig and England 2001; Gangl and Ziefle 2009; Waldfogel 1997).\\nEven if employers’ perceptions of mothers were unbiased, institutionalized discrimination would impede mothers’ career progress. The clockwork of male careers fits poorly with women’s family responsibilities (Hochschild 1975). Occupations are age-graded (Lawrence 1984; Warr and Pennington 1994),\\nand early career mobility is important for later career advancement (Heinz et al. 2005; Rosenbaum 1979b). By the time a mother is in a position to prioritize work, she may have missed the chance to be labeled a “fast-track” employee, sat out the qualifying rounds in workplace contests of tournament mobility, and missed the normative deadlines (formal and informal) for training and promotion. Forgone opportunities are often unrecoverable, and occupational disadvantages accumulate over a career (Dannefer 1987).\\nIn contrast to supply-side arguments, demand-side perspectives regarding employer and institutionalized discrimination imply the accumulation of long-run costs to motherhood, even after children have grown older and less demanding. Borrowing life course terminology, motherhood could be described as a state with long-term consequences, rather than an event or transition with short-term implications. If motherhood is a generalized status characteristic, it may constitute a spoiled identity (Goffman 1963), forever branding a woman in employers’ eyes as less able, committed, hirable, and promotable. If motherhood sidelines women even briefly at critical career junctures, there may be no institutionalized roads back from the “mommy track” to the career ladder. In contrast to supply-side arguments, demand-side theories predict that the negative consequences of motherhood will increase over the long term due to the cumulative effects of forgone opportunities and missed promotions. Empirical evidence on longer-run effects of motherhood provides no definitive answer on whether occupational status continues to decline. Comparing the occupation following the first return to work after a birth with the most recent occupation, Dex and colleagues (2008) find downward occupational mobility, suggesting a lingering negative effect of motherhood for long-run careers. For earnings, however, they find support only for short-term consequences of a birth. Longer career interruptions are more negative for initial career re-entries than they are for longer-term wage prospects (Baum 2002),\\nand older children are associated with a smaller motherhood wage penalty than are younger children (Anderson et al. 2003). In line with demand-side arguments, we hypothesize the following:\\nHypothesis 1: The motherhood penalty to occupational status will increase over a woman’s career (demand-side cumulative disadvantage hypothesis).'},\n",
       "  {'heading': 'Parity and Timing Considerations',\n",
       "   'text': 'The magnitude of the motherhood penalty to occupational status likely depends on parity. The wage penalty increases with the number of children (Petersen et al. 2010; Taniguchi 1999; Waldfogel 1997). Women with more children at home also have a higher risk of downward occupational mobility when they return to work after an employment interruption (Aisenbrey et al. 2009). Studies do not address whether the career costs to each birth are equal, but we would expect the marginal career costs to higher-order births to be smaller than for the first birth. Major occupational adjustments will likely be made at the first birth when childcare responsibilities first arise. Similarly, employers may stereotype a mother as a deficient worker when the first child is born, with additional children having little effect on this perception. If a higherorder birth leads to additional depreciation of human capital, we might expect some status loss, but the consequences should be less dramatic than for a first birth. We thus hypothesize the following:\\nHypothesis 2: The motherhood penalty to occupational status will be larger for a first birth than for higher-order births (declining penalty with parity hypothesis).\\nAccording to the life course paradigm, an event’s significance depends on when in the life course it occurs (Elder and Giele 2009). The timing of a birth in a woman’s career may determine its effect on her occupational status trajectory. One might expect a stiffer penalty\\nfor early motherhood, because it coincides with the critical career-building stage. Women who opt to delay childbirth will have accumulated, on average, more work experience and will have more established careers (EspingAndersen 2009; Taniguchi 1999). Moreover, employers can use information on previous performance (rather than motherhood per se) to make inferences about the future productivity of late childbearers with established careers. U.S. women who have children earlier do seem to experience a higher wage penalty compared to late childbearers (Taniguchi 1999). Furthermore, Americans and Germans who have a birth in their 30s show fewer occupational status losses than do women who give birth in their 20s (Aisenbrey et al. 2009). Therefore, we anticipate the following:\\nHypothesis 3: The motherhood occupational status penalty for a birth will be smaller at older ages than at younger ages ( young mother penalty hypothesis).\\nAdditionally, parity effects should differ by mother’s age at a birth. We would expect the beneficial career effect of deferring a birth to an older age to be greater for the first birth than for higher-order births. The later the first birth in a woman’s life course, the longer her period of uninterrupted human capital accumulation and job experience will be. Given a later first birth, a woman is more likely to have achieved a springboard job offering further advancement and to have established a positive reputation as a worker (untainted by negative performance expectations for mothers). Net of first birth timing, higher-order births at older ages may have a particularly pernicious effect on mothers’ career achievements. At a time when older children’s demands are decreasing, higher-order late births reset the clock on intensive mothering responsibilities, requiring occupational adjustments and reminding employers of a woman’s master status as a mother. Thus, we anticipate the following:\\nHypothesis 4: At older ages, the motherhood occupational status penalty will be greater\\nfor higher-order births (age and birth order interaction hypothesis).'},\n",
       "  {'heading': 'Country-Level Differences',\n",
       "   'text': 'Countries differ in institutional context. Among the 13 countries we study, women’s labor force participation ranges from 44 percent in Italy to 75 percent in Denmark (see Table 1). Part-time employment ranges from 13 percent in Finland and Greece to 56 percent in the Netherlands. The occupational disadvantage for mothers compared to nonmothers ranges from a scant .28 occupational status points in Denmark to 7 points in Portugal.\\nAccording to welfare state typologies (Esping-Andersen 1990, 1999) and to crossnational analyses of female employment (Gornick and Meyers 2008; Stier, LewinEpstein, and Braun 2001), the state provides key support for employed mothers by implementing social policies that assist women in reconciling paid and unpaid work. Petersen and colleagues (2010) argue that the historical decrease in the motherhood wage penalty in Norway is likely due to the development of family-friendly policies, which reduce mothers’ human capital depreciation by promoting their employment. Data for 10 countries confirm that the motherhood wage penalty is smallest in the Scandinavian countries, where highly supportive state policies encourage women’s paid work (Misra et al. 2007).\\nEsping-Andersen (2009) points to the need for family-friendly policies that “defamilialize” caring responsibilities, allowing women to have children without sacrificing careers. Gornick and Meyers (2008) stress the relevance of early education and childcare policies that permit couples to share caregiving and breadwinning responsibilities. With implications for the degree of job skill depreciation, public childcare reduces the negative effect of a birth on mothers’ work hours (Uunk et al. 2005). Following the occupational adjustment argument, publicly funded childcare mitigates pressures on women to switch to lower-status, part-time employment to accommodate\\nchildcare needs. If public childcare promotes maternal employment, as Sigle-Rushton and Waldfogel (2007) argue, mothers with access to publicly funded childcare should see less human capital depreciation and thus experience less downward occupational mobility. From a demand-side perspective, public childcare might also reduce discrimination against mothers by countering expectations that childcare problems will negatively affect their job performance.\\nFollowing supply- and demand-side theories, the motherhood penalty to occupational status will be smaller where states provide public childcare. We do not anticipate that country-to-country differences in state spending on childcare will have a large effect on occupational status around the time of a birth, when most mothers are likely to stay home anyway to care for newborns. Mothers tend to return to work as children age. Thus, there\\nwill be less cross-national variation in the work status of mothers who have recently had a birth, compared to women for whom more time has passed and for whom parental leave and childcare policies will be more relevant. Therefore, our theoretical expectations focus on longer-term implications as children grow old enough to enter childcare and as cumulative career costs mount. This leads to our fifth hypothesis:\\nHypothesis 5: The long-run occupational status penalty to a birth will be smaller where states spend more on public childcare (childcare hypothesis).\\nWhile family-friendly in their intent, other state policies may increase the motherhood penalty to occupational status, particularly if they reduce mothers’ labor supply. If policies encourage mothers to interrupt employment\\nor to work part-time rather than full-time (Abendroth, Van der Lippe, and Maas 2012; Korpi 2000), this may translate into greater human capital depreciation and lost promotion opportunities, particularly in age-graded employment systems. These policies may thus stifle upward occupational mobility. As Mandel and Semyonov (2006) report, a woman’s likelihood of holding a management position is lower in countries with welldeveloped, female-friendly policies, and her likelihood of working in a female-typed occupation is higher. Family cash benefits reduce mothers’ economic incentives to work for pay, while allowing them to spend more time with their children. Indeed, family allowances partly offset the income losses due to parttime work (Rosenfeld and Birkelund 1995). Furthermore, cash transfers allowing mothers to stay home give greater visibility to the maternal role, which employers may assume compromises job performance. Transfers may thus inadvertently trigger employer discrimination against mothers (Mandel and Semyonov 2006; Mandel and Shalev 2009). If family allowances are one expression of a broader ideological system of beliefs about motherhood, we would expect the motherhood occupational status penalty to persist over the career. Supply- and demand-side arguments thus suggest the same hypothesis:\\nHypothesis 6: The long-run occupational status penalty to a birth will be greater where states spend more on family cash benefits (cash benefit hypothesis).\\nSummarizing the arguments about countrylevel policy predictors of the motherhood occupational status penalty, both supply- and demand-side perspectives suggest that public childcare will minimize the long-run occupational penalty by promoting more continuous and full-time employment and minimizing employer discrimination. Both theories also suggest that family allowances will be positively associated with occupational penalties for mothers, because cash benefits reduce mothers’ labor supply and indirectly promote\\ndiscrimination against mothers. Both hypotheses recognize the importance of the statemanaged life course in organizing life transitions and the allocation of time to different domains of activity (Mayer and Schoepflin 1989).\\ndATA And METHOdS We test our hypotheses by analyzing representative national samples from the European Community and Household Panel (ECHP) (Eurostat 1996; Verma and Clémenceau 1996). The ECHP is a multi-country survey recording individual and household information over eight waves (1994 to 2001). We analyze ECHP data for Austria (1995 to 2001 only), Belgium, Denmark, Finland (1996 to 2001), France, Germany (German SocioEconomic Panel Study), Greece, Ireland, Italy, the Netherlands, Portugal, Spain, and the United Kingdom (British Household Panel Study). For 1994 to 2001, all 13 countries were characterized by low total fertility rates, ranging from 1.19 in Spain to 1.91 in Ireland (see Table 1). Although access protocols have limited their use in cross-national analyses, these data are ideally suited to testing our hypotheses, because they provide observations on women’s occupations at multiple time points, as well as information on motherhood status and transitions, including parity-specific births and their timing.\\nWe omitted two countries from the analysis. Sweden did not have a panel design, and the Luxembourg sample was too small to compute reliable estimates. We began with 16,805 women who were age 18 to 40 years when first observed in the survey, lived in a couple household, and were followed from the first time they began working. Given our longitudinal analysis, we dropped 2,350 women (14 percent) because they were observed working in only one survey wave. Five outliers who reported a birth before age 14 were omitted, and 205 cases were lost because of inconsistent data on household membership or partnership status. We dropped 350 respondents who lacked information on\\nthe dependent variable, either reporting no occupational status or an ECHP-specific “miscellaneous” code that could not be assigned an ISEI score (2 percent). Key independent variables based on the household roster (e.g., a first birth) could not be imputed, because we could not identify as missing any never-listed household members. Missing data on working hours led to deletion of 280 respondents, but sensitivity tests showed no differences between results with listwise deletion and multiple imputation. The final sample analyzed contains 13,615 respondents. Women averaged over five observations each for a total of 70,562 person-years.\\nDependent variable. Occupational status is observed over the eight years of the survey and is measured with the International Socio-Economic Index (ISEI) (Ganzeboom et al. 1992), as based on a woman’s two-digit code in the International Standard Classification of Occupations (ISCO). In the sample, occupational status ranges from 16 to 74.5. For the few categories of the two-digit ISCO codes that ECHP combined for confidentiality reasons, we use the mean ISEI value of the two combined occupations. When not currently working, respondents are assigned their most recent occupational status score. Thus, women out of the labor force with a birth do not register the immediate status loss they might face if they had to work. Because occupational status immobility during a leave period would likely underestimate short-term status penalties, we address this problem by controlling for career interruptions.\\nKey independent variables. We reconstruct fertility histories based on information on births during the survey and on children living in the household at the first observation. We use two time-varying independent variables for motherhood.\\nParity-specific births are measured by three dummy variables indicating that a woman had a first, second, or third child born during the survey. We do not consider the 1 percent of births that were fourth or higher\\norder. To ascertain birth order for a child born during the survey, we consider not only this child and others born to the mother during the survey, but also older children present when the household was first observed. A parityspecific dummy variable is set to one if a woman had a child of that birth order and zero otherwise. Thus, the third child indicator captures the association of a third birth with the occupational status trajectory, given the first two births and compared to the situation before the birth of a third child.\\nParity-specific time since birth is recorded in years for the first, second, and third child born before or during the survey. This variable indicates whether the effect on a woman’s career trajectory for a child of given parity remains constant, increases, or decreases as the child ages. Time since birth is calculated based on the age of the child when first observed. Thus, we know whether a birth has negative consequences for occupational status developments in the long-run (i.e., for as much as 24 years following a birth in the case of a mother who had a 17-year-old child in the first wave and participated in all eight surveys). Time since birth is set to one initially for children born during the survey and updated annually thereafter. For women without children, time since birth is set to zero.\\nAge as a control for occupational status trajectory. Women’s age and agesquared are time-varying measures that control for the underlying time trajectory for all women’s occupational status. To test for timing-of-birth differences in the motherhood occupational status penalty, we evaluate interactions between the time-invariant mother’s age at a given birth and the time-varying child parity. We calculate mother’s age (in years) at the birth of the first, second, and third child. Age at birth receives the mean value of age at birth if no birth is observed, but its interaction term with the zero-coded no birth variable will be zero regardless of the age value. When controlling for parity-specific births and time since births, age and age-squared describe the occupational status developments of women\\nwithout children. Parity-specific births and time since a birth show how the occupational status trajectory of childless women is altered due to motherhood.\\nMotherhood occupational status penalty mechanisms. Although our hypotheses reflect demand-side logic, these data do not allow us to directly evaluate the demand-side discrimination explanations for the motherhood penalty to occupational status. Time-varying indicators speak to the supply-side mechanisms. Top coded at 70, total weekly working hours reflects the process of human capital accumulation as well as occupational adjustments. If a woman is not employed, hours are set to her previous work hours. The indicator career interruption considers time out of employment and thus a loss of work experience.\\nDescriptive statistics averaged over the waves appear in Table A1 in the Appendix. At the first observation, the average respondent was age 31. Among respondents, 78 percent had given birth to at least one child in the couple household. On average, women had their first birth at age 26. During the survey itself, 13 percent of women reported having a first birth, 12 percent a second, and 4 percent a third.\\nCountry context. Two time-varying indicators are available for each country in every survey year (OECD Statistics 2012). To measure policies facilitating maternal employment, we use public expenditures on formal daycare and home help services as a percentage of GDP. To measure policies enabling mothers to forgo employment (or at least full-time employment), we use annual public cash benefits to the family as a percentage of GDP. Table 1, which summarizes the indicators for the state policies, shows marked country-level differences in expenditures. Daycare spending ranges from .13 percent of GDP in Ireland to 1.81 percent in Denmark. Family cash benefits range from .29 percent in Spain to 2.45 in Austria.\\nThe family benefits variable includes expenditures on family allowances, leave\\nbenefits, and other cash benefits. Although supportive leave arrangements encourage women to eventually return to the labor market after a birth (Waldfogel et al. 1999), leaves also permit longer career interruptions (Pettit and Hook 2005), which mean greater human capital depreciation with negative implications for occupational advancement. Therefore, we classify leave expenditures with other family cash transfer policies that reduce women’s labor supply. While the expenditure measure captures both benefit levels and the duration of benefits (e.g., length of leaves), future efforts to disaggregate these policy influences would no doubt be worthwhile (Misra, Budig, and Boekmann 2011).\\nThe interaction between a country-level expenditure variable and a parity-specific birth assesses whether the country context has an impact on the motherhood penalty to occupational status around that birth. The interaction between the macro-level indicators and the time since a birth tests for hypothesized differences in the long-term consequences of motherhood between institutional country contexts. As a sensitivity test, lagging the two country indicators by one year did not produce different results.'},\n",
       "  {'heading': 'Statistical Models',\n",
       "   'text': 'Following previous research on the motherhood wage penalty (e.g., Budig and England 2001; Budig and Hodges 2010; Waldfogel 1997), we test our hypotheses with individual fixed-effects regression models predicting the change in respondents’ occupational status over time. Focusing only on within-individual variation, these longitudinal models control for all unmeasured, stable characteristics of individuals. This eliminates potential biases due to omitted, time-invariant factors (Allison 2005). Purged of these potentially confounding effects, our models provide stringent tests of within-person change (Castilla 2007), because they control for individuals’ unmeasured, stable characteristics that could affect occupational status. Also, the models control\\nfor an important source of endogeneity, the self-selection into motherhood based on stable characteristics. With adjusted standard errors to account for the clustering of individuals within countries, we estimated our models using the xtreg procedure (with the FE [fixed effects] option) in Stata 12.\\nOur fixed-effects models allow us to test whether women’s occupational status trajectories vary according to time-varying characteristics, namely, motherhood. We begin by documenting the motherhood occupational status penalty. With age and its square controlling for the overall occupational time trajectory, we first consider the average change in occupational status associated with having a birth of given parity during the course of the survey. We then add parity-specific time since birth. With these additional controls, the first, second, and third birth indicators provide estimates of the motherhood penalty to occupational status occurring around the time of each birth. A negative coefficient supports the demand-side cumulative disadvantage hypothesis (Hypothesis 1). The declining penalty with parity hypothesis (Hypothesis 2) is addressed in all models.\\nTo test the young mother penalty hypothesis (Hypothesis 3) about birth timing, we add interactions between age of the mother at parity-specific birth and birth order (first, second, and third). A positive interaction between age at birth and first, second, or third child would be consistent with the particular disadvantage of early childbearing. (Note that the main effects of age at birth are not included in these models, because fixed-effects models do not estimate the effects of time-invariant covariates). Differences by parity in the effects of age at birth address the age and birth order interaction hypothesis (Hypothesis 4), which anticipates particularly negative career consequences for higher-order births to older mothers. We then re-estimate the model to include only statistically significant interactions between age at birth and birth order. Although no direct measures of demand-side discrimination are available, we use career interruption and work hours to control for\\nsupply-side mechanisms proposed to explain occupational status declines.\\nFinally, national spending indicator interactions with parity-specific birth and with time since parity-specific birth test hypotheses regarding the relationship between state policies and short- and long-term consequences of motherhood (Hypotheses 5 and 6).\\nrESuLTS'},\n",
       "  {'heading': 'Motherhood and Occupational Status Developments',\n",
       "   'text': 'Table 2 presents results from our fixed-effects models predicting the trajectory of occupational status. Model 1 shows whether there are differences in occupational status before and after a child is born. The first, second, and third births observed are each associated with a statistically significant decrease in occupational status of about one-half point. The effect sizes are expectedly small, because our models address only over-time variation within respondents. However, they indicate relatively large status losses compared to the age coefficient for underlying status gains over time.\\nNet of having a first, second, or third birth, age captures the underlying time trend and shows an upward occupational status trajectory for women without children. As the agesquared term indicates, this trend flattens out slightly at older ages. It becomes essentially linear when time since birth is factored into Model 2. Controlling in Model 2 for parityspecific births and for the time elapsed since these births, the average woman’s occupational status increases by nearly three status points over a decade [(10 × .291) = 2.910], an increase congruent with research on women’s occupational mobility (e.g., Jacobs 1999). An increase of three ISEI points would constitute a modest status upgrade from a general office clerk (45 points) to a cashier or teller (48 points).\\nThe coefficients for parity-specific births and time elapsed since these births show how the described average occupational status increases of women are altered by births.\\nParity-specific births now indicate the motherhood occupational status penalty around a birth. But, how does the motherhood occupational status penalty change as a child ages? Because the immediate cost of a birth may under- or over-estimate its long-run impact, Model 2 controls for time since birth to investigate the life course implications of having had each parity-specific birth. Importantly, time since the birth of the first child is statistically significant and negative, indicating that occupational status does not rebound as a child grows older. In fact, if higher-order births are controlled, the first birth penalty increases as a child grows older. With each year since the first birth, the mother is penalized an extra .112 status points in addition to the .394 penalty around the birth itself. Thus, with one child born at the beginning of a 10-year period, occupational status is expected to increase by only 1.396 status points instead of 2.910 status points—that is, only 48 percent of the gain expected in the case of no birth. Figure 1 depicts these results. It shows the less favorable occupational status developments over 10 years for women with (line with squares) and without (line with triangles) a first birth.\\nA second birth is also associated with a drop in occupational status (line with circles). Having a second birth three years after the first birth would result in an occupational status increase of only .998 status points after\\n10 years [1.396 – .398 = .998], a scant 34 percent of the gain expected for women without any birth. As a second child grows older, we find no increase in the negative effect of this second birth, but neither do we find a weakening effect. Given a first birth, the negative consequences of a second child seem to date to its birth and remain constant over time. There are no significant effects for a third birth. In short, at least for first births, we find evidence for the cumulative disadvantage hypothesis of increasing penalties (Hypothesis 1).\\nDoes the motherhood occupational status penalty differ between first and higher-order births? All five models are relevant to Hypothesis 2, which posits a declining penalty with higher parity. This declining penalty is not seen for second births, which do not show a smaller overall penalty to occupational status than do first births (Models 2 and 4). Unless a mother is older, the penalty to a third birth is not statistically significant, providing limited evidence for the hypothesis. Only for the first child does the penalty increase over time, consistent with the declining penalty with parity hypothesis, which pointed to the first birth as particularly important for status loss. Based on evidence for the first child, the critical distinction is between mothers and nonmothers, not between women who differ in their number of children. These conclusions show the importance of considering\\nlong-term consequences of a birth. Based on Model 1, which omits time since birth, we would have concluded that the occupational status penalty increases with each additional birth. Model 2 shows that the larger coefficients for the second and third births in Model 1 are accounted for by increases in the negative consequences of a first birth over time.\\nIn Model 3, the interaction terms between mother’s age and first, second, and third births indicate the relevance of the timing of motherhood in the life course. These results are surprising. Contrary to the young mother penalty hypothesis (Hypothesis 3), the effects of first and second births do not vary significantly with mother’s age at the birth. Consistent with the age and birth order interaction hypothesis (Hypothesis 4), however, there is a penalty when a third child is born later in a mother’s career. Dropping non-significant interactions, Model 4 reaffirms the negative status implications of merely having had a first or second birth.\\nModel 5 controls for career interruptions and work hours, which capture supply-side explanations for the motherhood penalty to occupational status. Not surprisingly given the marginalization of part-time employment, an increase in work hours is associated with an increase in occupational status. Moreover, career interruptions have negative consequences for women’s occupational status. The effects of first and second births cease to be statistically significant when supply-side factors are controlled. This suggests that reductions in work hours and the loss of work experience are responsible for the immediate status decline associated with a birth. As Model 5 shows, the negative effects seen in Model 4 for having first and second births are completely explained by mothers’ shifts into jobs with shorter work hours and by loss of experience due to career interruptions. Although work hours and career interruptions account for downward mobility at the time of a birth, there is no attenuation in the increasingly negative effect of a first birth over the life course. Although the direct penalty of becoming a mother may reflect occupational adjustments in work hours, the long-run\\npenalty shown by time since birth cannot be explained by these initial adjustments or by a depreciation of human capital with lost work experience. Unmeasured employer and institutional discrimination may explain the increasing motherhood occupational status penalty to a first birth over time.\\nSensitivity tests gauge the stability of our results. Although our sample sizes are too small for reliable estimates of parity-specific births within each country, we re-estimated Model 2 omitting one country at a time (results not shown). Dropping France or Italy increased the statistical significance of the effect of time since birth, implying that negative long-term consequences are less characteristic of these countries. France has high state expenditures on daycare and home help services, and French families often use home help services, which are more flexible than public-funded childcare. The relevance of these expenditures will be tested in the country comparative analysis (see Table 3). Italian women are more likely to drop out of the labor market, as indicated by their relatively low labor force participation rates in Table 2. We likely underestimate the long-term occupational status penalty of motherhood in Italy, because we do not consider women who leave employment altogether. In contrast, when the Netherlands is omitted, the coefficient for time since birth for the first child becomes statistically non-significant. This does not mean the negative long-term consequences seen for a first birth are due only to the experience of Dutch women. In additional analyses, deleting not only the Netherlands but also France or Italy (which suppress the effect of time since birth) leads to a statistically significant effect ( p < .05). Furthermore, the immediate effect of a first birth becomes smaller and no longer statistically significant. In the three omitted countries compared to the others, women either return early from a leave period or not at all, behavior likely accounting for their deviation from the general pattern for first births.\\nIn summary, the sensitivity tests suggest that country contexts may amplify or reduce\\nthe occupational status penalty associated with motherhood. In light of country-to-country variation, it is important to specify the influence of country context, focusing particularly on indicators of national policy that likely affect mothers’ labor force behavior. Therefore, we turn to analysis of country-level public expenditures on childcare and family cash benefits.'},\n",
       "  {'heading': 'Country-Level Differences',\n",
       "   'text': 'The model presented in Table 3 estimates effects of institutional context on the occupational status motherhood penalty. The model includes interactions between individual and country characteristics. Therefore, the main effects of a parity-specific birth and the time since a parity-specific birth can be interpreted as the motherhood penalty to occupational status in countries with average expenditures on both daycare and family cash benefits.\\nModel 1 incorporates these benefit expenditures. At first birth, mothers in countries with average spending suffer a penalty of .316 status points, which increases over time by .154 status points each year. For a second child, we see a motherhood occupational status penalty in average countries of .321 status points around the birth, but no evidence of a penalty at the third birth.\\nAs we argued, country expenditures have no effect on the status penalty surrounding a birth, as indicated by the non-significant interactions of parity and the country-level spending variables. Long-run consequences are a different story—at least for public daycare spending. As hypothesized, there is a positive interaction between time since a first birth and daycare expenditures, indicating that higher childcare spending is associated with a rebound in occupational status over time. In countries with greater public spending on childcare, having a first birth has less severe consequences over one’s career, compared to countries with average or lower expenditures. Ten years after a first birth, we would expect an occupational penalty of less than one status point [−.316 + (10 × −.154) +\\n(10 × .071 × 1.51) = −.784] in a country with the highest expenditures on daycare; 1.9 status points [−.316 + (10 × −.154) = −1.856] in a country with average expenditures; and 2.2 status points in a country with the lowest expenditures [−.316 + (10 × −.154) + (10 × .071 × −.51) = 2.218]. At least for the first birth, these results are consistent with Hypothesis 5, which predicted smaller long-run career penalties to births in states that invest more in public childcare. That hypothesis was predicated on the argument that public childcare would benefit mothers’ occupational status by increasing their labor supply.\\nIn contrast to the results for state childcare spending, the status penalties associated with family cash benefit expenditures do not indicate that the long-term consequences of a first birth are more severe in countries with higher spending. The negative interaction between time since first birth and spending on family cash benefits, as anticipated by Hypothesis 6, falls short of statistical significance at the .05 level. Although this result should be interpreted cautiously, there is certainly no evidence of a protective effect of family cash benefits for mothers’ occupational status.\\nInformation on a small set of countries over a relatively short time period cannot support sweeping or definitive conclusions regarding the impact of state policy on the motherhood penalty in occupational status. Although beyond the scope of this article, a finer-grained analysis of countries and policies would help determine whether spending on public childcare and family cash benefits has the same implications for women’s occupational status in all countries. Nonetheless, our results point to public initiatives to enable mothers’ employment, especially public support of childcare, as a promising direction for further analyses.\\ndiSCuSSiOn And'},\n",
       "  {'heading': 'COnCLuSiOnS',\n",
       "   'text': 'This study investigated the relevance of births for women’s occupational status developments in 13 European countries. Because our'},\n",
       "  {'heading': 'Variables B', 'text': ''},\n",
       "  {'heading': 'Variables B',\n",
       "   'text': 'Source: ECHP, 1994 to 2001. Note: Age, age at birth, and public expenditures centered around the mean. Minimum and maximum for centered daycare expenditures = –.51 and 1.51, respectively, and for centered cash benefit expenditures = –.98 and 1.38. Standard errors are in parentheses. *p < .05; **p < .01; ***p < .001 (one-tailed test for directional hypotheses).\\nmodels control for stable individual characteristics, a major source of self-selection into motherhood, we offer a stringent test of theoretically motivated hypotheses about the motherhood occupational status penalty over the life course. Capitalizing on rich crossnational and longitudinal data, our analysis makes four important contributions.\\nFirst, complementing research on the motherhood wage penalty, we find that motherhood exacts a cost in terms of women’s occupational status. At least for the first and second child, a birth depresses mothers’ occupational status trajectories compared to that of childless women. This suggests that the motherhood wage penalty is at least partly related to the fact that mothers’ occupational trajectories differ from that of non-mothers, and the wage penalty is not simply related to different treatments of women with and without children within one occupation.\\nSecond, we demonstrate that the motherhood occupational status penalty to a birth differs by parity. Consistent with the declining penalty with parity hypothesis, the first birth is the most damaging, and marginal status costs of motherhood decline with parity. Other research shows a stiffer motherhood occupational status penalty for women with more children compared to those with fewer (e.g., Petersen et al. 2010), but our study addresses the relative costs of each birth. Given that some women consciously limit fertility to one child to minimize motherhood’s career costs, this finding on the steep cost to a first birth merits serious attention.\\nThird, taking a life course perspective, we demonstrate that motherhood has both shortand long-term costs. Supporting the cumulative disadvantage hypothesis, the findings show that the passage of time does not compensate for the negative consequences of a first birth: occupational status losses accumulate as the first child grows older. Thus, motherhood is not merely a transitory event leading to direct occupational status costs: it is also an enduring life state compounding status loss over a much longer period (Elder and Giele 2009). For the second birth, occupational penalties do not worsen over time, but occupational status does not rebound. This continuing cost of motherhood calls into question the popular idea that women can make up for career losses associated with young children with additional dedication to work when their children are older.\\nAdditionally, our findings do not support the young mother penalty hypothesis. This undermines the belief that career costs are generally minimized by postponing births until careers are more established. However harmful first and second births may be for occupational status, their timing in the life course does not seem to matter for European women. Because we observe changes over women’s careers, rather than simply comparing early and late childbearers, our conclusion is decidedly less optimistic about the benefits of late birth timing than the conclusions reached by Taniguchi (1999) and Aisenbrey\\nand colleagues (2009). As the age and birth order interaction hypothesis asserted, timing does matter at higher parity. Merely having a third birth does not trigger a status loss, but having a third child at an older age is associated with an occupational status setback compared to other women. These late births reset the family clock for women whose other children may no longer require intensive care—no doubt demanding new occupational adjustments and reminding the employer of impediments to the mother’s productivity. A third birth presents older mothers with disadvantages more typically associated with a first birth.\\nFourth, demonstrating an instance of state management of the life course, we offer the first explicit cross-national evidence of public policy implications for the motherhood penalty to occupational status. Given the demonstrated limits to personal agency and individual solutions in mitigating the costs of motherhood, the impact of country context is of particular interest. While undoubtedly sensitive to the countries available for analysis, the evidence suggests that the motherhood occupational status penalty is lower in European countries where expenditures on public childcare are higher. Presumably, with public childcare, women have less need to switch to family-friendly, but lower status, occupations after a birth. Mothers need fewer workplace accommodations, job performance is not compromised by childcare problems, and employers have less incentive to discriminate against mothers. We anticipated that family cash benefits would subsidize mothers’ employment withdrawals and encourage employer discrimination by calling attention to women’s caregiver role (Mandel and Semyonov 2006), but these policies did not seem to exacerbate the motherhood penalty for occupational status.\\nParalleling the substantive contributions, we also advance sociological understanding of the motherhood penalty. To formulate our five original hypotheses, we integrated life course theory—with its attention to the timing and long-run consequences of life\\nevents—with the demand- and supply-side explanations that are widely invoked to account for mothers’ employment disadvantages. On the supply-side, we find support for the occupational adjustment argument that after a birth, women work fewer hours, perhaps settling for lower-status occupations where part-time work is more readily available. Following the human capital supply-side argument, we also find that mothers’ occupational status seems to suffer because they fall behind in accumulating years of work experience due to career interruptions. Controlling for these two supply-side variables accounts for the short-run status penalties around the time of births, but it does not explain the increasing penalty to a first birth over the life course. We lack data to directly test the demand-side theories of employer and institutional discrimination against mothers, but our results are consistent with hypotheses based, in part, on demand-side arguments. Nothing in our analysis eliminates discrimination as a plausible explanation for the long-run career costs of motherhood.\\nOur results leave unanswered other important questions, such as whether the occupational status costs of motherhood are borne equally across social classes and the extent to which particular occupations are at higher risk of negative outcomes. If the effect of motherhood depends on occupational status before a birth, floor and ceiling effects may apply. Considering additional occupational characteristics would allow tests of alternative explanations of the motherhood penalty to occupational status. Direct evidence on employer and institutional discrimination would be especially useful. In addition, a comparison between men and women would indicate the extent to which the motherhood\\npenalty to occupational status explains persistent gender inequalities in occupational trajectories (Petersen et al. 2014). Finally, there is a need for further analysis of the countryto-country generalizability of the life course pattern we identify in the occupational status penalty to motherhood. For example, it remains to be seen whether the irrelevance of mother’s age at birth in this European sample translates to the United States, which is characterized by greater inequality, more unplanned births, and more teenage mothers.\\nComplementing and extending previous work, we show that motherhood exacts a cost in occupational status as well as wages. Because we must exclude women with the worst job prospects (those who have not yet returned to work after a lengthy period), ours is a conservative test of the hypothesis that motherhood negatively affects occupational status. In emphasizing a life course perspective on the motherhood penalty to occupational status, we demonstrate the importance of distinguishing different parities and considering the long-term consequences of motherhood. Births are not only associated with an immediate shock to occupational status, but also involve continuing status losses. Focusing on the immediate implications of a birth, previous studies likely underestimate the long-run career costs of motherhood. Not only is there no reprieve over time from the motherhood penalty to occupational status, but it is the first birth that inflicts the most career damage. Because of the limited efficacy of individual career strategies of limiting fertility to one child, delaying births, and playing career catch-up after children are older, country-level policies that level the playing field for mothers remain an important issue.'},\n",
       "  {'heading': 'APPEndix',\n",
       "   'text': 'Table A1. Descriptive Statistics for Individual and Country Variables\\nMean SD % Range\\nRespondent Characteristics (N = 13,615) Mean age at first observation 31.00 Child ever born into household First birth during survey 13 Ever had first birth 78 Second birth during survey 12 Ever had second birth 54 Third birth 4 Ever had third birth 13 Mean observations per person 5.20\\nPerson-Year Observations (N = 70,562) Dependent variable Occupational status (ISEI) 45.54 13.60 16–74.50 Independent variables Age 34.80 5.81 18–47 Child born into household First birth .78 0–1 Second birth .54 0–1 Third birth .13 0–1 Time since birth in years First birth 9.17 7.42 0–30 Second birth 5.35 6.42 0–29 Third birth 1.06 3.28 0–25 Age at birth First birth 25.71 4.18 14–49 Second birth 28.67 3.47 15–49 Third birth 31.29 1.71 18–46 Supply-side mechanisms Weekly paid work hours 33.44 12.15 1–70 Career interruption 10\\nCountry Context Variables (N = 101) Public daycare expenditures (% GDP) .49 .46 0–2.02 Public family cash benefits (% GDP) 1.18 .59 .28– 2.63\\nSources: ECHP, 1994 to 2001; OECD Statistics 2012.'},\n",
       "  {'heading': 'Acknowledgments',\n",
       "   'text': 'We would like to thank Tanja van der Lippe, Ineke Maas, Andrew Penner, Carsten Sauer, Tom Snijders, and Kristin Turney for their valuable comments on earlier drafts. We benefitted from helpful suggestions from participants in the Population, Society, and Inequality Seminar at the University of California-Irvine, the 2010 “Comparing European Countries: Multi-level, Cross-time” workshop in Hamburg, and the 2011 RC28 Annual Meeting in Essex. We are also indebted to the ASR editors and anonymous reviewers for their exceptionally detailed and constructive comments and suggestions.'},\n",
       "  {'heading': 'Funding',\n",
       "   'text': \"This work was supported by European Science Foundation EUROCORES Programme HumVIB (grant number 460-08-163) and by the National Science Foundation (# SES 0833010).\\ndata note Eurostat, the provider of the data used, has no responsibility for the results and conclusions we report.\\nreferences Abendroth, Anja-Kristin, Tanja Van der Lippe, and Ineke\\nMaas. 2012. “Social Support and the Working Hours of Employed Mothers in Europe.” Social Science Research 41(3):581–97. Aisenbrey, Silke, Marie Evertsson, and Daniela Grunow. 2009. “Is There a Career Penalty for Mothers’ Time Out? A Comparison of Germany, Sweden and the United States.” Social Forces 88(2):573–605. Allison, Paul D. 2005. Fixed Effects Regression Methods for Longitudinal Data Using SAS. Cary, NC: SAS Institute. Anderson, Deborah J., Melissa Binder, and Kate Krause. 2003. “The Motherhood Wage Penalty Revisited: Experience, Heterogeneity, Work Effort and Work Schedule Flexibility.” Industrial and Labor Relations Review 56(2):273–94. Baum, Charles L. 2002. “The Effect of Work Interruptions on Women’s Wages.” Labour l6(1):l–37. Becker, Gary S. 1975. Human Capital: A Theoretical and Empirical Analysis, with Special Reference to Education. New York and London: Columbia University Press. Benard, Stephen and Shelley J. Correll. 2010. “Normative Discrimination and the Motherhood Penalty.” Gender & Society 24(5):616–46. Blackwell, Louisa. 2001. “Occupational Sex Segregation and Part-Time Work in Modern Britain.” Gender, Work and Organization 8(2):146–63. Blank, Rebecca. 1990. “Are Part-Time Jobs Bad Jobs?” Pp. 123–55 in A Future of Lousy Jobs? The Changing Structure of U.S. Wages, edited by G. Burtless. Washington, DC: Brookings Institute.\\nBruning, Gwennaele and Janneke Plantenga. 1999. “Parental Leave and Equal Opportunities: Experiences in Eight European Countries.” Journal of European Policy 9(3):195–209. Budig, Michelle J. and Paula England. 2001. “The Wage Penalty for Motherhood.” American Sociological Review 66(2):204–225. Budig, Michelle J. and Melissa J. Hodges. 2010. “Differences in Disadvantage: Variations in the Motherhood Penalty across White Women’s Earnings Distribution.” American Sociological Review 75(5):705–728. Byron, Kristin. 2005. “A Meta-Analytic Review of WorkFamily Conflict and its Antecedents.” Journal of Vocational Behavior 67(2):169–98. Castilla, Emilio. 2007. Dynamic Analyses in the Social Sciences. London: Academic Press. Correll, Shelley J., Stephen Benard, and In Paik. 2007. “Getting a Job: Is There a Motherhood Penalty?” American Journal of Sociology 112(5):1297–1338. Dannefer, Dale. 1987. “Aging as Intercohort Differentiation: Accentuation, the Matthew Effect, and the Life Course.” Sociological Forum 2(2):211–36. Desai, Sonalde and Linda J. Waite. 1991. “Women’s Employment during Pregnancy and after the First Birth: Occupational Characteristics and Work Commitment.” American Sociological Review 56(4):551–626. Dex, Shirley, Kelly Ward, and Heather Joshi. 2008. “Changes in Women’s Occupations and Occupational Mobility over 25 Years.” Pp. 54–80 in Women and Employment: Changing Lives and New Challenges, edited by J. Scott, S. Dex, and H. Joshi. Cheltenham, UK: Edward Elgar. Elder, Glen H., Jr. and Janet Z. Giele. 2009. “Life Course Studies: An Evolving Field.” Pp. 1–24 in The Craft of Life Course Research, edited by G. H. Elder Jr. and J. Z. Giele. New York: Guilford. England, Paula. 2010. “The Gender Revolution: Uneven and Stalled.” Gender and Society 24(2):149–66. Esping-Andersen, Gosta. 1990. The Three Worlds of Welfare Capitalism. Cambridge, UK: Polity Press. Esping-Andersen, Gosta. 1999. Social Foundations of Postindustrial Economies. New York: Oxford University Press. Esping-Andersen, Gosta. 2009. The Incomplete Revolution: Adapting to Women’s New Roles. Cambridge, UK: Polity Press. Eurostat. 1996. European Community and Household Panel (ECHP): Survey Methodology and Implementation. Luxembourg: Office for Official Publications of the European Communities. Filer, Randall K. 1985. “Occupational Segregation, Compensating Differentials and Comparable Worth.” Pp. 153–76 in Pay Equity: Empirical Inquiries, edited by R. T. Michael, H. I. Hartmann, and B. O’Farrell. Washington, DC: National Academy Press. Gangl, Markus and Andrea Ziefle. 2009. “Motherhood, Labor Force Behavior, and Women’s Careers: An Empirical Assessment of the Wage Penalty for Motherhood in Britain, Germany, and the United States.” Demography 46(2):341–69.\\nGanzeboom, Harry B. G., Paul M. De Graaf, and Donald J. Treiman. 1992. “A Standard International SocioEconomic Index of Occupational Status.” Social Science Research 21(1):1–56. Glass, Jennifer. 1990. “The Impact of Occupational Segregation on Working Conditions.” Social Forces 68(3):779–96. Goffman, Erving. 1963. Stigma: Notes on the Management of Spoiled Identity. Englewood Cliffs, NJ: Prentice Hall. Gornick, Janet C. and Marcia K. Meyers. 2008. “Creating Gender Egalitarian Societies: An Agenda for Reform.” Politics & Society 36(3):313–49. Gornick, Janet C., Marcia K. Meyers, and Katherin E. Ross. 1998. “Public Policies and the Employment of Mothers: A Cross-National Study.” Social Science Quarterly 79(1):36–54. Grunow, Daniela, Heather Hofmeister, and Sandra Buchholz. 2006. “Late 20th-Century Persistence and Decline of the Female Homemaker in Germany and the United States.” International Sociology 21(1):101–131. Heinz, John P., Robert L. Nelson, Rebecca L. Sandefur, and Edward O. Laumann. 2005. Urban Lawyers: The New Social Structure of the Bar. Chicago: University of Chicago Press. Hochschild, Arlie. 1975. “Inside the Clockwork of Male Careers.” Pp. 47–80 in Women and the Power to Change, edited by F. Howe. San Francisco: McGrawHill. Jacobs, Sheila. 1999. “Trends in Women’s Career Patterns and in Gender Occupational Mobility in Britain.” Gender, Work and Organization 6(1):32–46. Klerman, Jacob A. and Arleen Leibowitz. 1994. “The Work-Employment Distinction among New Mothers.” The Journal of Human Resources 29(2):277–303. Korpi, Walter. 2000. “Faces of Inequality: Gender, Class, and Patterns of Inequalities in Different Types of Welfare States.” Social Politics 7(2):127–91. Lawrence, Barbara S. 1984. Age Grading: The Implicit Organizational Timetable. Cambridge, MA: Alfred P. Sloan School of Management. Mandel, Hadas and Moshe Semyonov. 2006. “A Welfare State Paradox: State Interventions and Women’s Employment Opportunities in 22 Countries.” American Journal of Sociology 111(6):1910–49. Mandel, Hadas and Michael Shalev. 2009. “How Welfare States Shape the Gender Pay Gap: A Theoretical and Comparative Analysis.” Social Forces 87(4):1873– 1912. Maume, David J. 1999. “Occupational Segregation and the Career Mobility of White Men and Women.” Social Forces 77(4):1433–59. Mayer, Karl Ulrich and Urs Schoepflin. 1989. “The State and the Life Course.” Annual Review of Sociology 15:187–209. Mincer, Jacob and Solomon Polachek. 1974. “Family Investments in Human Capital: Earnings of Women.” Journal of Political Economy 82(2):76–108.\\nMisra, Joya, Michelle J. Budig, and Irene Boekmann. 2011. “Work-Family Policies and the Effects of Children on Women’s Employment and Wages.” Community, Work & Family 14(2):139–57. Misra, Joya, Michelle J. Budig, and Stephanie Moller. 2007. “Reconciliation Policies and the Effects of Motherhood on Employment, Earnings and Poverty.” Journal of Comparative Policy Analysis 9(2):135–55. OECD Statistics. 2012. OECD.StatsExtracts. Retrieved January 15, 2012 (http://stats.oecd.org/Index.aspx? DatasetCode=LFS_SEXAGE_I_R). Okamoto, Dina and Paula England. 1999. “Is There a Supply Side to Occupational Sex Segregation?” Sociological Perspectives 42(4):557–82. Petersen, Trond, Andrew M. Penner, and Geir Høgnsnes. 2010. “The Within-Job Motherhood Wage Penalty in Norway, 1979–1996.” Journal of Marriage and Family 72(5):1274–88. Petersen, Trond, Andrew M. Penner, and Geir Høgnsnes. 2014. “From Motherhood Penalties to Husband Premia: The New Challenge for Gender Equality and Family Policy, Lessons from Norway.” American Journal of Sociology 119(5):1434–72. Pettit, Becky and Jennifer L. Hook. 2005. “The Structure of Women’s Employment in Comparative Perspective.” Social Forces 84(2):797–801. Plantenga, Janneke and Chantal Remery. 2005. Reconciliation of Work and Private Life: A Comparative Review of Thirty Countries. Synthesis report prepared by the Group of Experts on Gender, Social Inclusion and Employment for the Unit Equality for Women and Men. Directorate-General Employment, Social Affairs and Equal Opportunities, European Commission. Ridgeway, Cecilia L. 1997. “Interaction and the Conservation of Gender Inequality: Considering Employment.” American Sociological Review 62(2):218–35. Rippeyoung, Phyllis L. F. and Mary C. Noonan. 2012. “Is Breastfeeding Truly Cost Free? Income Consequences of Breastfeeding for Women.” American Sociological Review 77(2):244–67. Rosenbaum, James E. 1979a. “Organizational Career Mobility: Promotion Chances in a Corporation during Periods of Growth and Contraction.” American Journal of Sociology 85(1):21–48. Rosenbaum, James E. 1979b. “Tournament Mobility: Career Patterns in a Corporation.” Administrative Science Quarterly 24(2):220–41. Rosenfeld, Rachel A. 1992. “Job Mobility and Career Processes.” Annual Review of Sociology 18(2):39–61. Rosenfeld, Rachel A. and Gunn E. Birkelund. 1995. “Women’s Part-Time Work: A Cross-National Comparison.” European Sociological Review 11(2):111–34. Sigle-Rushton, Wendy and Jane Waldfogel. 2007. “Motherhood and Women’s Earnings in Anglo-American, Continental European, and Nordic Countries.” Feminist Economics 13(2):55–91. Smeaton, Deborah. 2006. “Work Return Rates after Childbirth in the UK – Trends, Determinants and Implications: A Comparison of Cohorts Born in 1958\\nand 1970.” Work, Employment and Society 20(1):5– 25. Staff, Jeremy and Jeylan T. Mortimer. 2012. “Explaining the Motherhood Wage Penalty during the Early Occupational Career.” Demography 49(1):1–21. Stier, Haya, Noah Lewin-Epstein, and Michael Braun. 2001. “Welfare Regimes, Family Supportive Policies and Women’s Employment along the Life-Course.” American Journal of Sociology 106(6):1731–60. Taniguchi, Hiromi. 1999. “The Timing of Childbearing and Women’s Wages.” Journal of Marriage and the Family 61(4):1008–19. Treas, Judith and Sonja Drobnič. 2010. Dividing the Domestic: Women, Men and Household Work in Cross-National Perspective. Stanford, CA: Stanford University Press. Treas, Judith and Eric Widmer. 2000. “Married Women’s Employment over the Life Course: Attitudes in CrossNational Perspective.” Social Forces 79(4):1409–36. Uunk, Wilfred, Matthijs Kalmijn, and Ruud Muffels. 2005. “The Impact of Young Children on Women’s Labour Supply: A Reassessment of Institutional Effects in Europe.” Acta Sociologica 48(1):41–62. Van der Lippe, Tanja. 2001. “The Effect of Individual and Institutional Constraints on Hours of Paid Work of Women: An International Comparison.” Pp. 221–43 in Women’s Employment in a Comparative Perspective, edited by T. van der Lippe and L. Van Dijk. New York: Walter de Gruyter. Verma, Vijay and Anne Clémenceau. 1996. “Methodology of the European Community Household Panel.” Statistics in Transition 2(7):1023–62. Waldfogel, Jane. 1997. “The Effect of Children on Women’s Wages.” American Sociological Review 62(2):209–17. Waldfogel, Jane, Yoshio Higuchi, and Masahiro Abe. 1999. “Family Leave Policies and Women’s Retention after Childbirth: Evidence from the United States, Britain, and Japan.” Journal of Population Economics 12(4):523–45.\\nWarr, Peter and Janet Pennington. 1994. “Occupational Age-Grading: Jobs for Older and Younger Nonmanagerial Employees.” Journal of Vocational Behavior 45(3):328–46.\\nAnja-Kristin Abendroth is a faculty member in Sociology at Bielefeld University, Germany. She is currently working in the project “Interactions between Capabilities in Work and Private Life: A Study of Employees in Different Work Organizations” of the collaborative research center SFB 882. In 2013 she defended her dissertation, “Working Women in Europe: How the Country, Workplace, and Family Context Matter,” at the Faculty of Sociology/ICS at Utrecht University, the Netherlands. Her research interests include social inequalities, the interplay of work and family life, and organizational and cross-national comparative research.\\nMatt L. Huffman is Professor and Chair of Sociology at the University of California-Irvine. He also holds a courtesy appointment in the Paul Merage School of Business. His research interests center on patterns of gender and racial inequality within and across organizations and labor markets. Among other things, his current research addresses changes in women’s access to managerial positions and the implications of those changes for gender inequality, and how the changing nature of public sector employment has affected racial inequality.\\nJudith Treas is Professor of Sociology at the University of California-Irvine, where she directs the Center for Demographic and Social Analysis. Her current research emphasizes the comparative study of household labor. Recent books include Dividing the Domestic: Men, Women and Household Work in Cross-National Perspective (Stanford University Press 2010) co-edited with Sonja Drobnic and The Wiley-Blackwell Companion to the Sociology of Families (2014), co-edited with Jacqueline Scott and Martin Richards.\\nCopyright of American Sociological Review is the property of Sage Publications Inc. and its content may not be copied or emailed to multiple sites or posted to a listserv without the copyright holder's express written permission. However, users may print, download, or email articles for individual use.\"}]}"
      ]
     },
     "execution_count": 33,
     "metadata": {},
     "output_type": "execute_result"
    }
   ],
   "source": [
    "target_claim_data"
   ]
  },
  {
   "cell_type": "code",
   "execution_count": 16,
   "metadata": {},
   "outputs": [],
   "source": [
    "claim2_coords_str = target_claim_data[\"claim2_box\"]"
   ]
  },
  {
   "cell_type": "code",
   "execution_count": 29,
   "metadata": {},
   "outputs": [],
   "source": [
    "def getCoords(cur_claim_coords_string):\n",
    "    coords_val = [x.replace(\")\", \"\").split()[0] for x in cur_claim_coords_string.split(\":\")][1:]\n",
    "    coords_val = [float(x) for x in coords_val]\n",
    "    return {\n",
    "        \"x1\": coords_val[0],\n",
    "        \"y1\": coords_val[1],\n",
    "        \"x2\": coords_val[2],\n",
    "        \"y2\": coords_val[3]\n",
    "    }"
   ]
  },
  {
   "cell_type": "code",
   "execution_count": 34,
   "metadata": {},
   "outputs": [],
   "source": [
    "claim2_coords = getCoords(claim2_coords_str)"
   ]
  },
  {
   "cell_type": "code",
   "execution_count": 37,
   "metadata": {},
   "outputs": [
    {
     "data": {
      "text/plain": [
       "{'x1': 51.49, 'y1': 353.71, 'x2': 166.66, 'y2': 370.02}"
      ]
     },
     "execution_count": 37,
     "metadata": {},
     "output_type": "execute_result"
    }
   ],
   "source": [
    "claim2_coords"
   ]
  },
  {
   "cell_type": "code",
   "execution_count": 31,
   "metadata": {},
   "outputs": [],
   "source": [
    "pdf_q = pdfquery.PDFQuery(pdf_file_name)"
   ]
  },
  {
   "cell_type": "code",
   "execution_count": 32,
   "metadata": {},
   "outputs": [
    {
     "name": "stdout",
     "output_type": "stream",
     "text": [
      "CPU times: user 11.8 s, sys: 147 ms, total: 12 s\n",
      "Wall time: 12 s\n"
     ]
    }
   ],
   "source": [
    "%%time\n",
    "pdf_q.load()"
   ]
  },
  {
   "cell_type": "code",
   "execution_count": 54,
   "metadata": {},
   "outputs": [
    {
     "name": "stdout",
     "output_type": "stream",
     "text": [
      "LTTextLineHorizontal:in_bbox(\"51,354,167,370\")\n"
     ]
    },
    {
     "data": {
      "text/plain": [
       "{'text': ''}"
      ]
     },
     "execution_count": 54,
     "metadata": {},
     "output_type": "execute_result"
    }
   ],
   "source": [
    "cur_coords = claim2_coords\n",
    "x1, y1, x2, y2 = round(cur_coords[\"x1\"]), round(cur_coords[\"y1\"]), round(cur_coords[\"x2\"]), round(cur_coords[\"y2\"])\n",
    "text_query = 'LTTextLineHorizontal:in_bbox(\"{},{},{},{}\")'.format(x1, y1, x2, y2)\n",
    "print(text_query)\n",
    "pdf_q.extract([\n",
    "    ('with_parent', 'LTPage[pageid=\"1\"]'),\n",
    "    ('with_formatter', 'text'),\n",
    "    ('text', text_query),\n",
    "])"
   ]
  },
  {
   "cell_type": "code",
   "execution_count": null,
   "metadata": {},
   "outputs": [],
   "source": []
  },
  {
   "cell_type": "code",
   "execution_count": 51,
   "metadata": {},
   "outputs": [
    {
     "data": {
      "text/plain": [
       "''"
      ]
     },
     "execution_count": 51,
     "metadata": {},
     "output_type": "execute_result"
    }
   ],
   "source": [
    "pdf_q.pq(text_query).text()"
   ]
  },
  {
   "cell_type": "code",
   "execution_count": null,
   "metadata": {},
   "outputs": [],
   "source": []
  },
  {
   "cell_type": "code",
   "execution_count": 56,
   "metadata": {},
   "outputs": [
    {
     "name": "stdout",
     "output_type": "stream",
     "text": [
      "LTTextLineHorizontal:contains(\"Our fixed-effects models show that status losses\")\n",
      "<LTTextLineHorizontal y0=\"349.717\" y1=\"358.717\" x0=\"51.486\" x1=\"436.992\" width=\"385.506\" height=\"9.0\" bbox=\"[51.486, 349.717, 436.992, 358.717]\" word_margin=\"0.1\">Our fixed-effects models show that status losses for a first birth are not just short-term but </LTTextLineHorizontal>\n"
     ]
    }
   ],
   "source": [
    "given_text = \"Our fixed-effects models show that status losses\"\n",
    "text_find_query = 'LTTextLineHorizontal:contains(\"{}\")'.format(given_text)\n",
    "print(text_find_query)\n",
    "coord = pdf_q.pq(text_find_query)\n",
    "print(coord)"
   ]
  },
  {
   "cell_type": "code",
   "execution_count": 57,
   "metadata": {},
   "outputs": [
    {
     "name": "stdout",
     "output_type": "stream",
     "text": [
      "LTTextLineHorizontal:contains(\"accumulate over the career\")\n",
      "<LTTextLineHorizontal y0=\"338.719\" y1=\"347.719\" x0=\"51.486\" x1=\"437.028\" width=\"385.542\" height=\"9.0\" bbox=\"[51.486, 338.719, 437.028, 347.719]\" word_margin=\"0.1\">accumulate over the career. The timing of a birth in a woman’s life course matters only for </LTTextLineHorizontal>\n"
     ]
    }
   ],
   "source": [
    "given_text = \"accumulate over the career\"\n",
    "text_find_query = 'LTTextLineHorizontal:contains(\"{}\")'.format(given_text)\n",
    "print(text_find_query)\n",
    "coord = pdf_q.pq(text_find_query)\n",
    "print(coord)"
   ]
  },
  {
   "cell_type": "code",
   "execution_count": null,
   "metadata": {},
   "outputs": [],
   "source": []
  },
  {
   "cell_type": "code",
   "execution_count": null,
   "metadata": {},
   "outputs": [],
   "source": []
  },
  {
   "cell_type": "code",
   "execution_count": 59,
   "metadata": {},
   "outputs": [],
   "source": [
    "pdf_pref = target_claim_data[\"pdf_filename\"]"
   ]
  },
  {
   "cell_type": "code",
   "execution_count": 61,
   "metadata": {},
   "outputs": [],
   "source": [
    "pdfminer_path = \"../s2orc-doc2json/pdfminer_outputs/{}.json\".format(pdf_pref)"
   ]
  },
  {
   "cell_type": "code",
   "execution_count": 62,
   "metadata": {},
   "outputs": [],
   "source": [
    "with open(pdfminer_path, \"r\") as f:\n",
    "    page_layout_info = json.load(f)"
   ]
  },
  {
   "cell_type": "code",
   "execution_count": 76,
   "metadata": {},
   "outputs": [
    {
     "name": "stdout",
     "output_type": "stream",
     "text": [
      "Household Panel for 13 European countries and eight time points between 1994 and 2001.\n"
     ]
    }
   ],
   "source": [
    "target_coords = claim2_coords\n",
    "for cur_text in page_layout_info[\"1\"]:\n",
    "    cur_coords = list(cur_text[\"coords\"])\n",
    "    if cur_coords[1] >= target_coords[\"y1\"] and cur_coords[3]  <= target_coords[\"y2\"]:\n",
    "        print(cur_text[\"text\"])"
   ]
  },
  {
   "cell_type": "code",
   "execution_count": 74,
   "metadata": {},
   "outputs": [
    {
     "data": {
      "text/plain": [
       "{'x1': 51.49, 'y1': 353.71, 'x2': 166.66, 'y2': 370.02}"
      ]
     },
     "execution_count": 74,
     "metadata": {},
     "output_type": "execute_result"
    }
   ],
   "source": [
    "target_coords"
   ]
  },
  {
   "cell_type": "code",
   "execution_count": null,
   "metadata": {},
   "outputs": [],
   "source": []
  }
 ],
 "metadata": {
  "kernelspec": {
   "display_name": "Python 3",
   "language": "python",
   "name": "python3"
  },
  "language_info": {
   "codemirror_mode": {
    "name": "ipython",
    "version": 3
   },
   "file_extension": ".py",
   "mimetype": "text/x-python",
   "name": "python",
   "nbconvert_exporter": "python",
   "pygments_lexer": "ipython3",
   "version": "3.6.8"
  }
 },
 "nbformat": 4,
 "nbformat_minor": 4
}
