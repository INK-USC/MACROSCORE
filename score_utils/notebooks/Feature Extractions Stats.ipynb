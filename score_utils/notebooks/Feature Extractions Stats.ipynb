{
 "cells": [
  {
   "cell_type": "code",
   "execution_count": 3,
   "metadata": {},
   "outputs": [],
   "source": [
    "import pandas as pd\n",
    "import matplotlib.pyplot as plt\n",
    "import pylab as pl\n",
    "import numpy as np\n",
    "import json\n",
    "from collections import defaultdict"
   ]
  },
  {
   "cell_type": "code",
   "execution_count": null,
   "metadata": {},
   "outputs": [],
   "source": []
  },
  {
   "cell_type": "code",
   "execution_count": null,
   "metadata": {},
   "outputs": [],
   "source": []
  },
  {
   "cell_type": "code",
   "execution_count": null,
   "metadata": {},
   "outputs": [],
   "source": []
  },
  {
   "cell_type": "markdown",
   "metadata": {},
   "source": [
    "## Get phrase-level extraction data for reproducible vs non-reproducible papers:"
   ]
  },
  {
   "cell_type": "code",
   "execution_count": 11,
   "metadata": {},
   "outputs": [],
   "source": [
    "train_extraction_path = \"../repr_claims_results/socrepr_claims_train.json\"\n",
    "dev_extraction_path = \"../repr_claims_results/socrepr_claims_dev.json\""
   ]
  },
  {
   "cell_type": "code",
   "execution_count": 12,
   "metadata": {},
   "outputs": [],
   "source": [
    "with open(train_extraction_path, \"r\") as f:\n",
    "    train_res = json.load(f)\n",
    "    \n",
    "with open(dev_extraction_path, \"r\") as f:\n",
    "    dev_res = json.load(f)"
   ]
  },
  {
   "cell_type": "code",
   "execution_count": 13,
   "metadata": {},
   "outputs": [],
   "source": [
    "res_full = train_res.copy()\n",
    "res_full = res_full + dev_res\n",
    "df_res = pd.DataFrame(res_full)"
   ]
  },
  {
   "cell_type": "code",
   "execution_count": 14,
   "metadata": {},
   "outputs": [],
   "source": [
    "df_res[\"important_segment_idx\"] = df_res.apply(lambda x: pid_seg_idx_map[x[\"paper_id\"]][0], axis=1)\n",
    "df_res[\"important_segment\"] = df_res.apply(lambda x: pid_seg_idx_map[x[\"paper_id\"]][1], axis=1)"
   ]
  },
  {
   "cell_type": "code",
   "execution_count": 15,
   "metadata": {},
   "outputs": [
    {
     "name": "stdout",
     "output_type": "stream",
     "text": [
      "(845, 6)\n",
      "Index(['paper_id', 'label', 'predicted_label', 'important_segment',\n",
      "       'important_phrases', 'important_segment_idx'],\n",
      "      dtype='object')\n"
     ]
    }
   ],
   "source": [
    "print(df_res.shape)\n",
    "print(df_res.columns)"
   ]
  },
  {
   "cell_type": "code",
   "execution_count": 16,
   "metadata": {},
   "outputs": [],
   "source": [
    "reverse_seg_map = {\n",
    "    '0': \"claim2\",\n",
    "    '1':\"claim3a\",\n",
    "    '2':\"claim3b\",\n",
    "    '3':\"claim4\"\n",
    "}"
   ]
  },
  {
   "cell_type": "code",
   "execution_count": 17,
   "metadata": {},
   "outputs": [],
   "source": [
    "df_res[\"important_segment_idx\"] = df_res.apply(lambda x: reverse_seg_map[str(x[\"important_segment_idx\"])], axis=1)"
   ]
  },
  {
   "cell_type": "code",
   "execution_count": 18,
   "metadata": {},
   "outputs": [],
   "source": [
    "def cleanPhrases(phrase_list):\n",
    "    out_list = []\n",
    "    for cur_phrase in phrase_list:\n",
    "        new_phrase = cur_phrase[1].replace(\"- lrb -\", \"(\").replace(\"- rrb -\", \")\")\n",
    "        out_list.append([cur_phrase[0], new_phrase])\n",
    "    return out_list"
   ]
  },
  {
   "cell_type": "code",
   "execution_count": 19,
   "metadata": {},
   "outputs": [],
   "source": [
    "# Replace the \"- lrb - and - rrb -\" tokens:\n",
    "df_res[\"important_phrases\"] = df_res.apply(lambda x: cleanPhrases(x[\"important_phrases\"][0:5]), axis=1)"
   ]
  },
  {
   "cell_type": "code",
   "execution_count": 20,
   "metadata": {},
   "outputs": [],
   "source": [
    "df_11 = df_res[(df_res[\"label\"] == 1) & (df_res[\"predicted_label\"] == 1)]\n",
    "df_00 = df_res[(df_res[\"label\"] == 0) & (df_res[\"predicted_label\"] == 0)]"
   ]
  },
  {
   "cell_type": "code",
   "execution_count": 21,
   "metadata": {},
   "outputs": [],
   "source": [
    "rep_path = \"phrase_extractions_for_reproducible_papers_TA2.json\"\n",
    "df_11_json_out = df_11.to_json(orient=\"records\")\n",
    "\n",
    "# with open(rep_path, \"w\") as f:\n",
    "#     json.dump(json.loads(df_11_json_out), f, indent=2)"
   ]
  },
  {
   "cell_type": "code",
   "execution_count": 22,
   "metadata": {},
   "outputs": [],
   "source": [
    "non_rep_path = \"phrase_extractions_for_non_reproducible_papers_TA2.json\"\n",
    "df_00_json_out = df_00.to_json(orient=\"records\")\n",
    "\n",
    "# with open(non_rep_path, \"w\") as f:\n",
    "#     json.dump(json.loads(df_00_json_out), f, indent=2)"
   ]
  },
  {
   "cell_type": "code",
   "execution_count": null,
   "metadata": {},
   "outputs": [],
   "source": []
  },
  {
   "cell_type": "code",
   "execution_count": null,
   "metadata": {},
   "outputs": [],
   "source": []
  },
  {
   "cell_type": "markdown",
   "metadata": {},
   "source": [
    "## Get feature extraction data for reproducible and non-reproducible papers:"
   ]
  },
  {
   "cell_type": "code",
   "execution_count": 1,
   "metadata": {},
   "outputs": [],
   "source": [
    "feat_path = \"../danny_submission/feature_extractions_TA2/feature_extractions_for_all_papers_TA2.json\"\n",
    "# feat_path = \"data/NER_prediction_TA2_with_Citations.json\""
   ]
  },
  {
   "cell_type": "code",
   "execution_count": 4,
   "metadata": {},
   "outputs": [],
   "source": [
    "with open(feat_path, \"r\") as f:\n",
    "    feat_data = json.load(f)"
   ]
  },
  {
   "cell_type": "code",
   "execution_count": 11,
   "metadata": {},
   "outputs": [],
   "source": [
    "def getStats(cur_feat_data):\n",
    "    count_dict = defaultdict(lambda : 0)\n",
    "    count_none_dict = defaultdict(lambda : 0)\n",
    "    \n",
    "    for k, v in cur_feat_data.items():\n",
    "        claim_cnts = {\"claim2_distance\": 0, \"claim3a_distance\": 0, \"claim3b_distance\": 0, \"claim4_distance\": 0}\n",
    "        \n",
    "        for k, v in claim_cnts.items():\n",
    "            if k==\"value\":\n",
    "                continue\n",
    "            if v == 1:\n",
    "                count_dict[k] += 1\n",
    "            else:\n",
    "                count_none_dict[k] += 1\n",
    "        \n",
    "    count_dict = dict(sorted(dict(count_dict).items(), key=lambda x: x[0]))\n",
    "    count_none_dict = dict(sorted(dict(count_none_dict).items(), key=lambda x: x[0]))\n",
    "    \n",
    "    percent_dict = {}\n",
    "    percent_none_dict = {}\n",
    "    total_num_papers = len(cur_feat_data.keys())\n",
    "    for k, v in count_dict.items():\n",
    "        percent_dict[k] = round(v * 100/total_num_papers, 2)\n",
    "    \n",
    "    for k, v in count_none_dict.items():\n",
    "        percent_none_dict[k] = round(v * 100/total_num_papers, 2)\n",
    "    \n",
    "    print(\"Count of non-None entries in papers:\")\n",
    "    print(count_dict, \"\\n\")\n",
    "    \n",
    "    print(\"Percent of non-None entries in papers:\")\n",
    "    print(percent_dict, \"\\n\")\n",
    "    \n",
    "    print(\"Count of None entries in papers:\")\n",
    "    print(count_none_dict)\n",
    "    \n",
    "    print(\"Percent of None entries in papers:\")\n",
    "    print(percent_none_dict, \"\\n\")"
   ]
  },
  {
   "cell_type": "code",
   "execution_count": 12,
   "metadata": {},
   "outputs": [
    {
     "name": "stdout",
     "output_type": "stream",
     "text": [
      "For all 2219 TA2 papers: \n",
      "10.1016/j.jesp.2018.04.001 {'Validity_of_Inference': {'Number_of_Studies': None, 'Effect_Size': [{'value': 0.97, 'sentence': \"The correlation between the model 's two dimensions that best represented agency and investigative was extremely high , r = 0.97 , and it was high for progressiveness and artistic , r = 0.78 , and for sociability and social , r = 0.82 .\", 'sent_idx': 85, 'claim2_distance': 83, 'claim3a_distance': -74, 'claim3b_distance': -88, 'claim4_distance': None}, {'value': 0.78, 'sentence': \"The correlation between the model 's two dimensions that best represented agency and investigative was extremely high , r = 0.97 , and it was high for progressiveness and artistic , r = 0.78 , and for sociability and social , r = 0.82 .\", 'sent_idx': 85, 'claim2_distance': 83, 'claim3a_distance': -74, 'claim3b_distance': -88, 'claim4_distance': None}, {'value': 0.82, 'sentence': \"The correlation between the model 's two dimensions that best represented agency and investigative was extremely high , r = 0.97 , and it was high for progressiveness and artistic , r = 0.78 , and for sociability and social , r = 0.82 .\", 'sent_idx': 85, 'claim2_distance': 83, 'claim3a_distance': -74, 'claim3b_distance': -88, 'claim4_distance': None}, {'value': 0.26, 'sentence': 'Results indicated that the difficulty of changing occupations was perceived as greater , the further away the two respective occupations were in the three-dimensional space , r = 0.26 , p < .001 , independent of the direction ( up or down ) .', 'sent_idx': 174, 'claim2_distance': 172, 'claim3a_distance': 15, 'claim3b_distance': 1, 'claim4_distance': None}, {'value': -0.64, 'sentence': 'Using the same distance estimates as in the previous study , it was perceived as more likely that two identical twins have two different occupations if the two were less distant in the three-dimensional space , r = −0.64 , p < .001 .', 'sent_idx': 184, 'claim2_distance': 182, 'claim3a_distance': 25, 'claim3b_distance': 11, 'claim4_distance': None}, {'value': -0.36, 'sentence': 'For the 149 other occupations , the smaller the three-dimensional distance to police officers , the larger the effect , r = −0.36 , p < .001 ( Fig .', 'sent_idx': 314, 'claim2_distance': 312, 'claim3a_distance': 155, 'claim3b_distance': 141, 'claim4_distance': None}, {'value': -0.396, 'sentence': 'The correlation between three-dimensional distance and effect size was now r = −0.396 , p < .001 , and the effect size was separately predicted by distance on dimension 1 , β = −0.204 , p = .008 , dimension 2 , β = −0.369 , p < .001 , and dimension 3 , β = −0.299 , p < .001 , R 2 = 0.22 , p < .001 .', 'sent_idx': 323, 'claim2_distance': 321, 'claim3a_distance': 164, 'claim3b_distance': 150, 'claim4_distance': None}, {'value': -0.15, 'sentence': \"A small contagion effect was observable from a ( non-significant ) negative correlation between the effect this manipulation had on other occupations and the respective occupation 's three-dimensional distance to legislators in the MDS space , r = −0.15 , p = .063 ( Fig .\", 'sent_idx': 338, 'claim2_distance': 336, 'claim3a_distance': 179, 'claim3b_distance': 165, 'claim4_distance': None}], 'Number_of_Models': None, 'P_Values': [{'value': 0.001, 'sentence': 'Results indicated that the difficulty of changing occupations was perceived as greater , the further away the two respective occupations were in the three-dimensional space , r = 0.26 , p < .001 , independent of the direction ( up or down ) .', 'sent_idx': 174, 'claim2_distance': 172, 'claim3a_distance': 15, 'claim3b_distance': 1, 'claim4_distance': None}, {'value': 0.001, 'sentence': 'In a first step , we entered the raw difference scores to assess directional effects of either moving up or down on one of the three dimensions , R 2 = 0.44 , p < .001 .', 'sent_idx': 176, 'claim2_distance': 174, 'claim3a_distance': 17, 'claim3b_distance': 3, 'claim4_distance': None}, {'value': 0.001, 'sentence': 'Moving up on the first dimension increased difficulty , β = 0.56 , p < .001 , whereas difficulty of job change was greater for moving down on the second , β = −0.13 , p < .001 , and third dimension , β = −0.30 , p < .001 .', 'sent_idx': 177, 'claim2_distance': 175, 'claim3a_distance': 18, 'claim3b_distance': 4, 'claim4_distance': None}, {'value': 0.001, 'sentence': 'Moving up on the first dimension increased difficulty , β = 0.56 , p < .001 , whereas difficulty of job change was greater for moving down on the second , β = −0.13 , p < .001 , and third dimension , β = −0.30 , p < .001 .', 'sent_idx': 177, 'claim2_distance': 175, 'claim3a_distance': 18, 'claim3b_distance': 4, 'claim4_distance': None}, {'value': 0.001, 'sentence': 'Moving up on the first dimension increased difficulty , β = 0.56 , p < .001 , whereas difficulty of job change was greater for moving down on the second , β = −0.13 , p < .001 , and third dimension , β = −0.30 , p < .001 .', 'sent_idx': 177, 'claim2_distance': 175, 'claim3a_distance': 18, 'claim3b_distance': 4, 'claim4_distance': None}, {'value': 0.001, 'sentence': 'Importantly , we added the ( orthogonal ) squared distances in a second step to test whether above and beyond these directional effects distance added incremental explanatory value which it did indeed , ΔR 2 = 0.06 , p < .001 .', 'sent_idx': 179, 'claim2_distance': 177, 'claim3a_distance': 20, 'claim3b_distance': 6, 'claim4_distance': None}, {'value': 0.001, 'sentence': 'Positive regression weights indicative of greater difficulty for greater distance were found for dimension 1 , β = 0.20 , p < .001 , dimension 2 , β = 0.16 , p < .001 , as well as dimension 3 , β = 0.13 , p < .001 .', 'sent_idx': 180, 'claim2_distance': 178, 'claim3a_distance': 21, 'claim3b_distance': 7, 'claim4_distance': None}, {'value': 0.001, 'sentence': 'Positive regression weights indicative of greater difficulty for greater distance were found for dimension 1 , β = 0.20 , p < .001 , dimension 2 , β = 0.16 , p < .001 , as well as dimension 3 , β = 0.13 , p < .001 .', 'sent_idx': 180, 'claim2_distance': 178, 'claim3a_distance': 21, 'claim3b_distance': 7, 'claim4_distance': None}, {'value': 0.001, 'sentence': 'Positive regression weights indicative of greater difficulty for greater distance were found for dimension 1 , β = 0.20 , p < .001 , dimension 2 , β = 0.16 , p < .001 , as well as dimension 3 , β = 0.13 , p < .001 .', 'sent_idx': 180, 'claim2_distance': 178, 'claim3a_distance': 21, 'claim3b_distance': 7, 'claim4_distance': None}, {'value': 0.001, 'sentence': 'Using the same distance estimates as in the previous study , it was perceived as more likely that two identical twins have two different occupations if the two were less distant in the three-dimensional space , r = −0.64 , p < .001 .', 'sent_idx': 184, 'claim2_distance': 182, 'claim3a_distance': 25, 'claim3b_distance': 11, 'claim4_distance': None}, {'value': 0.982, 'sentence': 'Predicting the estimated likelihood with the raw differences on all three dimensions yielded no explained variance , F ( 3 , 596 ) = 0.06 , p = .982 , R 2 = 0.00 , but adding the quadratic terms did , F ( 6 , 593 ) = 61.89 , p < .001 , ΔR 2 = 0.39 .', 'sent_idx': 185, 'claim2_distance': 183, 'claim3a_distance': 26, 'claim3b_distance': 12, 'claim4_distance': None}, {'value': 0.001, 'sentence': 'Predicting the estimated likelihood with the raw differences on all three dimensions yielded no explained variance , F ( 3 , 596 ) = 0.06 , p = .982 , R 2 = 0.00 , but adding the quadratic terms did , F ( 6 , 593 ) = 61.89 , p < .001 , ΔR 2 = 0.39 .', 'sent_idx': 185, 'claim2_distance': 183, 'claim3a_distance': 26, 'claim3b_distance': 12, 'claim4_distance': None}, {'value': 0.001, 'sentence': 'Specifically , high distance on the first , β = −0.61 , p < .001 , the second , β = −0.08 , p = .011 , as well as the third dimension , β = −0.15 , p < .001 , independently predicted lower likelihood of two identical twins having these two occupations .', 'sent_idx': 186, 'claim2_distance': 184, 'claim3a_distance': 27, 'claim3b_distance': 13, 'claim4_distance': None}, {'value': 0.011, 'sentence': 'Specifically , high distance on the first , β = −0.61 , p < .001 , the second , β = −0.08 , p = .011 , as well as the third dimension , β = −0.15 , p < .001 , independently predicted lower likelihood of two identical twins having these two occupations .', 'sent_idx': 186, 'claim2_distance': 184, 'claim3a_distance': 27, 'claim3b_distance': 13, 'claim4_distance': None}, {'value': 0.001, 'sentence': 'Specifically , high distance on the first , β = −0.61 , p < .001 , the second , β = −0.08 , p = .011 , as well as the third dimension , β = −0.15 , p < .001 , independently predicted lower likelihood of two identical twins having these two occupations .', 'sent_idx': 186, 'claim2_distance': 184, 'claim3a_distance': 27, 'claim3b_distance': 13, 'claim4_distance': None}, {'value': 0.003, 'sentence': 'Comparing within-category errors and between-category errors ( corrected for the higher base-rate likelihood to randomly make such an error ; Taylor et al. , 1978 ) yielded significantly more within-category errors in the first dimension , F ( 1,85 ) = 9.25 , p = .003 , the second dimension , F ( 1,80 ) = 3.96 , p = .050 , as well as the third dimension , F ( 1,89 ) = 4.17 , p = .044 ( Fig .', 'sent_idx': 243, 'claim2_distance': 241, 'claim3a_distance': 84, 'claim3b_distance': 70, 'claim4_distance': None}, {'value': 0.05, 'sentence': 'Comparing within-category errors and between-category errors ( corrected for the higher base-rate likelihood to randomly make such an error ; Taylor et al. , 1978 ) yielded significantly more within-category errors in the first dimension , F ( 1,85 ) = 9.25 , p = .003 , the second dimension , F ( 1,80 ) = 3.96 , p = .050 , as well as the third dimension , F ( 1,89 ) = 4.17 , p = .044 ( Fig .', 'sent_idx': 243, 'claim2_distance': 241, 'claim3a_distance': 84, 'claim3b_distance': 70, 'claim4_distance': None}, {'value': 0.044, 'sentence': 'Comparing within-category errors and between-category errors ( corrected for the higher base-rate likelihood to randomly make such an error ; Taylor et al. , 1978 ) yielded significantly more within-category errors in the first dimension , F ( 1,85 ) = 9.25 , p = .003 , the second dimension , F ( 1,80 ) = 3.96 , p = .050 , as well as the third dimension , F ( 1,89 ) = 4.17 , p = .044 ( Fig .', 'sent_idx': 243, 'claim2_distance': 241, 'claim3a_distance': 84, 'claim3b_distance': 70, 'claim4_distance': None}, {'value': 0.54, 'sentence': 'In Study 3a the model did not show appropriate model fit when the parameter for low dimension 1 categorization strength ( d b ) was free to vary , but fit when it was restricted to 0 ( T 1 observed = 0.077 , T 1 predicted = 0.082 , p = .54 , T 2 observed = 19.44 , T 2 predicted = 13.94 , p = .22 ) .', 'sent_idx': 246, 'claim2_distance': 244, 'claim3a_distance': 87, 'claim3b_distance': 73, 'claim4_distance': None}, {'value': 0.22, 'sentence': 'In Study 3a the model did not show appropriate model fit when the parameter for low dimension 1 categorization strength ( d b ) was free to vary , but fit when it was restricted to 0 ( T 1 observed = 0.077 , T 1 predicted = 0.082 , p = .54 , T 2 observed = 19.44 , T 2 predicted = 13.94 , p = .22 ) .', 'sent_idx': 246, 'claim2_distance': 244, 'claim3a_distance': 87, 'claim3b_distance': 73, 'claim4_distance': None}, {'value': 0.48, 'sentence': 'In Study 3b the standard model restricting d a = d b fit the data best ( T 1 observed = 0.084 , T 1 predicted = .083 , p = .48 , T 2 observed = 10.21 , T 2 predicted = 14.09 , p = .73 ) .', 'sent_idx': 247, 'claim2_distance': 245, 'claim3a_distance': 88, 'claim3b_distance': 74, 'claim4_distance': None}, {'value': 0.73, 'sentence': 'In Study 3b the standard model restricting d a = d b fit the data best ( T 1 observed = 0.084 , T 1 predicted = .083 , p = .48 , T 2 observed = 10.21 , T 2 predicted = 14.09 , p = .73 ) .', 'sent_idx': 247, 'claim2_distance': 245, 'claim3a_distance': 88, 'claim3b_distance': 74, 'claim4_distance': None}, {'value': 0.33, 'sentence': 'In Study 3c the model did not show appropriate model fit when the parameter for high dimension 3 categorization strength ( d a ) was free to vary , but fit when it was restricted to 0 ( T 1 observed = 0.097 , T 1 predicted = 0.075 , p = .33 , T 2 observed = 32.22 , T 2 predicted = 13.11 , p = .01 ) .', 'sent_idx': 248, 'claim2_distance': 246, 'claim3a_distance': 89, 'claim3b_distance': 75, 'claim4_distance': None}, {'value': 0.01, 'sentence': 'In Study 3c the model did not show appropriate model fit when the parameter for high dimension 3 categorization strength ( d a ) was free to vary , but fit when it was restricted to 0 ( T 1 observed = 0.097 , T 1 predicted = 0.075 , p = .33 , T 2 observed = 32.22 , T 2 predicted = 13.11 , p = .01 ) .', 'sent_idx': 248, 'claim2_distance': 246, 'claim3a_distance': 89, 'claim3b_distance': 75, 'claim4_distance': None}, {'value': 0.041, 'sentence': 'Although there was a small effect of higher impressions of warmth after reading about and reporting positive experiences , M = 6.21 , SD = 2.55 , than after reading and reporting negative experiences , M = 5.31 , SD = 2.32 , t ( 123 ) = 2.07 , p = .041 , it became apparent from their essays that many participants had difficulties of generating concordant experiences ( e.g. , `` I do not have any experiences with law enforcement . `` ) .', 'sent_idx': 280, 'claim2_distance': 278, 'claim3a_distance': 121, 'claim3b_distance': 107, 'claim4_distance': None}, {'value': 0.096, 'sentence': 'Importantly , and in line with easeof-retrieval heuristics ( Schwarz et al. , 1991 ) this perceived ease moderated the effect of experimental condition : The explained variance in warmth by effect-coded experimental condition , B = 0.37 , SE = 022 , p = .096 , and standardized ease , B = 0.34 , SE = 0.22 , p = .127 , R 2 = 0.05 , p = .038 , was significantly increased by the inclusion of their interaction , B = 0.88 , SE = 0.21 , p < .001 , ΔR 2 = 0.12 , p < .001 .', 'sent_idx': 282, 'claim2_distance': 280, 'claim3a_distance': 123, 'claim3b_distance': 109, 'claim4_distance': None}, {'value': 0.127, 'sentence': 'Importantly , and in line with easeof-retrieval heuristics ( Schwarz et al. , 1991 ) this perceived ease moderated the effect of experimental condition : The explained variance in warmth by effect-coded experimental condition , B = 0.37 , SE = 022 , p = .096 , and standardized ease , B = 0.34 , SE = 0.22 , p = .127 , R 2 = 0.05 , p = .038 , was significantly increased by the inclusion of their interaction , B = 0.88 , SE = 0.21 , p < .001 , ΔR 2 = 0.12 , p < .001 .', 'sent_idx': 282, 'claim2_distance': 280, 'claim3a_distance': 123, 'claim3b_distance': 109, 'claim4_distance': None}, {'value': 0.038, 'sentence': 'Importantly , and in line with easeof-retrieval heuristics ( Schwarz et al. , 1991 ) this perceived ease moderated the effect of experimental condition : The explained variance in warmth by effect-coded experimental condition , B = 0.37 , SE = 022 , p = .096 , and standardized ease , B = 0.34 , SE = 0.22 , p = .127 , R 2 = 0.05 , p = .038 , was significantly increased by the inclusion of their interaction , B = 0.88 , SE = 0.21 , p < .001 , ΔR 2 = 0.12 , p < .001 .', 'sent_idx': 282, 'claim2_distance': 280, 'claim3a_distance': 123, 'claim3b_distance': 109, 'claim4_distance': None}, {'value': 0.001, 'sentence': 'Importantly , and in line with easeof-retrieval heuristics ( Schwarz et al. , 1991 ) this perceived ease moderated the effect of experimental condition : The explained variance in warmth by effect-coded experimental condition , B = 0.37 , SE = 022 , p = .096 , and standardized ease , B = 0.34 , SE = 0.22 , p = .127 , R 2 = 0.05 , p = .038 , was significantly increased by the inclusion of their interaction , B = 0.88 , SE = 0.21 , p < .001 , ΔR 2 = 0.12 , p < .001 .', 'sent_idx': 282, 'claim2_distance': 280, 'claim3a_distance': 123, 'claim3b_distance': 109, 'claim4_distance': None}, {'value': 0.001, 'sentence': 'Importantly , and in line with easeof-retrieval heuristics ( Schwarz et al. , 1991 ) this perceived ease moderated the effect of experimental condition : The explained variance in warmth by effect-coded experimental condition , B = 0.37 , SE = 022 , p = .096 , and standardized ease , B = 0.34 , SE = 0.22 , p = .127 , R 2 = 0.05 , p = .038 , was significantly increased by the inclusion of their interaction , B = 0.88 , SE = 0.21 , p < .001 , ΔR 2 = 0.12 , p < .001 .', 'sent_idx': 282, 'claim2_distance': 280, 'claim3a_distance': 123, 'claim3b_distance': 109, 'claim4_distance': None}, {'value': 0.014, 'sentence': 'As expected , reading about and elaborating on negative examples of police conduct evoked less positive ratings of police officers on the warmth item , M = 5.52 , SD = 2.36 , than reading about and elaborating on positive examples , M = 6.33 , SD = 2.58 , t ( 224 ) = 2.49 , p = .014 .', 'sent_idx': 304, 'claim2_distance': 302, 'claim3a_distance': 145, 'claim3b_distance': 131, 'claim4_distance': None}, {'value': 0.002, 'sentence': 'Although , there were main effects of both the experimental condition , B = 0.51 , SE = 0.16 , p = .002 , and perceived ease , B = 0.54 , SE = 0.16 , p = .001 , R 2 = 0.07 , p < .001 , including the interaction , B = 0.63 , SE = 0.16 , led to a significant increase in explained variance , ΔR 2 = 0.06 , p < .001 .', 'sent_idx': 306, 'claim2_distance': 304, 'claim3a_distance': 147, 'claim3b_distance': 133, 'claim4_distance': None}, {'value': 0.001, 'sentence': 'Although , there were main effects of both the experimental condition , B = 0.51 , SE = 0.16 , p = .002 , and perceived ease , B = 0.54 , SE = 0.16 , p = .001 , R 2 = 0.07 , p < .001 , including the interaction , B = 0.63 , SE = 0.16 , led to a significant increase in explained variance , ΔR 2 = 0.06 , p < .001 .', 'sent_idx': 306, 'claim2_distance': 304, 'claim3a_distance': 147, 'claim3b_distance': 133, 'claim4_distance': None}, {'value': 0.001, 'sentence': 'Although , there were main effects of both the experimental condition , B = 0.51 , SE = 0.16 , p = .002 , and perceived ease , B = 0.54 , SE = 0.16 , p = .001 , R 2 = 0.07 , p < .001 , including the interaction , B = 0.63 , SE = 0.16 , led to a significant increase in explained variance , ΔR 2 = 0.06 , p < .001 .', 'sent_idx': 306, 'claim2_distance': 304, 'claim3a_distance': 147, 'claim3b_distance': 133, 'claim4_distance': None}, {'value': 0.001, 'sentence': 'Although , there were main effects of both the experimental condition , B = 0.51 , SE = 0.16 , p = .002 , and perceived ease , B = 0.54 , SE = 0.16 , p = .001 , R 2 = 0.07 , p < .001 , including the interaction , B = 0.63 , SE = 0.16 , led to a significant increase in explained variance , ΔR 2 = 0.06 , p < .001 .', 'sent_idx': 306, 'claim2_distance': 304, 'claim3a_distance': 147, 'claim3b_distance': 133, 'claim4_distance': None}, {'value': 0.001, 'sentence': 'For the 149 other occupations , the smaller the three-dimensional distance to police officers , the larger the effect , r = −0.36 , p < .001 ( Fig .', 'sent_idx': 314, 'claim2_distance': 312, 'claim3a_distance': 155, 'claim3b_distance': 141, 'claim4_distance': None}, {'value': 0.001, 'sentence': 'Conjointly , the three distance vectors significantly predicted the effect , R 2 = 0.16 , p < .001 , with the strongest contribution from distance on the second dimension ( interpreted as progressiveness in Study 1a ) , β = −0.375 , p < .001 , followed by the third ( interpreted as sociability in Study 1a ) , β = −0.158 , p = .043 , and the first ( interpreted as agency in Study 1a ) , β = −0.152 , p = .057 .', 'sent_idx': 317, 'claim2_distance': 315, 'claim3a_distance': 158, 'claim3b_distance': 144, 'claim4_distance': None}, {'value': 0.001, 'sentence': 'Conjointly , the three distance vectors significantly predicted the effect , R 2 = 0.16 , p < .001 , with the strongest contribution from distance on the second dimension ( interpreted as progressiveness in Study 1a ) , β = −0.375 , p < .001 , followed by the third ( interpreted as sociability in Study 1a ) , β = −0.158 , p = .043 , and the first ( interpreted as agency in Study 1a ) , β = −0.152 , p = .057 .', 'sent_idx': 317, 'claim2_distance': 315, 'claim3a_distance': 158, 'claim3b_distance': 144, 'claim4_distance': None}, {'value': 0.043, 'sentence': 'Conjointly , the three distance vectors significantly predicted the effect , R 2 = 0.16 , p < .001 , with the strongest contribution from distance on the second dimension ( interpreted as progressiveness in Study 1a ) , β = −0.375 , p < .001 , followed by the third ( interpreted as sociability in Study 1a ) , β = −0.158 , p = .043 , and the first ( interpreted as agency in Study 1a ) , β = −0.152 , p = .057 .', 'sent_idx': 317, 'claim2_distance': 315, 'claim3a_distance': 158, 'claim3b_distance': 144, 'claim4_distance': None}, {'value': 0.057, 'sentence': 'Conjointly , the three distance vectors significantly predicted the effect , R 2 = 0.16 , p < .001 , with the strongest contribution from distance on the second dimension ( interpreted as progressiveness in Study 1a ) , β = −0.375 , p < .001 , followed by the third ( interpreted as sociability in Study 1a ) , β = −0.158 , p = .043 , and the first ( interpreted as agency in Study 1a ) , β = −0.152 , p = .057 .', 'sent_idx': 317, 'claim2_distance': 315, 'claim3a_distance': 158, 'claim3b_distance': 144, 'claim4_distance': None}, {'value': 0.001, 'sentence': 'As the effect of the manipulation was now stronger ( M neg = 5.47 , SD neg = 2.34 , M pos = 6.96 , SD pos = 2.25 , t ( 172 ) = 4.22 , p < .001 ) , there was a greater chance to find contagion effects as well .', 'sent_idx': 322, 'claim2_distance': 320, 'claim3a_distance': 163, 'claim3b_distance': 149, 'claim4_distance': None}, {'value': 0.001, 'sentence': 'The correlation between three-dimensional distance and effect size was now r = −0.396 , p < .001 , and the effect size was separately predicted by distance on dimension 1 , β = −0.204 , p = .008 , dimension 2 , β = −0.369 , p < .001 , and dimension 3 , β = −0.299 , p < .001 , R 2 = 0.22 , p < .001 .', 'sent_idx': 323, 'claim2_distance': 321, 'claim3a_distance': 164, 'claim3b_distance': 150, 'claim4_distance': None}, {'value': 0.008, 'sentence': 'The correlation between three-dimensional distance and effect size was now r = −0.396 , p < .001 , and the effect size was separately predicted by distance on dimension 1 , β = −0.204 , p = .008 , dimension 2 , β = −0.369 , p < .001 , and dimension 3 , β = −0.299 , p < .001 , R 2 = 0.22 , p < .001 .', 'sent_idx': 323, 'claim2_distance': 321, 'claim3a_distance': 164, 'claim3b_distance': 150, 'claim4_distance': None}, {'value': 0.001, 'sentence': 'The correlation between three-dimensional distance and effect size was now r = −0.396 , p < .001 , and the effect size was separately predicted by distance on dimension 1 , β = −0.204 , p = .008 , dimension 2 , β = −0.369 , p < .001 , and dimension 3 , β = −0.299 , p < .001 , R 2 = 0.22 , p < .001 .', 'sent_idx': 323, 'claim2_distance': 321, 'claim3a_distance': 164, 'claim3b_distance': 150, 'claim4_distance': None}, {'value': 0.001, 'sentence': 'The correlation between three-dimensional distance and effect size was now r = −0.396 , p < .001 , and the effect size was separately predicted by distance on dimension 1 , β = −0.204 , p = .008 , dimension 2 , β = −0.369 , p < .001 , and dimension 3 , β = −0.299 , p < .001 , R 2 = 0.22 , p < .001 .', 'sent_idx': 323, 'claim2_distance': 321, 'claim3a_distance': 164, 'claim3b_distance': 150, 'claim4_distance': None}, {'value': 0.001, 'sentence': 'The correlation between three-dimensional distance and effect size was now r = −0.396 , p < .001 , and the effect size was separately predicted by distance on dimension 1 , β = −0.204 , p = .008 , dimension 2 , β = −0.369 , p < .001 , and dimension 3 , β = −0.299 , p < .001 , R 2 = 0.22 , p < .001 .', 'sent_idx': 323, 'claim2_distance': 321, 'claim3a_distance': 164, 'claim3b_distance': 150, 'claim4_distance': None}, {'value': 0.004, 'sentence': 'The manipulation was successful , as after reporting negative experiences with politicians , participants saw them as less likeable , M = 3.38 , SD = 2.02 , than after reporting positive experiences , M = 4.28 , SD = 2.32 , t ( 200 ) = 2.93 , p = .004 .', 'sent_idx': 337, 'claim2_distance': 335, 'claim3a_distance': 178, 'claim3b_distance': 164, 'claim4_distance': None}, {'value': 0.063, 'sentence': \"A small contagion effect was observable from a ( non-significant ) negative correlation between the effect this manipulation had on other occupations and the respective occupation 's three-dimensional distance to legislators in the MDS space , r = −0.15 , p = .063 ( Fig .\", 'sent_idx': 338, 'claim2_distance': 336, 'claim3a_distance': 179, 'claim3b_distance': 165, 'claim4_distance': None}, {'value': 0.004, 'sentence': 'When we included the separate distance estimates per dimension in a multiple regression predicting the effect size , R 2 = 0.09 , p = .004 , it became apparent that the contagion effect was predominantly driven by the third dimension , β = −0.181 , p = .026 , but unexpectedly attenuated by a reverse effect on the second dimension , β = 0.189 , p = .033 , with no significant prediction from distance on the first dimension , β = −0.046 , p = .594 .', 'sent_idx': 340, 'claim2_distance': 338, 'claim3a_distance': 181, 'claim3b_distance': 167, 'claim4_distance': None}, {'value': 0.026, 'sentence': 'When we included the separate distance estimates per dimension in a multiple regression predicting the effect size , R 2 = 0.09 , p = .004 , it became apparent that the contagion effect was predominantly driven by the third dimension , β = −0.181 , p = .026 , but unexpectedly attenuated by a reverse effect on the second dimension , β = 0.189 , p = .033 , with no significant prediction from distance on the first dimension , β = −0.046 , p = .594 .', 'sent_idx': 340, 'claim2_distance': 338, 'claim3a_distance': 181, 'claim3b_distance': 167, 'claim4_distance': None}, {'value': 0.033, 'sentence': 'When we included the separate distance estimates per dimension in a multiple regression predicting the effect size , R 2 = 0.09 , p = .004 , it became apparent that the contagion effect was predominantly driven by the third dimension , β = −0.181 , p = .026 , but unexpectedly attenuated by a reverse effect on the second dimension , β = 0.189 , p = .033 , with no significant prediction from distance on the first dimension , β = −0.046 , p = .594 .', 'sent_idx': 340, 'claim2_distance': 338, 'claim3a_distance': 181, 'claim3b_distance': 167, 'claim4_distance': None}, {'value': 0.594, 'sentence': 'When we included the separate distance estimates per dimension in a multiple regression predicting the effect size , R 2 = 0.09 , p = .004 , it became apparent that the contagion effect was predominantly driven by the third dimension , β = −0.181 , p = .026 , but unexpectedly attenuated by a reverse effect on the second dimension , β = 0.189 , p = .033 , with no significant prediction from distance on the first dimension , β = −0.046 , p = .594 .', 'sent_idx': 340, 'claim2_distance': 338, 'claim3a_distance': 181, 'claim3b_distance': 167, 'claim4_distance': None}, {'value': 0.003, 'sentence': 'The stronger effect on the evaluation of legislators ( M neg = 3.47 , SD neg = 2.06 , M pos = 4.63 , SD pos = 2.44 , t ( 138 ) = 3.04 , p = .003 ) also translated in a stronger overall contagion effect , r = −0.33 , p < .001 .', 'sent_idx': 342, 'claim2_distance': 340, 'claim3a_distance': 183, 'claim3b_distance': 169, 'claim4_distance': None}, {'value': 0.001, 'sentence': 'The stronger effect on the evaluation of legislators ( M neg = 3.47 , SD neg = 2.06 , M pos = 4.63 , SD pos = 2.44 , t ( 138 ) = 3.04 , p = .003 ) also translated in a stronger overall contagion effect , r = −0.33 , p < .001 .', 'sent_idx': 342, 'claim2_distance': 340, 'claim3a_distance': 183, 'claim3b_distance': 169, 'claim4_distance': None}, {'value': 0.003, 'sentence': 'Broken down by dimension , the first dimension now had the stronger contribution to the effect , β = −0.249 , p = .003 , than the third dimension , β = −0.147 , p = .058 , but the unexpected reverse effect for the second dimension was still there , β = 0.197 , p = .020 , R 2 = 0.17 , p < .001 .', 'sent_idx': 343, 'claim2_distance': 341, 'claim3a_distance': 184, 'claim3b_distance': 170, 'claim4_distance': None}, {'value': 0.058, 'sentence': 'Broken down by dimension , the first dimension now had the stronger contribution to the effect , β = −0.249 , p = .003 , than the third dimension , β = −0.147 , p = .058 , but the unexpected reverse effect for the second dimension was still there , β = 0.197 , p = .020 , R 2 = 0.17 , p < .001 .', 'sent_idx': 343, 'claim2_distance': 341, 'claim3a_distance': 184, 'claim3b_distance': 170, 'claim4_distance': None}, {'value': 0.02, 'sentence': 'Broken down by dimension , the first dimension now had the stronger contribution to the effect , β = −0.249 , p = .003 , than the third dimension , β = −0.147 , p = .058 , but the unexpected reverse effect for the second dimension was still there , β = 0.197 , p = .020 , R 2 = 0.17 , p < .001 .', 'sent_idx': 343, 'claim2_distance': 341, 'claim3a_distance': 184, 'claim3b_distance': 170, 'claim4_distance': None}, {'value': 0.001, 'sentence': 'Broken down by dimension , the first dimension now had the stronger contribution to the effect , β = −0.249 , p = .003 , than the third dimension , β = −0.147 , p = .058 , but the unexpected reverse effect for the second dimension was still there , β = 0.197 , p = .020 , R 2 = 0.17 , p < .001 .', 'sent_idx': 343, 'claim2_distance': 341, 'claim3a_distance': 184, 'claim3b_distance': 170, 'claim4_distance': None}, {'value': 0.063, 'sentence': 'Independent of this , however , it might also be raised that the overall contagion effect was not significantly different from zero ( p = .063 ) .', 'sent_idx': 347, 'claim2_distance': 345, 'claim3a_distance': 188, 'claim3b_distance': 174, 'claim4_distance': None}, {'value': 0.001, 'sentence': 'The fact that the contagion effect was very weak for the overall sample but clearly there ( p < .001 ) when we filtered out those participants who described the manipulation as too difficult to yield a focal effect , suggests that the described contagious effect is restricted to generalization .', 'sent_idx': 352, 'claim2_distance': 350, 'claim3a_distance': 193, 'claim3b_distance': 179, 'claim4_distance': None}, {'value': 0.001, 'sentence': 'Second , speaking to the broader evidence provided in Study 4 , even if we only took the unfiltered , conservative estimates of the effect as real , the average effect is still meta-analytically different from zero , r = −0.278 [ 95 % CI : -0.374 ; -0.181 ] , p < .001 .', 'sent_idx': 354, 'claim2_distance': 352, 'claim3a_distance': 195, 'claim3b_distance': 181, 'claim4_distance': None}, {'value': 0.001, 'sentence': 'The raters showed high agreement ( 98.6 % , κ = 0.95 , p < .001 ) , the twelve cases where they did not agree were resolved by the first author .', 'sent_idx': 374, 'claim2_distance': 372, 'claim3a_distance': 215, 'claim3b_distance': 201, 'claim4_distance': None}, {'value': 0.003, 'sentence': 'The empirical correlations were all negative and with the exception of two ( audiologists , massage therapist ) significant , p < .003 ( Fig .', 'sent_idx': 384, 'claim2_distance': 382, 'claim3a_distance': 225, 'claim3b_distance': 211, 'claim4_distance': None}, {'value': 0.001, 'sentence': \"Testing the distribution of these ( r-to-z-transformed ) correlations against zero yielded a significant result , t ( 27 ) = 13.23 , p < .001 , Cohen 's d = 2.50 , with an average ( z-to-r-transformed ) correlation of r = −0.54 .\", 'sent_idx': 386, 'claim2_distance': 384, 'claim3a_distance': 227, 'claim3b_distance': 213, 'claim4_distance': None}, {'value': 0.001, 'sentence': 'Distance on the first dimension had the strongest impact on valence of expectations , β = −0.39 , t ( 27 ) = 11.96 , p < .001 , d = 2.26 , but distance on the second , β = −0.28 , t ( 27 ) = 11.17 , p < .001 , d = 2.11 , and third dimension , β = −0.21 , t ( 27 ) = 6.90 , p < .001 , d = 1.30 , were equally significant , incremental predictors .', 'sent_idx': 390, 'claim2_distance': 388, 'claim3a_distance': 231, 'claim3b_distance': 217, 'claim4_distance': None}, {'value': 0.001, 'sentence': 'Distance on the first dimension had the strongest impact on valence of expectations , β = −0.39 , t ( 27 ) = 11.96 , p < .001 , d = 2.26 , but distance on the second , β = −0.28 , t ( 27 ) = 11.17 , p < .001 , d = 2.11 , and third dimension , β = −0.21 , t ( 27 ) = 6.90 , p < .001 , d = 1.30 , were equally significant , incremental predictors .', 'sent_idx': 390, 'claim2_distance': 388, 'claim3a_distance': 231, 'claim3b_distance': 217, 'claim4_distance': None}, {'value': 0.001, 'sentence': 'Distance on the first dimension had the strongest impact on valence of expectations , β = −0.39 , t ( 27 ) = 11.96 , p < .001 , d = 2.26 , but distance on the second , β = −0.28 , t ( 27 ) = 11.17 , p < .001 , d = 2.11 , and third dimension , β = −0.21 , t ( 27 ) = 6.90 , p < .001 , d = 1.30 , were equally significant , incremental predictors .', 'sent_idx': 390, 'claim2_distance': 388, 'claim3a_distance': 231, 'claim3b_distance': 217, 'claim4_distance': None}, {'value': 0.001, 'sentence': 'Supporting this notion , there was a curvilinear effect for the first , β = −0.59 , p < .001 ( linear : β = 0.03 , p = .872 ) , the second , β = −0.61 , p < .001 ( linear : β = 0.10 , p = .562 ) and descriptively also for the third dimension , β = −0.30 , p = .078 ( linear : β = −0.46 , p = .011 ; Fig .', 'sent_idx': 394, 'claim2_distance': 392, 'claim3a_distance': 235, 'claim3b_distance': 221, 'claim4_distance': None}, {'value': 0.872, 'sentence': 'Supporting this notion , there was a curvilinear effect for the first , β = −0.59 , p < .001 ( linear : β = 0.03 , p = .872 ) , the second , β = −0.61 , p < .001 ( linear : β = 0.10 , p = .562 ) and descriptively also for the third dimension , β = −0.30 , p = .078 ( linear : β = −0.46 , p = .011 ; Fig .', 'sent_idx': 394, 'claim2_distance': 392, 'claim3a_distance': 235, 'claim3b_distance': 221, 'claim4_distance': None}, {'value': 0.001, 'sentence': 'Supporting this notion , there was a curvilinear effect for the first , β = −0.59 , p < .001 ( linear : β = 0.03 , p = .872 ) , the second , β = −0.61 , p < .001 ( linear : β = 0.10 , p = .562 ) and descriptively also for the third dimension , β = −0.30 , p = .078 ( linear : β = −0.46 , p = .011 ; Fig .', 'sent_idx': 394, 'claim2_distance': 392, 'claim3a_distance': 235, 'claim3b_distance': 221, 'claim4_distance': None}, {'value': 0.562, 'sentence': 'Supporting this notion , there was a curvilinear effect for the first , β = −0.59 , p < .001 ( linear : β = 0.03 , p = .872 ) , the second , β = −0.61 , p < .001 ( linear : β = 0.10 , p = .562 ) and descriptively also for the third dimension , β = −0.30 , p = .078 ( linear : β = −0.46 , p = .011 ; Fig .', 'sent_idx': 394, 'claim2_distance': 392, 'claim3a_distance': 235, 'claim3b_distance': 221, 'claim4_distance': None}, {'value': 0.078, 'sentence': 'Supporting this notion , there was a curvilinear effect for the first , β = −0.59 , p < .001 ( linear : β = 0.03 , p = .872 ) , the second , β = −0.61 , p < .001 ( linear : β = 0.10 , p = .562 ) and descriptively also for the third dimension , β = −0.30 , p = .078 ( linear : β = −0.46 , p = .011 ; Fig .', 'sent_idx': 394, 'claim2_distance': 392, 'claim3a_distance': 235, 'claim3b_distance': 221, 'claim4_distance': None}, {'value': 0.011, 'sentence': 'Supporting this notion , there was a curvilinear effect for the first , β = −0.59 , p < .001 ( linear : β = 0.03 , p = .872 ) , the second , β = −0.61 , p < .001 ( linear : β = 0.10 , p = .562 ) and descriptively also for the third dimension , β = −0.30 , p = .078 ( linear : β = −0.46 , p = .011 ; Fig .', 'sent_idx': 394, 'claim2_distance': 392, 'claim3a_distance': 235, 'claim3b_distance': 221, 'claim4_distance': None}], 'Model_Names': [{'value': 'principal components , and property fitting analyses', 'sentence': \"scaling , principal components , and property fitting analyses showed that across both studies people 's first independent occupational stereotype was agency with surgeons , software developers , and aerospace engineers at the top of the occupational ladder and cashiers , telemarketers , and parking lot attendants at the bottom .\", 'sent_idx': 126, 'claim2_distance': 124, 'claim3a_distance': -33, 'claim3b_distance': -47, 'claim4_distance': None}, {'value': 'multinomial processing tree ( MPT ) analysis', 'sentence': 'To account for potential guessing artefacts , we also computed the multinomial processing tree ( MPT ) analysis by means of the R package TreeBUGS ( Heck , Arnold , & Arnold , 2018 ) .', 'sent_idx': 245, 'claim2_distance': 243, 'claim3a_distance': 86, 'claim3b_distance': 72, 'claim4_distance': None}, {'value': 'multinomial processing tree analyses', 'sentence': 'We used an adapted WSW-Task ( to allow for multinomial processing tree analyses sensu Klauer & Wegener , 1998 ) by randomly drawing four occupations from pool of the 15 most extreme occupations at each end of the respective dimension .', 'sent_idx': 220, 'claim2_distance': 218, 'claim3a_distance': 61, 'claim3b_distance': 47, 'claim4_distance': None}, {'value': 'hierarchical multiple regressions', 'sentence': 'To have a more fine-grained analysis , we then predicted the difficulty ratings with hierarchical multiple regressions .', 'sent_idx': 175, 'claim2_distance': 173, 'claim3a_distance': 16, 'claim3b_distance': 2, 'claim4_distance': None}, {'value': 'multidimensional scaling ( MDS', 'sentence': 'We then collected estimates of similarity between typical holders of all occupations and subjected these similarity estimates to multidimensional scaling ( MDS ; for an introduction , see Hout , Papesh , & Goldinger , 2013 ; for an example , see Lammers , Koch , Conway , & Brandt , 2017 ) .', 'sent_idx': 42, 'claim2_distance': 40, 'claim3a_distance': -117, 'claim3b_distance': -131, 'claim4_distance': None}, {'value': 'principal component analysis', 'sentence': 'To systematize interpretation , we ran a principal component analysis ( varimax rotation ; details Table osm.3 ; separate property fitting analyses for all 41 candidate dimensions Table osm .2 ) on the 41 candidates which resulted in four factors : agency ( e.g. , powerful , assertive , high status ; α = 0.96 ) , progressiveness ( e.g. , creative , liberal , promotionoriented ; α = 0.90 ) , sociability ( e.g. , outgoing , sociable , interconnected ; α = 0.89 ) , and communion ( e.g. , sincere , trustworthy , warm ; α = 0.95 ) .', 'sent_idx': 71, 'claim2_distance': 69, 'claim3a_distance': -88, 'claim3b_distance': -102, 'claim4_distance': None}, {'value': 'multiple regression analysis', 'sentence': 'Looking at the unique contribution of the three dimensions , we then proceeded to conduct a multiple regression analysis with distance to police officers on each dimension as separate predictors of the effect the manipulation had on perceived warmth .', 'sent_idx': 316, 'claim2_distance': 314, 'claim3a_distance': 157, 'claim3b_distance': 143, 'claim4_distance': None}, {'value': 'spatial arrangement method', 'sentence': 'This spatial arrangement method ( SpAM ; Hout , Goldinger , & Ferguson , 2013 ; Hout & Goldinger , 2016 ; Koch , Alves , Krüger , & Unkelbach , 2016 ) measures similarity in terms of proximity .', 'sent_idx': 60, 'claim2_distance': 58, 'claim3a_distance': -99, 'claim3b_distance': -113, 'claim4_distance': None}, {'value': 'intermediate analyses', 'sentence': 'No intermediate analyses were conducted and there was no continued data collection after data analysis .', 'sent_idx': 37, 'claim2_distance': 35, 'claim3a_distance': -122, 'claim3b_distance': -136, 'claim4_distance': None}, {'value': 'multiple correlation', 'sentence': 'The multiple correlation of each of these property fitting analyses ( e.g. , Deng , Armstrong , & Rounds , 2007 ) showed the extent to which respective candidate could be fitted to the model by rotating it .', 'sent_idx': 73, 'claim2_distance': 71, 'claim3a_distance': -86, 'claim3b_distance': -100, 'claim4_distance': None}, {'value': 'Multidimensional Fig', 'sentence': 'Multidimensional Fig .', 'sent_idx': 121, 'claim2_distance': 119, 'claim3a_distance': -38, 'claim3b_distance': -52, 'claim4_distance': None}, {'value': 'regression analyses', 'sentence': 'To this end , we calculated 28 regression analyses with three indicators of unidimensional distance as predictors and the d as criteria .', 'sent_idx': 388, 'claim2_distance': 386, 'claim3a_distance': 229, 'claim3b_distance': 215, 'claim4_distance': None}, {'value': 'best fitting model', 'sentence': 'As customary , results of the best fitting model are reported .', 'sent_idx': 249, 'claim2_distance': 247, 'claim3a_distance': 90, 'claim3b_distance': 76, 'claim4_distance': None}, {'value': 'dimensional model', 'sentence': 'All these studies point to the relevance of the dimensional model and they stand independent of how we interpret the dimensions that run through the space .', 'sent_idx': 412, 'claim2_distance': 410, 'claim3a_distance': 253, 'claim3b_distance': 239, 'claim4_distance': None}, {'value': 'MDS analyses', 'sentence': 'The fact that participants saw the likelihood of identical twins holding two specific jobs as lower ( vs. higher ) when the respective two occupations were far apart ( close together ) in the occupational model speaks against the notion that the similarity judgments that we used to feed our MDS analyses are merely based on characterizations of the occupational role , detached from the individuals who fill that role .', 'sent_idx': 193, 'claim2_distance': 191, 'claim3a_distance': 34, 'claim3b_distance': 20, 'claim4_distance': None}, {'value': 'APS model', 'sentence': \"To validate the APS model , we started out from the 111 `` minor '' occupations of the International Standard Classification of Occupations ( http : //www.ilo.org/public/english/bureau/stat/isco/docs/resol08 .\", 'sent_idx': 89, 'claim2_distance': 87, 'claim3a_distance': -70, 'claim3b_distance': -84, 'claim4_distance': None}, {'value': '28', 'sentence': 'To this end , we calculated 28 regression analyses with three indicators of unidimensional distance as predictors and the d as criteria .', 'sent_idx': 388, 'claim2_distance': 386, 'claim3a_distance': 229, 'claim3b_distance': 215, 'claim4_distance': None}]}, 'Reporting_&_Transparency': {'Pre-registration': {'value': 1, 'sentence': 'all materials data and supplemental figures and tables are available on our osf project site link'}, 'Open_materials': {'value': 1, 'sentence': 'all materials data and supplemental figures and tables are available on our osf project site link'}, 'Open_code': {'value': 1, 'sentence': 'all materials data and code are available under https osf io 4rmnv'}, 'Open_data': {'value': 1, 'sentence': 'all materials data and supplemental figures and tables are available on our osf project site link'}, 'Interest_conflicts': {'value': 0, 'sentence': None}, 'Private_funding': {'value': 0, 'sentence': None}}, 'Design_Quality': {'Sample_Sizes': [{'value': 3919, 'sentence': 'We present a data-driven model of stereotypes about occupations ( total N = 3919 ) .', 'sent_idx': 0, 'claim2_distance': -2, 'claim3a_distance': -159, 'claim3b_distance': -173, 'claim4_distance': None}, {'value': 457, 'sentence': \"According to this survey , the highest order of the North American Industry Classification System lists 457 `` broad '' occupations .\", 'sent_idx': 51, 'claim2_distance': 49, 'claim3a_distance': -108, 'claim3b_distance': -122, 'claim4_distance': None}, {'value': 150, 'sentence': 'Table osm.1 ( see online supplementary materials ) shows the final list of 150 occupations .', 'sent_idx': 56, 'claim2_distance': 54, 'claim3a_distance': -103, 'claim3b_distance': -117, 'claim4_distance': None}, {'value': 213, 'sentence': \"To explore the stereotype dimensions that people spontaneously use to make sense of others based on their occupation , 213 U.S. Americans recruited from Amazon 's Mechanical Turk ( M age = 34.05 , SD = 10.54 ; 101 women , 111 men ) were instructed to `` position 50 occupational groups [ randomly drawn from the list of 150 occupations ] on the computer screen according to how similar or dissimilar you perceive typical members of these groups to be . ''\", 'sent_idx': 57, 'claim2_distance': 55, 'claim3a_distance': -102, 'claim3b_distance': -116, 'claim4_distance': None}, {'value': 11175, 'sentence': 'For each of the 11,175 pairs that could be formed with the 150 occupations , we averaged dissimilarity across all participants who repositioned the two occupations .', 'sent_idx': 63, 'claim2_distance': 61, 'claim3a_distance': -96, 'claim3b_distance': -110, 'claim4_distance': None}, {'value': 11175, 'sentence': 'We subjected the 11,175 mean dissimilarity indices to MDS with an ALSCAL procedure ( Young , Takane , & Lewyckyj , 1978 ) ; assuming an interval scale , we estimated coordinates for the 150 occupations in a 1D-6D model .', 'sent_idx': 64, 'claim2_distance': 62, 'claim3a_distance': -95, 'claim3b_distance': -109, 'claim4_distance': None}, {'value': 41, 'sentence': 'These candidate dimensions inspired by the data were augmented with candidates derived from main theories of stereotype content ( e.g. , Fiske et al. , 2002 ) , resulting in the 41 candidates shown in Table osm .2 .', 'sent_idx': 68, 'claim2_distance': 66, 'claim3a_distance': -91, 'claim3b_distance': -105, 'claim4_distance': None}, {'value': 41, 'sentence': \"Raters ' agreement about the occupations was very high , ICC ( 2 , k ) ≥ 0.79 , for all 41 candidates .\", 'sent_idx': 70, 'claim2_distance': 68, 'claim3a_distance': -89, 'claim3b_distance': -103, 'claim4_distance': None}, {'value': 84, 'sentence': 'Table osm.4 shows the final list of 84 occupations .', 'sent_idx': 92, 'claim2_distance': 90, 'claim3a_distance': -67, 'claim3b_distance': -81, 'claim4_distance': None}, {'value': 119, 'sentence': '119 students of different majors ( M age = 26.45 , SD = 12.18 ; 56 women , 62 men ) were presented with 42 random occupations and spatially arranged occupations whose typical members are more similar closer to one another on the screen .', 'sent_idx': 93, 'claim2_distance': 91, 'claim3a_distance': -66, 'claim3b_distance': -80, 'claim4_distance': None}, {'value': 26, 'sentence': \"1 Another 26 raters ( 8 women , 17 men ) judged the pleasantness of the 150 job activities per se to test if it was a better description of people 's similarity estimates than stereotypes about typical holders of the 150 jobs .\", 'sent_idx': 98, 'claim2_distance': 96, 'claim3a_distance': -61, 'claim3b_distance': -75, 'claim4_distance': None}, {'value': 700, 'sentence': 'Participants entered > 700 labels to interpret the horizontal and vertical axis of the spatial arrangement board .', 'sent_idx': 107, 'claim2_distance': 105, 'claim3a_distance': -52, 'claim3b_distance': -66, 'claim4_distance': None}, {'value': 208, 'sentence': '208 additional participants ( M age = 25.55 , SD = 5.58 , 149 women , 59 men ) used a 0-10 slider scale to rate all 84 occupations on two of the ten candidate dimensions ( randomly chosen ; Fig .', 'sent_idx': 110, 'claim2_distance': 108, 'claim3a_distance': -49, 'claim3b_distance': -63, 'claim4_distance': None}, {'value': 150, 'sentence': '3D model of 150 U.S. occupations ( 24 occupations are shown ) .', 'sent_idx': 123, 'claim2_distance': 121, 'claim3a_distance': -36, 'claim3b_distance': -50, 'claim4_distance': None}, {'value': 183, 'sentence': 'Study 2a ( N = 183 MTurk workers ; 90 men and 93 women aged between 19 and 74 , M = 36.14 , SD = 12.71 ) and Study 2b ( N = 203 MTurk workers ; 104 men , 97 women , and 2 other gender aged between 18 and 74 , M = 30.78 , SD = 10.19 ) were identical except for the judgment participants had to make about these pairs .', 'sent_idx': 164, 'claim2_distance': 162, 'claim3a_distance': 5, 'claim3b_distance': -9, 'claim4_distance': None}, {'value': 203, 'sentence': 'Study 2a ( N = 183 MTurk workers ; 90 men and 93 women aged between 19 and 74 , M = 36.14 , SD = 12.71 ) and Study 2b ( N = 203 MTurk workers ; 104 men , 97 women , and 2 other gender aged between 18 and 74 , M = 30.78 , SD = 10.19 ) were identical except for the judgment participants had to make about these pairs .', 'sent_idx': 164, 'claim2_distance': 162, 'claim3a_distance': 5, 'claim3b_distance': -9, 'claim4_distance': None}, {'value': 1, 'sentence': 'A different set of one hundred US-Americans took part in each of the three online studies on Mechanical Turk .', 'sent_idx': 223, 'claim2_distance': 221, 'claim3a_distance': 64, 'claim3b_distance': 50, 'claim4_distance': None}, {'value': 86, 'sentence': 'Thus , for the first dimension , the data of 86 participants ( 35 men , 50 women , 1 did not indicate , M age = 33.56 , SD age = 10.62 ) were included in the analysis .', 'sent_idx': 226, 'claim2_distance': 224, 'claim3a_distance': 67, 'claim3b_distance': 53, 'claim4_distance': None}, {'value': 81, 'sentence': 'The data of 81 participants ( 43 men , 38 women , M age = 32.25 , SD age = 9.22 ) were included in the analysis for the second dimension , while N = 90 ( 45 men , 45 women , M age = 35.63 , SD age = 12.52 ) provided the sample for the third dimension .', 'sent_idx': 227, 'claim2_distance': 225, 'claim3a_distance': 68, 'claim3b_distance': 54, 'claim4_distance': None}, {'value': 90, 'sentence': 'The data of 81 participants ( 43 men , 38 women , M age = 32.25 , SD age = 9.22 ) were included in the analysis for the second dimension , while N = 90 ( 45 men , 45 women , M age = 35.63 , SD age = 12.52 ) provided the sample for the third dimension .', 'sent_idx': 227, 'claim2_distance': 225, 'claim3a_distance': 68, 'claim3b_distance': 54, 'claim4_distance': None}, {'value': 48, 'sentence': 'We used a statement set and a distractor set , consisting of 48 demographics sentences each .', 'sent_idx': 231, 'claim2_distance': 229, 'claim3a_distance': 72, 'claim3b_distance': 58, 'claim4_distance': None}, {'value': 125, 'sentence': 'To evoke the respective evaluation we presented participants in a pilot study ( N = 125 MTurk workers ; 53 women , 72 men ; M age = 36.4 years , SD age = 11.3 ) with screenshots from two different Facebook group sites `` A Warmer Shade of Blue .', 'sent_idx': 276, 'claim2_distance': 274, 'claim3a_distance': 117, 'claim3b_distance': 103, 'claim4_distance': None}, {'value': 226, 'sentence': 'In total , N = 226 US-based MTurk workers ( 121 men , 105 women ; 80.5 % White ) between the age of 18 and 68 ( M = 35.67 , SD = 11.82 ) completed a study for small monetary compensation .', 'sent_idx': 296, 'claim2_distance': 294, 'claim3a_distance': 137, 'claim3b_distance': 123, 'claim4_distance': None}, {'value': 30, 'sentence': 'Among the 30 obtained occupations , two appeared twice , leaving us with 28 unique occupations .', 'sent_idx': 365, 'claim2_distance': 363, 'claim3a_distance': 206, 'claim3b_distance': 192, 'claim4_distance': None}, {'value': 800, 'sentence': 'We had aimed for 800 participants ( see preregistration ) , but due to a technical error with missing completion codes a total of N = 938 MTurk workers ( 489 men , 442 women , 7 other ; ranging in age from 18 to 77 , M = 35.74 , SD = 10.86 ) completed the study for $ 1 .', 'sent_idx': 371, 'claim2_distance': 369, 'claim3a_distance': 212, 'claim3b_distance': 198, 'claim4_distance': None}, {'value': 938, 'sentence': 'We had aimed for 800 participants ( see preregistration ) , but due to a technical error with missing completion codes a total of N = 938 MTurk workers ( 489 men , 442 women , 7 other ; ranging in age from 18 to 77 , M = 35.74 , SD = 10.86 ) completed the study for $ 1 .', 'sent_idx': 371, 'claim2_distance': 369, 'claim3a_distance': 212, 'claim3b_distance': 198, 'claim4_distance': None}, {'value': 43, 'sentence': 'Applying the pre-registered exclusion criteria , 43 participants were excluded as they indicated that researchers should drop their data , 41 participants were excluded because their selfestimated ease to imagine the prescribed experience was three or lower .', 'sent_idx': 372, 'claim2_distance': 370, 'claim3a_distance': 213, 'claim3b_distance': 199, 'claim4_distance': None}, {'value': 41, 'sentence': 'Applying the pre-registered exclusion criteria , 43 participants were excluded as they indicated that researchers should drop their data , 41 participants were excluded because their selfestimated ease to imagine the prescribed experience was three or lower .', 'sent_idx': 372, 'claim2_distance': 370, 'claim3a_distance': 213, 'claim3b_distance': 199, 'claim4_distance': None}, {'value': 854, 'sentence': 'For the remaining 854 participants , two hypothesis-blind raters judged whether their open-ended memory of the target occupation was correct or not .', 'sent_idx': 373, 'claim2_distance': 371, 'claim3a_distance': 214, 'claim3b_distance': 200, 'claim4_distance': None}, {'value': 131, 'sentence': 'Based on this , another 131 participants were excluded for not remembering the correct target occupation .', 'sent_idx': 375, 'claim2_distance': 373, 'claim3a_distance': 216, 'claim3b_distance': 202, 'claim4_distance': None}, {'value': 715, 'sentence': 'The final sample thus effectively consisted of 715 participants .', 'sent_idx': 377, 'claim2_distance': 375, 'claim3a_distance': 218, 'claim3b_distance': 204, 'claim4_distance': None}]}, 'Citation_Rankings': {'claim2': {'sent_idx': [2], 'nearest_citations': [{'distance': 7, 'citation_mention': '(Rutjens & Heine, 2016)', 'citation': {'authors': [{'first': 'B', 'last': 'Rutjens', 'middle': ['T'], 'suffix': ''}, {'first': 'S', 'last': 'Heine', 'middle': ['J'], 'suffix': ''}], 'issue': '', 'links': None, 'num': None, 'other_ids': {}, 'pages': '', 'raw_text': 'Rutjens, B. T., & Heine, S. J. (2016). The immoral landscape? Scientists are associated with violations of morality. PLoS ONE, 11, e0152798.', 'ref_id': 'b38', 'title': 'The immoral landscape? Scientists are associated with violations of morality', 'urls': [], 'venue': 'PLoS ONE', 'volume': '', 'year': 2016}}, {'distance': 9, 'citation_mention': '(Abele & Petzold, 1998)', 'citation': {'authors': [{'first': 'A', 'last': 'Abele', 'middle': ['E'], 'suffix': ''}, {'first': 'P', 'last': 'Petzold', 'middle': [], 'suffix': ''}], 'issue': '', 'links': None, 'num': None, 'other_ids': {}, 'pages': '347--358', 'raw_text': 'Abele, A. E., & Petzold, P. (1998). Pragmatic use of categorical information in impression formation. Journal of Personality and Social Psychology, 75, 347-358.', 'ref_id': 'b0', 'title': 'Pragmatic use of categorical information in impression formation', 'urls': [], 'venue': 'Journal of Personality and Social Psychology', 'volume': '75', 'year': 1998}}, {'distance': 9, 'citation_mention': '(Rotter & Stein, 1971)', 'citation': {'authors': [{'first': 'J', 'last': 'Rotter', 'middle': ['B'], 'suffix': ''}, {'first': 'D', 'last': 'Stein', 'middle': ['K'], 'suffix': ''}], 'issue': '', 'links': None, 'num': None, 'other_ids': {}, 'pages': '334--343', 'raw_text': 'Rotter, J. B., & Stein, D. K. (1971). Public attitudes toward the trustworthiness, compe- tence, and altruism of twenty selected occupations. Journal of Applied Social Psychology, 1, 334-343.', 'ref_id': 'b36', 'title': 'Public attitudes toward the trustworthiness, competence, and altruism of twenty selected occupations', 'urls': [], 'venue': 'Journal of Applied Social Psychology', 'volume': '1', 'year': 1971}}, {'distance': 11, 'citation_mention': '(Eagly, Wood, & Diekman, 2000)', 'citation': {'authors': [{'first': 'A', 'last': 'Eagly', 'middle': ['H'], 'suffix': ''}, {'first': 'W', 'last': 'Wood', 'middle': [], 'suffix': ''}, {'first': 'A', 'last': 'Diekman', 'middle': ['B'], 'suffix': ''}], 'issue': '', 'links': None, 'num': None, 'other_ids': {}, 'pages': '123--174', 'raw_text': 'Eagly, A. H., Wood, W., & Diekman, A. B. (2000). Social role theory of sex differences and similarities: A current appraisal. In T. Eckes, & H. M. Trautner (Eds.). The develop- mental social psychology of gender (pp. 123-174). Mahwah, NJ: Lawrence Erlbaum.', 'ref_id': 'b8', 'title': 'Social role theory of sex differences and similarities: A current appraisal', 'urls': [], 'venue': '', 'volume': '', 'year': 2000}}, {'distance': 16, 'citation_mention': 'Pratto, Stallworth, Sidanius, & Siers, 1997;', 'citation': {'authors': [{'first': 'F', 'last': 'Pratto', 'middle': [], 'suffix': ''}, {'first': 'L', 'last': 'Stallworth', 'middle': ['M'], 'suffix': ''}, {'first': 'J', 'last': 'Sidanius', 'middle': [], 'suffix': ''}, {'first': 'B', 'last': 'Siers', 'middle': [], 'suffix': ''}], 'issue': '', 'links': None, 'num': None, 'other_ids': {}, 'pages': '37--53', 'raw_text': 'Pratto, F., Stallworth, L. M., Sidanius, J., & Siers, B. (1997). The gender gap in occupa- tional role attainment: A social dominance approach. Journal of Personality and Social Psychology, 72, 37-53.', 'ref_id': 'b35', 'title': 'The gender gap in occupational role attainment: A social dominance approach', 'urls': [], 'venue': 'Journal of Personality and Social Psychology', 'volume': '72', 'year': 1997}}, {'distance': 16, 'citation_mention': 'Sidanius, Liu, Pratto, & Shaw, 1994)', 'citation': {'authors': [{'first': 'J', 'last': 'Sidanius', 'middle': [], 'suffix': ''}, {'first': 'J', 'last': 'Liu', 'middle': ['H'], 'suffix': ''}, {'first': 'F', 'last': 'Pratto', 'middle': [], 'suffix': ''}, {'first': 'J', 'last': 'Shaw', 'middle': ['S'], 'suffix': ''}], 'issue': '', 'links': None, 'num': None, 'other_ids': {}, 'pages': '338--366', 'raw_text': 'Sidanius, J., Liu, J. H., Pratto, F., & Shaw, J. S. (1994). Social dominance orientation, hierarchy attenuators and hierarchy-enhancers: Social dominance theory and the criminal justice system. Journal of Applied Social Psychology, 24, 338-366.', 'ref_id': 'b41', 'title': 'Social dominance orientation, hierarchy attenuators and hierarchy-enhancers: Social dominance theory and the criminal justice system', 'urls': [], 'venue': 'Journal of Applied Social Psychology', 'volume': '24', 'year': 1994}}, {'distance': 17, 'citation_mention': '(Wilbourn & Kee, 2010)', 'citation': {'authors': [{'first': 'M', 'last': 'Wilbourn', 'middle': ['P'], 'suffix': ''}, {'first': 'D', 'last': 'Kee', 'middle': ['W'], 'suffix': ''}], 'issue': '', 'links': None, 'num': None, 'other_ids': {}, 'pages': '670--683', 'raw_text': \"Wilbourn, M. P., & Kee, D. W. (2010). Henry the nurse is a doctor too: Implicitly ex- amining children's gender stereotypes for male and female occupational roles. Sex Roles, 62, 670-683.\", 'ref_id': 'b48', 'title': \"Henry the nurse is a doctor too: Implicitly examining children's gender stereotypes for male and female occupational roles\", 'urls': [], 'venue': 'Sex Roles', 'volume': '62', 'year': 2010}}, {'distance': 18, 'citation_mention': '(Koenig, Eagly, Mitchell, & Ristikari, 2011', 'citation': {'authors': [{'first': 'A', 'last': 'Koenig', 'middle': ['M'], 'suffix': ''}, {'first': 'A', 'last': 'Eagly', 'middle': ['H'], 'suffix': ''}, {'first': 'A', 'last': 'Mitchell', 'middle': ['A'], 'suffix': ''}, {'first': 'T', 'last': 'Ristikari', 'middle': [], 'suffix': ''}], 'issue': '', 'links': None, 'num': None, 'other_ids': {}, 'pages': '616--643', 'raw_text': 'Koenig, A. M., Eagly, A. H., Mitchell, A. A., & Ristikari, T. (2011). Are leader stereotypes masculine? A meta-analysis of three research paradigms. Psychological Bulletin, 137, 616-643.', 'ref_id': 'b30', 'title': 'Are leader stereotypes masculine? A meta-analysis of three research paradigms', 'urls': [], 'venue': 'Psychological Bulletin', 'volume': '137', 'year': 2011}}, {'distance': 18, 'citation_mention': '(Glick, Zion, & Nelson, 1988)', 'citation': {'authors': [{'first': 'P', 'last': 'Glick', 'middle': [], 'suffix': ''}, {'first': 'C', 'last': 'Zion', 'middle': [], 'suffix': ''}, {'first': 'C', 'last': 'Nelson', 'middle': [], 'suffix': ''}], 'issue': '', 'links': None, 'num': None, 'other_ids': {}, 'pages': '178--186', 'raw_text': 'Glick, P., Zion, C., & Nelson, C. (1988). What mediates sex discrimination in hiring de- cisions? Journal of Personality and Social Psychology, 55, 178-186.', 'ref_id': 'b12', 'title': 'What mediates sex discrimination in hiring decisions', 'urls': [], 'venue': 'Journal of Personality and Social Psychology', 'volume': '55', 'year': 1988}}, {'distance': 20, 'citation_mention': 'Glick, & Xu, 2002)', 'citation': {'authors': [{'first': 'S', 'last': 'Fiske', 'middle': ['T'], 'suffix': ''}, {'first': 'A', 'last': 'Cuddy', 'middle': ['J'], 'suffix': ''}, {'first': 'P', 'last': 'Glick', 'middle': [], 'suffix': ''}, {'first': 'J', 'last': 'Xu', 'middle': [], 'suffix': ''}], 'issue': '', 'links': None, 'num': None, 'other_ids': {}, 'pages': '878--902', 'raw_text': 'Fiske, S. T., Cuddy, A. J., Glick, P., & Xu, J. (2002). A model of (often mixed) stereotype content: Competence and warmth respectively follow from perceived status and competition. Journal of Personality and Social Psychology, 82, 878-902.', 'ref_id': 'b9', 'title': 'A model of (often mixed) stereotype content: Competence and warmth respectively follow from perceived status and competition', 'urls': [], 'venue': 'Journal of Personality and Social Psychology', 'volume': '82', 'year': 2002}}, {'distance': 20, 'citation_mention': '(Fiske & Dupree, 2014;', 'citation': {'authors': [{'first': 'S', 'last': 'Fiske', 'middle': ['T'], 'suffix': ''}, {'first': 'C', 'last': 'Dupree', 'middle': [], 'suffix': ''}], 'issue': '', 'links': None, 'num': None, 'other_ids': {}, 'pages': '13593--13597', 'raw_text': 'Fiske, S. T., & Dupree, C. (2014). Gaining trust as well as respect in communicating to motivated audiences about science topics. Proceedings of the National Academy of Sciences, 111, 13593-13597.', 'ref_id': 'b10', 'title': 'Gaining trust as well as respect in communicating to motivated audiences about science topics', 'urls': [], 'venue': 'Proceedings of the National Academy of Sciences', 'volume': '111', 'year': 2014}}, {'distance': 20, 'citation_mention': 'Imhoff, Woelki, Hanke, & Dotsch, 2013;', 'citation': {'authors': [{'first': 'R', 'last': 'Imhoff', 'middle': [], 'suffix': ''}, {'first': 'J', 'last': 'Woelki', 'middle': [], 'suffix': ''}, {'first': 'S', 'last': 'Hanke', 'middle': [], 'suffix': ''}, {'first': 'R', 'last': 'Dotsch', 'middle': [], 'suffix': ''}], 'issue': '', 'links': None, 'num': None, 'other_ids': {}, 'pages': '1--10', 'raw_text': 'Imhoff, R., Woelki, J., Hanke, S., & Dotsch, R. (2013). Warmth and competence in your face! Visual encoding of stereotype content. Frontiers in Psychology, 4, 386. Jaworska, N., & Chupetlovska-Anastasova, A. (2009). A review of multidimensional scaling (MDS) and its utility in various psychological domains. Tutorial in Quantitative Methods for Psychology, 5, 1-10.', 'ref_id': 'b23', 'title': 'A review of multidimensional scaling (MDS) and its utility in various psychological domains', 'urls': [], 'venue': 'Tutorial in Quantitative Methods for Psychology', 'volume': '4', 'year': 2009}}, {'distance': 20, 'citation_mention': 'Koenig & Eagly, 2014)', 'citation': {'authors': [{'first': 'A', 'last': 'Koenig', 'middle': ['M'], 'suffix': ''}, {'first': 'A', 'last': 'Eagly', 'middle': ['H'], 'suffix': ''}], 'issue': '', 'links': None, 'num': None, 'other_ids': {}, 'pages': '371--392', 'raw_text': \"Koenig, A. M., & Eagly, A. H. (2014). Evidence for the social role theory of stereotype content: Observations of groups' roles shape stereotypes. Journal of Personality and Social Psychology, 107, 371-392.\", 'ref_id': 'b29', 'title': \"Evidence for the social role theory of stereotype content: Observations of groups' roles shape stereotypes\", 'urls': [], 'venue': 'Journal of Personality and Social Psychology', 'volume': '107', 'year': 2014}}]}, 'claim3a': {'sent_idx': [159], 'nearest_citations': [{'distance': 10, 'citation_mention': '(Hayes & Krippendorff, 2007)', 'citation': {'authors': [{'first': 'A', 'last': 'Hayes', 'middle': ['F'], 'suffix': ''}, {'first': 'K', 'last': 'Krippendorff', 'middle': [], 'suffix': ''}], 'issue': '', 'links': None, 'num': None, 'other_ids': {}, 'pages': '77--89', 'raw_text': 'Hayes, A. F., & Krippendorff, K. (2007). Answering the call for a standard reliability measure for coding data. Communication Methods and Measures, 1, 77-89.', 'ref_id': 'b14', 'title': 'Answering the call for a standard reliability measure for coding data', 'urls': [], 'venue': 'Communication Methods and Measures', 'volume': '1', 'year': 2007}}, {'distance': -17, 'citation_mention': '(Holland, 1959', 'citation': {'authors': [{'first': 'J', 'last': 'Holland', 'middle': ['L'], 'suffix': ''}], 'issue': '', 'links': None, 'num': None, 'other_ids': {}, 'pages': '35--45', 'raw_text': 'Holland, J. L. (1959). A theory of vocational choice. Journal of Counseling Psychology, 6, 35-45.', 'ref_id': 'b16', 'title': 'A theory of vocational choice', 'urls': [], 'venue': 'Journal of Counseling Psychology', 'volume': '6', 'year': 1959}}, {'distance': -17, 'citation_mention': '(Holland, , 1997', 'citation': {'authors': [{'first': 'J', 'last': 'Holland', 'middle': ['L'], 'suffix': ''}], 'issue': '', 'links': None, 'num': None, 'other_ids': {}, 'pages': '', 'raw_text': 'Holland, J. L. (1997). Making vocational choices: A theory of vocational personalities and work environments. Odessa, FL, US: Psychological Assessment Resources.', 'ref_id': 'b17', 'title': 'Making vocational choices: A theory of vocational personalities and work environments', 'urls': [], 'venue': 'Psychological Assessment Resources', 'volume': '', 'year': 1997}}, {'distance': -22, 'citation_mention': \"Peabody's (1967)\", 'citation': {'authors': [{'first': 'D', 'last': 'Peabody', 'middle': [], 'suffix': ''}], 'issue': '', 'links': None, 'num': None, 'other_ids': {}, 'pages': '1--18', 'raw_text': 'Peabody, D. (1967). Trait inferences: Evaluative and descriptive aspects. Journal of Personality and Social Psychology, 7, 1-18.', 'ref_id': 'b33', 'title': 'Trait inferences: Evaluative and descriptive aspects', 'urls': [], 'venue': 'Journal of Personality and Social Psychology', 'volume': '7', 'year': 1967}}, {'distance': -22, 'citation_mention': \"Wish, Deutsch, and Biener's (1970)\", 'citation': {'authors': [{'first': 'M', 'last': 'Wish', 'middle': [], 'suffix': ''}, {'first': 'M', 'last': 'Deutsch', 'middle': [], 'suffix': ''}, {'first': 'L', 'last': 'Biener', 'middle': [], 'suffix': ''}, {'first': 'F', 'last': 'Young', 'middle': ['W'], 'suffix': ''}, {'first': 'Y', 'last': 'Takane', 'middle': [], 'suffix': ''}, {'first': 'R', 'last': 'Lewyckyj', 'middle': [], 'suffix': ''}], 'issue': '', 'links': None, 'num': None, 'other_ids': {}, 'pages': '451--453', 'raw_text': 'Wish, M., Deutsch, M., & Biener, L. (1970). Differences in conceptual structures of na- tions: An exploratory study. Journal of Personality and Social Psychology, 16, 361. Young, F. W., Takane, Y., & Lewyckyj, R. (1978). ALSCAL: A nonmetric multidimensional scaling program with several individual-differences options. Behavior Research Methods, 10, 451-453.', 'ref_id': 'b49', 'title': 'ALSCAL: A nonmetric multidimensional scaling program with several individual-differences options', 'urls': [], 'venue': 'Journal of Personality and Social Psychology', 'volume': '16', 'year': 1970}}, {'distance': -22, 'citation_mention': \"Jones and Ashmore's (1973)\", 'citation': {'authors': [{'first': 'R', 'last': 'Jones', 'middle': ['A'], 'suffix': ''}, {'first': 'R', 'last': 'Ashmore', 'middle': ['D'], 'suffix': ''}], 'issue': '', 'links': None, 'num': None, 'other_ids': {}, 'pages': '428--438', 'raw_text': 'Jones, R. A., & Ashmore, R. D. (1973). The structure of intergroup perception: Categories and dimensions in views of ethnic groups and adjectives used in stereotype research. Journal of Personality and Social Psychology, 25, 428-438.', 'ref_id': 'b24', 'title': 'The structure of intergroup perception: Categories and dimensions in views of ethnic groups and adjectives used in stereotype research', 'urls': [], 'venue': 'Journal of Personality and Social Psychology', 'volume': '25', 'year': 1973}}, {'distance': -22, 'citation_mention': 'Schwartz and Bilsky (1987)', 'citation': {'authors': [{'first': 'S', 'last': 'Schwartz', 'middle': ['H'], 'suffix': ''}, {'first': 'W', 'last': 'Bilsky', 'middle': [], 'suffix': ''}], 'issue': '', 'links': None, 'num': None, 'other_ids': {}, 'pages': '550--562', 'raw_text': 'Schwartz, S. H., & Bilsky, W. (1987). Toward a universal psychological structure of human values. Journal of Personality and Social Psychology, 53, 550-562.', 'ref_id': 'b39', 'title': 'Toward a universal psychological structure of human values', 'urls': [], 'venue': 'Journal of Personality and Social Psychology', 'volume': '53', 'year': 1987}}, {'distance': 45, 'citation_mention': '(Dunham, Stepanova, Dotsch, & Todorov, 2015)', 'citation': {'authors': [{'first': 'Y', 'last': 'Dunham', 'middle': [], 'suffix': ''}, {'first': 'E', 'last': 'Stepanova', 'middle': ['V'], 'suffix': ''}, {'first': 'R', 'last': 'Dotsch', 'middle': [], 'suffix': ''}, {'first': 'A', 'last': 'Todorov', 'middle': [], 'suffix': ''}], 'issue': '', 'links': None, 'num': None, 'other_ids': {}, 'pages': '469--483', 'raw_text': 'Dunham, Y., Stepanova, E. V., Dotsch, R., & Todorov, A. (2015). The development of race- based perceptual categorization: Skin color dominates early category judgments. Developmental Science, 18, 469-483.', 'ref_id': 'b7', 'title': 'The development of racebased perceptual categorization: Skin color dominates early category judgments', 'urls': [], 'venue': 'Developmental Science', 'volume': '18', 'year': 2015}}, {'distance': 49, 'citation_mention': '(Taylor, Fiske, Etcoff, & Ruderman, 1978)', 'citation': {'authors': [{'first': 'S', 'last': 'Taylor', 'middle': ['E'], 'suffix': ''}, {'first': 'S', 'last': 'Fiske', 'middle': ['T'], 'suffix': ''}, {'first': 'N', 'last': 'Etcoff', 'middle': ['L'], 'suffix': ''}, {'first': 'A', 'last': 'Ruderman', 'middle': ['J'], 'suffix': ''}], 'issue': '', 'links': None, 'num': None, 'other_ids': {}, 'pages': '778--793', 'raw_text': 'Taylor, S. E., Fiske, S. T., Etcoff, N. L., & Ruderman, A. J. (1978). Categorical and con- textual bases of person memory and stereotyping. Journal of Personality and Social Psychology, 36, 778-793.', 'ref_id': 'b45', 'title': 'Categorical and contextual bases of person memory and stereotyping', 'urls': [], 'venue': 'Journal of Personality and Social Psychology', 'volume': '36', 'year': 1978}}, {'distance': 56, 'citation_mention': '(Taylor et al., 1978)', 'citation': {'authors': [{'first': 'S', 'last': 'Taylor', 'middle': ['E'], 'suffix': ''}, {'first': 'S', 'last': 'Fiske', 'middle': ['T'], 'suffix': ''}, {'first': 'N', 'last': 'Etcoff', 'middle': ['L'], 'suffix': ''}, {'first': 'A', 'last': 'Ruderman', 'middle': ['J'], 'suffix': ''}], 'issue': '', 'links': None, 'num': None, 'other_ids': {}, 'pages': '778--793', 'raw_text': 'Taylor, S. E., Fiske, S. T., Etcoff, N. L., & Ruderman, A. J. (1978). Categorical and con- textual bases of person memory and stereotyping. Journal of Personality and Social Psychology, 36, 778-793.', 'ref_id': 'b45', 'title': 'Categorical and contextual bases of person memory and stereotyping', 'urls': [], 'venue': 'Journal of Personality and Social Psychology', 'volume': '36', 'year': 1978}}]}, 'claim3b': {'sent_idx': [173], 'nearest_citations': [{'distance': -4, 'citation_mention': '(Hayes & Krippendorff, 2007)', 'citation': {'authors': [{'first': 'A', 'last': 'Hayes', 'middle': ['F'], 'suffix': ''}, {'first': 'K', 'last': 'Krippendorff', 'middle': [], 'suffix': ''}], 'issue': '', 'links': None, 'num': None, 'other_ids': {}, 'pages': '77--89', 'raw_text': 'Hayes, A. F., & Krippendorff, K. (2007). Answering the call for a standard reliability measure for coding data. Communication Methods and Measures, 1, 77-89.', 'ref_id': 'b14', 'title': 'Answering the call for a standard reliability measure for coding data', 'urls': [], 'venue': 'Communication Methods and Measures', 'volume': '1', 'year': 2007}}, {'distance': -31, 'citation_mention': '(Holland, 1959', 'citation': {'authors': [{'first': 'J', 'last': 'Holland', 'middle': ['L'], 'suffix': ''}], 'issue': '', 'links': None, 'num': None, 'other_ids': {}, 'pages': '35--45', 'raw_text': 'Holland, J. L. (1959). A theory of vocational choice. Journal of Counseling Psychology, 6, 35-45.', 'ref_id': 'b16', 'title': 'A theory of vocational choice', 'urls': [], 'venue': 'Journal of Counseling Psychology', 'volume': '6', 'year': 1959}}, {'distance': -31, 'citation_mention': '(Holland, , 1997', 'citation': {'authors': [{'first': 'J', 'last': 'Holland', 'middle': ['L'], 'suffix': ''}], 'issue': '', 'links': None, 'num': None, 'other_ids': {}, 'pages': '', 'raw_text': 'Holland, J. L. (1997). Making vocational choices: A theory of vocational personalities and work environments. Odessa, FL, US: Psychological Assessment Resources.', 'ref_id': 'b17', 'title': 'Making vocational choices: A theory of vocational personalities and work environments', 'urls': [], 'venue': 'Psychological Assessment Resources', 'volume': '', 'year': 1997}}, {'distance': 31, 'citation_mention': '(Dunham, Stepanova, Dotsch, & Todorov, 2015)', 'citation': {'authors': [{'first': 'Y', 'last': 'Dunham', 'middle': [], 'suffix': ''}, {'first': 'E', 'last': 'Stepanova', 'middle': ['V'], 'suffix': ''}, {'first': 'R', 'last': 'Dotsch', 'middle': [], 'suffix': ''}, {'first': 'A', 'last': 'Todorov', 'middle': [], 'suffix': ''}], 'issue': '', 'links': None, 'num': None, 'other_ids': {}, 'pages': '469--483', 'raw_text': 'Dunham, Y., Stepanova, E. V., Dotsch, R., & Todorov, A. (2015). The development of race- based perceptual categorization: Skin color dominates early category judgments. Developmental Science, 18, 469-483.', 'ref_id': 'b7', 'title': 'The development of racebased perceptual categorization: Skin color dominates early category judgments', 'urls': [], 'venue': 'Developmental Science', 'volume': '18', 'year': 2015}}, {'distance': 35, 'citation_mention': '(Taylor, Fiske, Etcoff, & Ruderman, 1978)', 'citation': {'authors': [{'first': 'S', 'last': 'Taylor', 'middle': ['E'], 'suffix': ''}, {'first': 'S', 'last': 'Fiske', 'middle': ['T'], 'suffix': ''}, {'first': 'N', 'last': 'Etcoff', 'middle': ['L'], 'suffix': ''}, {'first': 'A', 'last': 'Ruderman', 'middle': ['J'], 'suffix': ''}], 'issue': '', 'links': None, 'num': None, 'other_ids': {}, 'pages': '778--793', 'raw_text': 'Taylor, S. E., Fiske, S. T., Etcoff, N. L., & Ruderman, A. J. (1978). Categorical and con- textual bases of person memory and stereotyping. Journal of Personality and Social Psychology, 36, 778-793.', 'ref_id': 'b45', 'title': 'Categorical and contextual bases of person memory and stereotyping', 'urls': [], 'venue': 'Journal of Personality and Social Psychology', 'volume': '36', 'year': 1978}}, {'distance': -36, 'citation_mention': \"Peabody's (1967)\", 'citation': {'authors': [{'first': 'D', 'last': 'Peabody', 'middle': [], 'suffix': ''}], 'issue': '', 'links': None, 'num': None, 'other_ids': {}, 'pages': '1--18', 'raw_text': 'Peabody, D. (1967). Trait inferences: Evaluative and descriptive aspects. Journal of Personality and Social Psychology, 7, 1-18.', 'ref_id': 'b33', 'title': 'Trait inferences: Evaluative and descriptive aspects', 'urls': [], 'venue': 'Journal of Personality and Social Psychology', 'volume': '7', 'year': 1967}}, {'distance': -36, 'citation_mention': \"Wish, Deutsch, and Biener's (1970)\", 'citation': {'authors': [{'first': 'M', 'last': 'Wish', 'middle': [], 'suffix': ''}, {'first': 'M', 'last': 'Deutsch', 'middle': [], 'suffix': ''}, {'first': 'L', 'last': 'Biener', 'middle': [], 'suffix': ''}, {'first': 'F', 'last': 'Young', 'middle': ['W'], 'suffix': ''}, {'first': 'Y', 'last': 'Takane', 'middle': [], 'suffix': ''}, {'first': 'R', 'last': 'Lewyckyj', 'middle': [], 'suffix': ''}], 'issue': '', 'links': None, 'num': None, 'other_ids': {}, 'pages': '451--453', 'raw_text': 'Wish, M., Deutsch, M., & Biener, L. (1970). Differences in conceptual structures of na- tions: An exploratory study. Journal of Personality and Social Psychology, 16, 361. Young, F. W., Takane, Y., & Lewyckyj, R. (1978). ALSCAL: A nonmetric multidimensional scaling program with several individual-differences options. Behavior Research Methods, 10, 451-453.', 'ref_id': 'b49', 'title': 'ALSCAL: A nonmetric multidimensional scaling program with several individual-differences options', 'urls': [], 'venue': 'Journal of Personality and Social Psychology', 'volume': '16', 'year': 1970}}, {'distance': -36, 'citation_mention': \"Jones and Ashmore's (1973)\", 'citation': {'authors': [{'first': 'R', 'last': 'Jones', 'middle': ['A'], 'suffix': ''}, {'first': 'R', 'last': 'Ashmore', 'middle': ['D'], 'suffix': ''}], 'issue': '', 'links': None, 'num': None, 'other_ids': {}, 'pages': '428--438', 'raw_text': 'Jones, R. A., & Ashmore, R. D. (1973). The structure of intergroup perception: Categories and dimensions in views of ethnic groups and adjectives used in stereotype research. Journal of Personality and Social Psychology, 25, 428-438.', 'ref_id': 'b24', 'title': 'The structure of intergroup perception: Categories and dimensions in views of ethnic groups and adjectives used in stereotype research', 'urls': [], 'venue': 'Journal of Personality and Social Psychology', 'volume': '25', 'year': 1973}}, {'distance': -36, 'citation_mention': 'Schwartz and Bilsky (1987)', 'citation': {'authors': [{'first': 'S', 'last': 'Schwartz', 'middle': ['H'], 'suffix': ''}, {'first': 'W', 'last': 'Bilsky', 'middle': [], 'suffix': ''}], 'issue': '', 'links': None, 'num': None, 'other_ids': {}, 'pages': '550--562', 'raw_text': 'Schwartz, S. H., & Bilsky, W. (1987). Toward a universal psychological structure of human values. Journal of Personality and Social Psychology, 53, 550-562.', 'ref_id': 'b39', 'title': 'Toward a universal psychological structure of human values', 'urls': [], 'venue': 'Journal of Personality and Social Psychology', 'volume': '53', 'year': 1987}}, {'distance': 42, 'citation_mention': '(Taylor et al., 1978)', 'citation': {'authors': [{'first': 'S', 'last': 'Taylor', 'middle': ['E'], 'suffix': ''}, {'first': 'S', 'last': 'Fiske', 'middle': ['T'], 'suffix': ''}, {'first': 'N', 'last': 'Etcoff', 'middle': ['L'], 'suffix': ''}, {'first': 'A', 'last': 'Ruderman', 'middle': ['J'], 'suffix': ''}], 'issue': '', 'links': None, 'num': None, 'other_ids': {}, 'pages': '778--793', 'raw_text': 'Taylor, S. E., Fiske, S. T., Etcoff, N. L., & Ruderman, A. J. (1978). Categorical and con- textual bases of person memory and stereotyping. Journal of Personality and Social Psychology, 36, 778-793.', 'ref_id': 'b45', 'title': 'Categorical and contextual bases of person memory and stereotyping', 'urls': [], 'venue': 'Journal of Personality and Social Psychology', 'volume': '36', 'year': 1978}}]}, 'claim4': {'sent_idx': [], 'nearest_citations': []}}}\n",
      "Count of non-None entries in papers:\n",
      "{} \n",
      "\n",
      "Percent of non-None entries in papers:\n",
      "{} \n",
      "\n",
      "Count of None entries in papers:\n",
      "{'claim2_distance': 1, 'claim3a_distance': 1, 'claim3b_distance': 1, 'claim4_distance': 1}\n",
      "Percent of None entries in papers:\n",
      "{'claim2_distance': 0.05, 'claim3a_distance': 0.05, 'claim3b_distance': 0.05, 'claim4_distance': 0.05} \n",
      "\n"
     ]
    }
   ],
   "source": [
    "print(\"For all {} TA2 papers: \".format(len(feat_data)))\n",
    "getStats(feat_data)"
   ]
  },
  {
   "cell_type": "code",
   "execution_count": 7,
   "metadata": {},
   "outputs": [
    {
     "ename": "NameError",
     "evalue": "name 'rep_feat_list' is not defined",
     "output_type": "error",
     "traceback": [
      "\u001b[0;31m---------------------------------------------------------------------------\u001b[0m",
      "\u001b[0;31mNameError\u001b[0m                                 Traceback (most recent call last)",
      "\u001b[0;32m<ipython-input-7-d97c563b36a5>\u001b[0m in \u001b[0;36m<module>\u001b[0;34m\u001b[0m\n\u001b[0;32m----> 1\u001b[0;31m \u001b[0mprint\u001b[0m\u001b[0;34m(\u001b[0m\u001b[0;34m\"For {} reproducible papers: \"\u001b[0m\u001b[0;34m.\u001b[0m\u001b[0mformat\u001b[0m\u001b[0;34m(\u001b[0m\u001b[0mlen\u001b[0m\u001b[0;34m(\u001b[0m\u001b[0mrep_feat_list\u001b[0m\u001b[0;34m)\u001b[0m\u001b[0;34m)\u001b[0m\u001b[0;34m)\u001b[0m\u001b[0;34m\u001b[0m\u001b[0;34m\u001b[0m\u001b[0m\n\u001b[0m\u001b[1;32m      2\u001b[0m \u001b[0mgetStats\u001b[0m\u001b[0;34m(\u001b[0m\u001b[0mrep_feat_list\u001b[0m\u001b[0;34m)\u001b[0m\u001b[0;34m\u001b[0m\u001b[0;34m\u001b[0m\u001b[0m\n",
      "\u001b[0;31mNameError\u001b[0m: name 'rep_feat_list' is not defined"
     ]
    }
   ],
   "source": [
    "print(\"For {} reproducible papers: \".format(len(rep_feat_list)))\n",
    "getStats(rep_feat_list)"
   ]
  },
  {
   "cell_type": "code",
   "execution_count": 8,
   "metadata": {},
   "outputs": [
    {
     "ename": "NameError",
     "evalue": "name 'non_rep_feat_list' is not defined",
     "output_type": "error",
     "traceback": [
      "\u001b[0;31m---------------------------------------------------------------------------\u001b[0m",
      "\u001b[0;31mNameError\u001b[0m                                 Traceback (most recent call last)",
      "\u001b[0;32m<ipython-input-8-b89175b07fe9>\u001b[0m in \u001b[0;36m<module>\u001b[0;34m\u001b[0m\n\u001b[0;32m----> 1\u001b[0;31m \u001b[0mprint\u001b[0m\u001b[0;34m(\u001b[0m\u001b[0;34m\"For {} non-reproducible papers: \"\u001b[0m\u001b[0;34m.\u001b[0m\u001b[0mformat\u001b[0m\u001b[0;34m(\u001b[0m\u001b[0mlen\u001b[0m\u001b[0;34m(\u001b[0m\u001b[0mnon_rep_feat_list\u001b[0m\u001b[0;34m)\u001b[0m\u001b[0;34m)\u001b[0m\u001b[0;34m)\u001b[0m\u001b[0;34m\u001b[0m\u001b[0;34m\u001b[0m\u001b[0m\n\u001b[0m\u001b[1;32m      2\u001b[0m \u001b[0mgetStats\u001b[0m\u001b[0;34m(\u001b[0m\u001b[0mnon_rep_feat_list\u001b[0m\u001b[0;34m)\u001b[0m\u001b[0;34m\u001b[0m\u001b[0;34m\u001b[0m\u001b[0m\n",
      "\u001b[0;31mNameError\u001b[0m: name 'non_rep_feat_list' is not defined"
     ]
    }
   ],
   "source": [
    "print(\"For {} non-reproducible papers: \".format(len(non_rep_feat_list)))\n",
    "getStats(non_rep_feat_list)"
   ]
  },
  {
   "cell_type": "code",
   "execution_count": 49,
   "metadata": {},
   "outputs": [],
   "source": [
    "rep_feat_path = \"feature_extractions_for_reproducible_papers_TA2.json\"\n",
    "non_rep_feat_path = \"feature_extractions_for_non_reproducible_papers_TA2.json\"\n",
    "\n",
    "# with open(rep_feat_path, \"w\") as f:\n",
    "#     json.dump(rep_feat_list, f, indent=2)\n",
    "    \n",
    "# with open(non_rep_feat_path, \"w\") as f:\n",
    "#     json.dump(non_rep_feat_list, f, indent=2)"
   ]
  },
  {
   "cell_type": "code",
   "execution_count": null,
   "metadata": {},
   "outputs": [],
   "source": []
  },
  {
   "cell_type": "code",
   "execution_count": null,
   "metadata": {},
   "outputs": [],
   "source": []
  },
  {
   "cell_type": "markdown",
   "metadata": {},
   "source": [
    "## Order the feature extractions based on distance to claims:"
   ]
  },
  {
   "cell_type": "code",
   "execution_count": 14,
   "metadata": {},
   "outputs": [],
   "source": [
    "def getList(input_list, topk=5):\n",
    "    out_list = [None] * topk\n",
    "    based_on = None\n",
    "    \n",
    "    if input_list is None or len(input_list) == 0:\n",
    "        return out_list, based_on\n",
    "    \n",
    "    first_val = input_list[0]\n",
    "    \n",
    "    if first_val.get(\"claim4_distance\") is not None:\n",
    "        sorted_list = sorted(input_list, key=lambda x: abs(x[\"claim4_distance\"]))\n",
    "        sorted_list = [x[\"value\"] for x in sorted_list]\n",
    "        based_on = \"claim4_distance\"\n",
    "        \n",
    "    elif first_val.get(\"claim3b_distance\") is not None:\n",
    "        sorted_list = sorted(input_list, key=lambda x: abs(x[\"claim3b_distance\"]))\n",
    "        sorted_list = [x[\"value\"] for x in sorted_list]\n",
    "        based_on = \"claim3b_distance\"\n",
    "        \n",
    "    else:\n",
    "        return out_list, based_on\n",
    "    \n",
    "    for i in range(len(sorted_list)):\n",
    "        if i>=topk:\n",
    "            break\n",
    "        out_list[i] = sorted_list[i]\n",
    "    return out_list, based_on\n",
    "\n",
    "\n",
    "def convertToCSV(input_data):\n",
    "    df_result = []\n",
    "    \n",
    "    df_cols = [\"paper_id\", \"Number_of_Studies\", \"Number_of_Models\"]\n",
    "    for i in range(1, 6):\n",
    "        df_cols.append(\"Effect_Size_\" + str(i))\n",
    "    for i in range(1, 6):\n",
    "        df_cols.append(\"P_Values_\" + str(i))\n",
    "    for i in range(1, 6):\n",
    "        df_cols.append(\"Model_Names_\" + str(i))\n",
    "    for i in range(1, 6):\n",
    "        df_cols.append(\"Sample_Sizes_\" + str(i))\n",
    "    df_cols.append(\"sorting_order_based_on\")\n",
    "    \n",
    "    for cur_pid, cur_val in input_data.items():\n",
    "        num_studies = cur_val[\"Validity_of_Inference\"][\"Number_of_Studies\"]\n",
    "        num_models = cur_val[\"Validity_of_Inference\"][\"Number_of_Models\"]\n",
    "        \n",
    "        effect_size_list, based_on = getList(cur_val[\"Validity_of_Inference\"][\"Effect_Size\"])\n",
    "        pv_list, based_on = getList(cur_val[\"Validity_of_Inference\"][\"P_Values\"])\n",
    "        model_names_list, based_on = getList(cur_val[\"Validity_of_Inference\"][\"Model_Names\"])\n",
    "        ss_list, based_on = getList(cur_val[\"Design_Quality\"][\"Sample_Sizes\"])\n",
    "        \n",
    "        cur_row = [cur_pid, num_studies, num_models]\n",
    "        cur_row += effect_size_list\n",
    "        cur_row += pv_list\n",
    "        cur_row += model_names_list\n",
    "        cur_row += ss_list\n",
    "        cur_row += [based_on]\n",
    "        \n",
    "        df_result.append(cur_row)\n",
    "    \n",
    "    df_res = pd.DataFrame(data=df_result, columns=df_cols)\n",
    "    df_res = df_res[df_res[\"sorting_order_based_on\"].notnull()]\n",
    "    return df_res"
   ]
  },
  {
   "cell_type": "code",
   "execution_count": 122,
   "metadata": {},
   "outputs": [
    {
     "name": "stdout",
     "output_type": "stream",
     "text": [
      "For 216 reproducible TA2 papers, count of non-null values in each columns\n"
     ]
    },
    {
     "data": {
      "text/plain": [
       "paper_id                  216\n",
       "Number_of_Studies           6\n",
       "Number_of_Models           32\n",
       "Effect_Size_1              41\n",
       "Effect_Size_2              30\n",
       "Effect_Size_3              18\n",
       "Effect_Size_4              13\n",
       "Effect_Size_5              11\n",
       "P_Values_1                125\n",
       "P_Values_2                107\n",
       "P_Values_3                 97\n",
       "P_Values_4                 88\n",
       "P_Values_5                 82\n",
       "Model_Names_1             215\n",
       "Model_Names_2             214\n",
       "Model_Names_3             211\n",
       "Model_Names_4             203\n",
       "Model_Names_5             187\n",
       "Sample_Sizes_1            216\n",
       "Sample_Sizes_2            205\n",
       "Sample_Sizes_3            192\n",
       "Sample_Sizes_4            175\n",
       "Sample_Sizes_5            159\n",
       "sorting_order_based_on    216\n",
       "dtype: int64"
      ]
     },
     "execution_count": 122,
     "metadata": {},
     "output_type": "execute_result"
    }
   ],
   "source": [
    "feat_path = \"feature_extractions_for_reproducible_papers_TA2.json\"\n",
    "with open(feat_path, \"r\") as f:\n",
    "    feat_data = json.load(f)\n",
    "    \n",
    "feat_path_csv = feat_path.split(\".\")[0] + \".csv\"\n",
    "df_feat = convertToCSV(feat_data)\n",
    "df_feat.to_csv(feat_path_csv, index=False)\n",
    "print(\"For {} reproducible TA2 papers, count of non-null values in each columns\".format(df_feat.shape[0]))\n",
    "df_feat.count()"
   ]
  },
  {
   "cell_type": "code",
   "execution_count": 123,
   "metadata": {},
   "outputs": [
    {
     "name": "stdout",
     "output_type": "stream",
     "text": [
      "For 248 non-reproducible TA2 papers, count of non-null values in each columns\n"
     ]
    },
    {
     "data": {
      "text/plain": [
       "paper_id                  248\n",
       "Number_of_Studies           8\n",
       "Number_of_Models           27\n",
       "Effect_Size_1              74\n",
       "Effect_Size_2              52\n",
       "Effect_Size_3              36\n",
       "Effect_Size_4              25\n",
       "Effect_Size_5              19\n",
       "P_Values_1                205\n",
       "P_Values_2                198\n",
       "P_Values_3                189\n",
       "P_Values_4                181\n",
       "P_Values_5                171\n",
       "Model_Names_1             247\n",
       "Model_Names_2             238\n",
       "Model_Names_3             231\n",
       "Model_Names_4             224\n",
       "Model_Names_5             211\n",
       "Sample_Sizes_1            248\n",
       "Sample_Sizes_2            234\n",
       "Sample_Sizes_3            212\n",
       "Sample_Sizes_4            195\n",
       "Sample_Sizes_5            172\n",
       "sorting_order_based_on    248\n",
       "dtype: int64"
      ]
     },
     "execution_count": 123,
     "metadata": {},
     "output_type": "execute_result"
    }
   ],
   "source": [
    "feat_path = \"feature_extractions_for_non_reproducible_papers_TA2.json\"\n",
    "with open(feat_path, \"r\") as f:\n",
    "    feat_data = json.load(f)\n",
    "    \n",
    "feat_path_csv = feat_path.split(\".\")[0] + \".csv\"\n",
    "df_feat = convertToCSV(feat_data)\n",
    "df_feat.to_csv(feat_path_csv, index=False)\n",
    "print(\"For {} non-reproducible TA2 papers, count of non-null values in each columns\".format(df_feat.shape[0]))\n",
    "df_feat.count()"
   ]
  },
  {
   "cell_type": "code",
   "execution_count": 124,
   "metadata": {},
   "outputs": [
    {
     "name": "stdout",
     "output_type": "stream",
     "text": [
      "For 1245 all TA2 papers, count of non-null values in each columns\n"
     ]
    },
    {
     "data": {
      "text/plain": [
       "paper_id                  1245\n",
       "Number_of_Studies           26\n",
       "Number_of_Models           136\n",
       "Effect_Size_1              273\n",
       "Effect_Size_2              190\n",
       "Effect_Size_3              128\n",
       "Effect_Size_4               92\n",
       "Effect_Size_5               66\n",
       "P_Values_1                 852\n",
       "P_Values_2                 788\n",
       "P_Values_3                 733\n",
       "P_Values_4                 674\n",
       "P_Values_5                 631\n",
       "Model_Names_1             1241\n",
       "Model_Names_2             1223\n",
       "Model_Names_3             1196\n",
       "Model_Names_4             1129\n",
       "Model_Names_5             1046\n",
       "Sample_Sizes_1            1245\n",
       "Sample_Sizes_2            1187\n",
       "Sample_Sizes_3            1106\n",
       "Sample_Sizes_4            1009\n",
       "Sample_Sizes_5             892\n",
       "sorting_order_based_on    1245\n",
       "dtype: int64"
      ]
     },
     "execution_count": 124,
     "metadata": {},
     "output_type": "execute_result"
    }
   ],
   "source": [
    "feat_path = \"feature_extractions_for_all_papers_TA2.json\"\n",
    "with open(feat_path, \"r\") as f:\n",
    "    feat_data = json.load(f)\n",
    "    \n",
    "feat_path_csv = feat_path.split(\".\")[0] + \".csv\"\n",
    "df_feat = convertToCSV(feat_data)\n",
    "df_feat.to_csv(feat_path_csv, index=False)\n",
    "print(\"For {} all TA2 papers, count of non-null values in each columns\".format(df_feat.shape[0]))\n",
    "df_feat.count()"
   ]
  },
  {
   "cell_type": "code",
   "execution_count": null,
   "metadata": {},
   "outputs": [],
   "source": []
  },
  {
   "cell_type": "code",
   "execution_count": null,
   "metadata": {},
   "outputs": [],
   "source": []
  },
  {
   "cell_type": "code",
   "execution_count": null,
   "metadata": {},
   "outputs": [],
   "source": []
  },
  {
   "cell_type": "code",
   "execution_count": null,
   "metadata": {},
   "outputs": [],
   "source": []
  },
  {
   "cell_type": "markdown",
   "metadata": {},
   "source": [
    "### For RPP data:"
   ]
  },
  {
   "cell_type": "code",
   "execution_count": 1,
   "metadata": {},
   "outputs": [],
   "source": [
    "inp_path = \"../danny_submission/feature_extractions_RPP/RPP_feature_extraction_results.json\"\n",
    "rpp_with_labels_path = \"\""
   ]
  },
  {
   "cell_type": "code",
   "execution_count": 3,
   "metadata": {},
   "outputs": [],
   "source": [
    "with open(inp_path, \"r\") as f:\n",
    "    rpp_feat_data = json.load(f)"
   ]
  },
  {
   "cell_type": "code",
   "execution_count": 19,
   "metadata": {},
   "outputs": [],
   "source": [
    "rpp_csv = convertToCSV(rpp_feat_data)"
   ]
  },
  {
   "cell_type": "code",
   "execution_count": 20,
   "metadata": {},
   "outputs": [
    {
     "name": "stdout",
     "output_type": "stream",
     "text": [
      "(0, 24)\n"
     ]
    }
   ],
   "source": [
    "print(rpp_csv.shape)"
   ]
  },
  {
   "cell_type": "code",
   "execution_count": null,
   "metadata": {},
   "outputs": [],
   "source": []
  },
  {
   "cell_type": "markdown",
   "metadata": {},
   "source": [
    "### For TA1 data:"
   ]
  },
  {
   "cell_type": "code",
   "execution_count": 39,
   "metadata": {},
   "outputs": [
    {
     "name": "stdout",
     "output_type": "stream",
     "text": [
      "For 582 all TA1 papers, count of non-null values in each columns\n"
     ]
    },
    {
     "data": {
      "text/plain": [
       "paper_id                  582\n",
       "Number_of_Studies          13\n",
       "Number_of_Models           66\n",
       "Effect_Size_1             122\n",
       "Effect_Size_2              87\n",
       "Effect_Size_3              57\n",
       "Effect_Size_4              39\n",
       "Effect_Size_5              27\n",
       "P_Values_1                417\n",
       "P_Values_2                383\n",
       "P_Values_3                359\n",
       "P_Values_4                327\n",
       "P_Values_5                302\n",
       "Model_Names_1             581\n",
       "Model_Names_2             573\n",
       "Model_Names_3             563\n",
       "Model_Names_4             536\n",
       "Model_Names_5             497\n",
       "Sample_Sizes_1            582\n",
       "Sample_Sizes_2            552\n",
       "Sample_Sizes_3            518\n",
       "Sample_Sizes_4            474\n",
       "Sample_Sizes_5            413\n",
       "sorting_order_based_on    582\n",
       "dtype: int64"
      ]
     },
     "execution_count": 39,
     "metadata": {},
     "output_type": "execute_result"
    }
   ],
   "source": [
    "feat_path = \"TA1_feature_extraction_results.json\"\n",
    "with open(feat_path, \"r\") as f:\n",
    "    feat_data = json.load(f)\n",
    "    \n",
    "feat_path_csv = feat_path.split(\".\")[0] + \".csv\"\n",
    "df_feat = convertToCSV(feat_data)\n",
    "df_feat.to_csv(feat_path_csv, index=False)\n",
    "print(\"For {} all TA1 papers, count of non-null values in each columns\".format(df_feat.shape[0]))\n",
    "df_feat.count()"
   ]
  },
  {
   "cell_type": "code",
   "execution_count": null,
   "metadata": {},
   "outputs": [],
   "source": []
  },
  {
   "cell_type": "code",
   "execution_count": null,
   "metadata": {},
   "outputs": [],
   "source": []
  },
  {
   "cell_type": "markdown",
   "metadata": {},
   "source": [
    "## Get full paper data:"
   ]
  },
  {
   "cell_type": "code",
   "execution_count": 284,
   "metadata": {},
   "outputs": [],
   "source": [
    "paper_data = \"../segment_data/TA2_classify_data_final_with_folds.json\""
   ]
  },
  {
   "cell_type": "code",
   "execution_count": 285,
   "metadata": {},
   "outputs": [],
   "source": [
    "df_data_full = pd.read_json(paper_data)"
   ]
  },
  {
   "cell_type": "code",
   "execution_count": 289,
   "metadata": {},
   "outputs": [],
   "source": [
    "pid_claims_map = {}\n",
    "for idx, cur_row in df_data_full.iterrows():\n",
    "    try:\n",
    "        cur_pid = cur_row[\"DOI_CR\"]\n",
    "        cur_claims = [cur_row[\"coded_claim2\"], cur_row[\"coded_claim3a\"], cur_row[\"coded_claim3b\"], cur_row[\"coded_claim4\"]]\n",
    "        pid_claims_map[cur_pid] = cur_claims\n",
    "    except e:\n",
    "        print(e)"
   ]
  },
  {
   "cell_type": "code",
   "execution_count": null,
   "metadata": {},
   "outputs": [],
   "source": []
  },
  {
   "cell_type": "markdown",
   "metadata": {},
   "source": [
    "## Important Segment data analysis:"
   ]
  },
  {
   "cell_type": "code",
   "execution_count": 28,
   "metadata": {},
   "outputs": [],
   "source": [
    "inp_seg_path = \"../segment_data/TA2_classify_data_final_with_imp_claims_only.json\""
   ]
  },
  {
   "cell_type": "code",
   "execution_count": 29,
   "metadata": {},
   "outputs": [],
   "source": [
    "df = pd.read_json(inp_seg_path)"
   ]
  },
  {
   "cell_type": "code",
   "execution_count": 30,
   "metadata": {},
   "outputs": [
    {
     "data": {
      "text/plain": [
       "0    493\n",
       "1    393\n",
       "Name: label, dtype: int64"
      ]
     },
     "execution_count": 30,
     "metadata": {},
     "output_type": "execute_result"
    }
   ],
   "source": [
    "df[\"label\"].value_counts()"
   ]
  },
  {
   "cell_type": "code",
   "execution_count": 31,
   "metadata": {},
   "outputs": [
    {
     "name": "stdout",
     "output_type": "stream",
     "text": [
      "(886, 5)\n",
      "Index(['paper_id', 'important_segment', 'important_segment_idx', 'label',\n",
      "       'Fold_Id'],\n",
      "      dtype='object')\n"
     ]
    }
   ],
   "source": [
    "print(df.shape)\n",
    "print(df.columns)\n",
    "\n",
    "pid_seg_idx_map = {}\n",
    "pid_label_map = {}\n",
    "for idx, cr in df.iterrows():\n",
    "    pid_seg_idx_map[cr[\"paper_id\"]] = [cr[\"important_segment_idx\"], cr[\"important_segment\"]]\n",
    "    pid_label_map[cr[\"paper_id\"]] = cr[\"label\"]"
   ]
  },
  {
   "cell_type": "code",
   "execution_count": null,
   "metadata": {},
   "outputs": [],
   "source": []
  },
  {
   "cell_type": "code",
   "execution_count": null,
   "metadata": {},
   "outputs": [],
   "source": []
  },
  {
   "cell_type": "code",
   "execution_count": null,
   "metadata": {},
   "outputs": [],
   "source": []
  },
  {
   "cell_type": "code",
   "execution_count": null,
   "metadata": {},
   "outputs": [],
   "source": []
  }
 ],
 "metadata": {
  "kernelspec": {
   "display_name": "Python 3",
   "language": "python",
   "name": "python3"
  },
  "language_info": {
   "codemirror_mode": {
    "name": "ipython",
    "version": 3
   },
   "file_extension": ".py",
   "mimetype": "text/x-python",
   "name": "python",
   "nbconvert_exporter": "python",
   "pygments_lexer": "ipython3",
   "version": "3.6.8"
  }
 },
 "nbformat": 4,
 "nbformat_minor": 2
}
