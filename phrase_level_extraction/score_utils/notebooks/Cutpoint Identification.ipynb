{
 "cells": [
  {
   "cell_type": "code",
   "execution_count": 6,
   "metadata": {},
   "outputs": [],
   "source": [
    "import bisect \n",
    "import pandas as pd\n",
    "import numpy as np\n",
    "import json"
   ]
  },
  {
   "cell_type": "code",
   "execution_count": 2,
   "metadata": {},
   "outputs": [],
   "source": [
    "def get_best_cuts(x, y, thres, num_cuts):\n",
    "    cuts = [x.min() - 0.000000001, x.max()]\n",
    "    for c in range(num_cuts):\n",
    "        best_r2 = 0 \n",
    "        best_t = None \n",
    "        for t in thres:\n",
    "            if t not in cuts:\n",
    "                before = cuts[bisect.bisect_left(cuts, t) - 1]\n",
    "                after = cuts[bisect.bisect_right(cuts, t)]\n",
    "                merge_bin = y[(before < x) & (x <= after)]\n",
    "                bin1 = y[(before < x) & (x <= t)]\n",
    "                bin2 = y[(t < x) & (x <= after)]\n",
    "                r2_imp = 0\n",
    "                r2_imp += (len(bin1) * (np.mean(bin1))**2)\n",
    "                r2_imp += (len(bin2) * (np.mean(bin2))**2)\n",
    "                r2_imp -= (len(merge_bin) * (np.mean(merge_bin))**2)\n",
    "                if best_r2 < r2_imp:\n",
    "                    best_r2 = r2_imp\n",
    "                    best_t = t\n",
    "        if best_r2 == 0:\n",
    "            break\n",
    "        cuts.append(best_t)\n",
    "        cuts = sorted(cuts)\n",
    "    return cuts[1:-1]"
   ]
  },
  {
   "cell_type": "code",
   "execution_count": null,
   "metadata": {},
   "outputs": [],
   "source": []
  },
  {
   "cell_type": "code",
   "execution_count": 55,
   "metadata": {},
   "outputs": [],
   "source": [
    "inp_path = \"../danny_submission/feature_extractions_TA2/feature_extractions_for_all_papers_TA2.csv\"\n",
    "rep_path = \"../danny_submission/feature_extractions_TA2/feature_extractions_for_reproducible_papers_TA2.csv\"\n",
    "non_rep_path = \"../danny_submission/feature_extractions_TA2/feature_extractions_for_non_reproducible_papers_TA2.csv\"\n",
    "\n",
    "df_all = pd.read_csv(inp_path)\n",
    "df_rep = pd.read_csv(rep_path)\n",
    "df_non_rep = pd.read_csv(non_rep_path)"
   ]
  },
  {
   "cell_type": "code",
   "execution_count": 18,
   "metadata": {},
   "outputs": [],
   "source": [
    "ta2_full_path = \"TA2_regression_data_final_with_folds.json\"\n",
    "df_ta2 = pd.read_json(ta2_full_path)\n",
    "df_ta2 = df_ta2[[\"DOI_CR\", \"label\"]]"
   ]
  },
  {
   "cell_type": "code",
   "execution_count": 19,
   "metadata": {},
   "outputs": [],
   "source": [
    "pid_label_map = {}\n",
    "for idx, cr in df_ta2.iterrows():\n",
    "    doi = cr[\"DOI_CR\"]\n",
    "    label = cr[\"label\"]\n",
    "    pid_label_map[doi] = label"
   ]
  },
  {
   "cell_type": "code",
   "execution_count": 64,
   "metadata": {},
   "outputs": [],
   "source": [
    "df_all[\"label_score\"] = df_all.apply(lambda x: pid_label_map[x[\"paper_id\"]], axis=1)\n",
    "df_rep[\"label_score\"] = df_rep.apply(lambda x: pid_label_map[x[\"paper_id\"]], axis=1)\n",
    "df_non_rep[\"label_score\"] = df_non_rep.apply(lambda x: pid_label_map[x[\"paper_id\"]], axis=1)"
   ]
  },
  {
   "cell_type": "code",
   "execution_count": null,
   "metadata": {},
   "outputs": [],
   "source": []
  },
  {
   "cell_type": "code",
   "execution_count": 67,
   "metadata": {},
   "outputs": [],
   "source": [
    "def getCuts(df_rep, df_non_rep, field = \"P_Values_1\"):\n",
    "    x_list = []\n",
    "    y_list = []\n",
    "    \n",
    "    cur_x = list(df_rep[df_rep[field].notnull()][field])\n",
    "    cur_y = [1.0] * len(cur_x)\n",
    "    x_list += cur_x\n",
    "    y_list += cur_y\n",
    "    \n",
    "    cur_x = list(df_non_rep[df_non_rep[field].notnull()][field])\n",
    "    cur_y = [0.0] * len(cur_x)\n",
    "    x_list += cur_x\n",
    "    y_list += cur_y\n",
    "    \n",
    "    x = np.array(x_list)\n",
    "    y = np.array(y_list)\n",
    "    thresh = np.arange(x.min(), x.max(), (x.max() - x.min()) / 500)[1:]\n",
    "    cuts = get_best_cuts(x, y, thresh, 1)\n",
    "    \n",
    "    sample_size = x.shape[0]\n",
    "    result = [field, cuts[0], sample_size]\n",
    "    return result"
   ]
  },
  {
   "cell_type": "code",
   "execution_count": 71,
   "metadata": {},
   "outputs": [],
   "source": [
    "def getCutsWithScores(df_all, field = \"P_Values_1\"):\n",
    "    x_list = []\n",
    "    y_list = []\n",
    "    \n",
    "    cur_x = list(df_all[df_all[field].notnull()][field])\n",
    "    cur_y = list(df_all[df_all[field].notnull()][\"label_score\"])\n",
    "    x_list += cur_x\n",
    "    y_list += cur_y\n",
    "    \n",
    "    x = np.array(x_list)\n",
    "    y = np.array(y_list)\n",
    "    thresh = np.arange(x.min(), x.max(), (x.max() - x.min()) / 500)[1:]\n",
    "    cuts = get_best_cuts(x, y, thresh, 1)\n",
    "    \n",
    "    sample_size = x.shape[0]\n",
    "    result = [field, cuts[0], sample_size]\n",
    "    return result"
   ]
  },
  {
   "cell_type": "code",
   "execution_count": null,
   "metadata": {},
   "outputs": [],
   "source": []
  },
  {
   "cell_type": "code",
   "execution_count": 69,
   "metadata": {},
   "outputs": [
    {
     "data": {
      "text/plain": [
       "['P_Values_1', 0.0057497, 330]"
      ]
     },
     "execution_count": 69,
     "metadata": {},
     "output_type": "execute_result"
    }
   ],
   "source": [
    "getCuts(df_rep, df_non_rep, field= \"P_Values_1\")"
   ]
  },
  {
   "cell_type": "code",
   "execution_count": 72,
   "metadata": {},
   "outputs": [
    {
     "data": {
      "text/plain": [
       "['P_Values_1', 0.00588994, 852]"
      ]
     },
     "execution_count": 72,
     "metadata": {},
     "output_type": "execute_result"
    }
   ],
   "source": [
    "getCutsWithScores(df_all, field= \"P_Values_1\")"
   ]
  },
  {
   "cell_type": "code",
   "execution_count": 75,
   "metadata": {},
   "outputs": [
    {
     "data": {
      "text/plain": [
       "Index(['paper_id', 'Number_of_Studies', 'Number_of_Models', 'Effect_Size_1',\n",
       "       'Effect_Size_2', 'Effect_Size_3', 'Effect_Size_4', 'Effect_Size_5',\n",
       "       'P_Values_1', 'P_Values_2', 'P_Values_3', 'P_Values_4', 'P_Values_5',\n",
       "       'Model_Names_1', 'Model_Names_2', 'Model_Names_3', 'Model_Names_4',\n",
       "       'Model_Names_5', 'Sample_Sizes_1', 'Sample_Sizes_2', 'Sample_Sizes_3',\n",
       "       'Sample_Sizes_4', 'Sample_Sizes_5', 'sorting_order_based_on',\n",
       "       'label_score'],\n",
       "      dtype='object')"
      ]
     },
     "execution_count": 75,
     "metadata": {},
     "output_type": "execute_result"
    }
   ],
   "source": [
    "df_all.columns"
   ]
  },
  {
   "cell_type": "code",
   "execution_count": 76,
   "metadata": {},
   "outputs": [],
   "source": [
    "feature_list = [\"P_Values_1\", \"Effect_Size_1\", \"Sample_Sizes_1\", \"Number_of_Studies\", \"Number_of_Models\"]"
   ]
  },
  {
   "cell_type": "code",
   "execution_count": 77,
   "metadata": {},
   "outputs": [],
   "source": [
    "df_res_cols = [\"feature_name\", \"cut_threshold\", \"num_samples\"]\n",
    "df_res_data = []\n",
    "for cur_feature in feature_list:\n",
    "    cur_result = getCutsWithScores(df_all, field=cur_feature)\n",
    "    df_res_data.append(cur_result)"
   ]
  },
  {
   "cell_type": "code",
   "execution_count": 78,
   "metadata": {},
   "outputs": [],
   "source": [
    "df_res = pd.DataFrame(data=df_res_data, columns=df_res_cols)"
   ]
  },
  {
   "cell_type": "code",
   "execution_count": 79,
   "metadata": {},
   "outputs": [
    {
     "data": {
      "text/html": [
       "<div>\n",
       "<style scoped>\n",
       "    .dataframe tbody tr th:only-of-type {\n",
       "        vertical-align: middle;\n",
       "    }\n",
       "\n",
       "    .dataframe tbody tr th {\n",
       "        vertical-align: top;\n",
       "    }\n",
       "\n",
       "    .dataframe thead th {\n",
       "        text-align: right;\n",
       "    }\n",
       "</style>\n",
       "<table border=\"1\" class=\"dataframe\">\n",
       "  <thead>\n",
       "    <tr style=\"text-align: right;\">\n",
       "      <th></th>\n",
       "      <th>feature_name</th>\n",
       "      <th>cut_threshold</th>\n",
       "      <th>num_samples</th>\n",
       "    </tr>\n",
       "  </thead>\n",
       "  <tbody>\n",
       "    <tr>\n",
       "      <th>0</th>\n",
       "      <td>P_Values_1</td>\n",
       "      <td>0.00589</td>\n",
       "      <td>852</td>\n",
       "    </tr>\n",
       "    <tr>\n",
       "      <th>1</th>\n",
       "      <td>Effect_Size_1</td>\n",
       "      <td>0.25274</td>\n",
       "      <td>273</td>\n",
       "    </tr>\n",
       "    <tr>\n",
       "      <th>2</th>\n",
       "      <td>Sample_Sizes_1</td>\n",
       "      <td>283052.00600</td>\n",
       "      <td>1245</td>\n",
       "    </tr>\n",
       "    <tr>\n",
       "      <th>3</th>\n",
       "      <td>Number_of_Studies</td>\n",
       "      <td>1.01400</td>\n",
       "      <td>26</td>\n",
       "    </tr>\n",
       "    <tr>\n",
       "      <th>4</th>\n",
       "      <td>Number_of_Models</td>\n",
       "      <td>9.00800</td>\n",
       "      <td>136</td>\n",
       "    </tr>\n",
       "  </tbody>\n",
       "</table>\n",
       "</div>"
      ],
      "text/plain": [
       "        feature_name  cut_threshold  num_samples\n",
       "0         P_Values_1        0.00589          852\n",
       "1      Effect_Size_1        0.25274          273\n",
       "2     Sample_Sizes_1   283052.00600         1245\n",
       "3  Number_of_Studies        1.01400           26\n",
       "4   Number_of_Models        9.00800          136"
      ]
     },
     "execution_count": 79,
     "metadata": {},
     "output_type": "execute_result"
    }
   ],
   "source": [
    "df_res"
   ]
  },
  {
   "cell_type": "code",
   "execution_count": null,
   "metadata": {},
   "outputs": [],
   "source": []
  },
  {
   "cell_type": "code",
   "execution_count": null,
   "metadata": {},
   "outputs": [],
   "source": []
  },
  {
   "cell_type": "code",
   "execution_count": null,
   "metadata": {},
   "outputs": [],
   "source": []
  },
  {
   "cell_type": "markdown",
   "metadata": {},
   "source": [
    "## Adhoc analysis to Danny:"
   ]
  },
  {
   "cell_type": "code",
   "execution_count": 4,
   "metadata": {},
   "outputs": [],
   "source": [
    "feat_path = \"../danny_submission/feature_extractions_TA2/feature_extractions_for_all_papers_TA2.json\""
   ]
  },
  {
   "cell_type": "code",
   "execution_count": 7,
   "metadata": {},
   "outputs": [],
   "source": [
    "with open(feat_path, \"r\") as f:\n",
    "    feat_data = json.load(f)"
   ]
  },
  {
   "cell_type": "code",
   "execution_count": 51,
   "metadata": {},
   "outputs": [
    {
     "data": {
      "text/plain": [
       "2380"
      ]
     },
     "execution_count": 51,
     "metadata": {},
     "output_type": "execute_result"
    }
   ],
   "source": [
    "len(feat_data)"
   ]
  },
  {
   "cell_type": "code",
   "execution_count": 48,
   "metadata": {},
   "outputs": [],
   "source": [
    "def getClosestSampleSize(pv_idx, ss_list):\n",
    "    out_ss = [None, None]\n",
    "    if ss_list is None:\n",
    "        return out_ss\n",
    "    \n",
    "    best_ss_abs_dist = None\n",
    "    best_ss_val = None\n",
    "    \n",
    "    for cur_ss in ss_list:\n",
    "        ss_val = cur_ss[\"value\"]\n",
    "        ss_idx = cur_ss[\"sent_idx\"]\n",
    "        cur_dist = abs(pv_idx - ss_idx)\n",
    "        \n",
    "        if best_ss_abs_dist is None:\n",
    "            best_ss_abs_dist = cur_dist\n",
    "            best_ss_val = ss_val\n",
    "        elif cur_dist < best_ss_abs_dist:\n",
    "            best_ss_abs_dist = cur_dist\n",
    "            best_ss_val = ss_val\n",
    "        \n",
    "    out_ss = [best_ss_val, best_ss_abs_dist]\n",
    "    return out_ss\n",
    "    \n",
    "\n",
    "def getPvalues(feat_data):\n",
    "    result_cols = [\"paper_doi\", \"p_value\", \"closest_sample_size\", \"absolute_dist_between_pv_and_ss\", \"label\"]\n",
    "    result_data = []\n",
    "    \n",
    "    for k, v in feat_data.items():\n",
    "        pid = k\n",
    "        pv_list = v[\"Validity_of_Inference\"][\"P_Values\"]\n",
    "        if pv_list is None:\n",
    "            continue\n",
    "        for cur_pv in pv_list:\n",
    "            pv_val = cur_pv[\"value\"]\n",
    "            pv_idx = cur_pv[\"sent_idx\"]\n",
    "            ss_val_list = getClosestSampleSize(pv_idx, v[\"Design_Quality\"][\"Sample_Sizes\"])\n",
    "            try:\n",
    "                cur_row = [pid, pv_val] + ss_val_list + [pid_label_map[pid]]\n",
    "                result_data.append(cur_row)\n",
    "            except:\n",
    "                pass\n",
    "    df_data = pd.DataFrame(data=result_data, columns=result_cols)\n",
    "    return df_data"
   ]
  },
  {
   "cell_type": "code",
   "execution_count": 49,
   "metadata": {},
   "outputs": [],
   "source": [
    "df_pv_list = getPvalues(feat_data)"
   ]
  },
  {
   "cell_type": "code",
   "execution_count": 50,
   "metadata": {},
   "outputs": [],
   "source": [
    "pv_out_path = \"TA2_pvalue_extractions.csv\"\n",
    "df_pv_list.to_csv(pv_out_path, index=False)"
   ]
  },
  {
   "cell_type": "code",
   "execution_count": 52,
   "metadata": {},
   "outputs": [
    {
     "data": {
      "text/html": [
       "<div>\n",
       "<style scoped>\n",
       "    .dataframe tbody tr th:only-of-type {\n",
       "        vertical-align: middle;\n",
       "    }\n",
       "\n",
       "    .dataframe tbody tr th {\n",
       "        vertical-align: top;\n",
       "    }\n",
       "\n",
       "    .dataframe thead th {\n",
       "        text-align: right;\n",
       "    }\n",
       "</style>\n",
       "<table border=\"1\" class=\"dataframe\">\n",
       "  <thead>\n",
       "    <tr style=\"text-align: right;\">\n",
       "      <th></th>\n",
       "      <th>paper_doi</th>\n",
       "      <th>p_value</th>\n",
       "      <th>closest_sample_size</th>\n",
       "      <th>absolute_dist_between_pv_and_ss</th>\n",
       "      <th>label</th>\n",
       "    </tr>\n",
       "  </thead>\n",
       "  <tbody>\n",
       "    <tr>\n",
       "      <th>0</th>\n",
       "      <td>10.1177/0003122414545986</td>\n",
       "      <td>0.0500</td>\n",
       "      <td>70562.0</td>\n",
       "      <td>135.0</td>\n",
       "      <td>0.314487</td>\n",
       "    </tr>\n",
       "    <tr>\n",
       "      <th>1</th>\n",
       "      <td>10.1177/0003122414545986</td>\n",
       "      <td>0.0500</td>\n",
       "      <td>70562.0</td>\n",
       "      <td>167.0</td>\n",
       "      <td>0.314487</td>\n",
       "    </tr>\n",
       "    <tr>\n",
       "      <th>2</th>\n",
       "      <td>10.1177/0003122414545986</td>\n",
       "      <td>0.0100</td>\n",
       "      <td>70562.0</td>\n",
       "      <td>167.0</td>\n",
       "      <td>0.314487</td>\n",
       "    </tr>\n",
       "    <tr>\n",
       "      <th>3</th>\n",
       "      <td>10.1177/0003122414545986</td>\n",
       "      <td>0.0010</td>\n",
       "      <td>70562.0</td>\n",
       "      <td>167.0</td>\n",
       "      <td>0.314487</td>\n",
       "    </tr>\n",
       "    <tr>\n",
       "      <th>4</th>\n",
       "      <td>10.1037/a0029648</td>\n",
       "      <td>0.0001</td>\n",
       "      <td>20.0</td>\n",
       "      <td>7.0</td>\n",
       "      <td>0.821205</td>\n",
       "    </tr>\n",
       "  </tbody>\n",
       "</table>\n",
       "</div>"
      ],
      "text/plain": [
       "                  paper_doi  p_value  closest_sample_size  \\\n",
       "0  10.1177/0003122414545986   0.0500              70562.0   \n",
       "1  10.1177/0003122414545986   0.0500              70562.0   \n",
       "2  10.1177/0003122414545986   0.0100              70562.0   \n",
       "3  10.1177/0003122414545986   0.0010              70562.0   \n",
       "4          10.1037/a0029648   0.0001                 20.0   \n",
       "\n",
       "   absolute_dist_between_pv_and_ss     label  \n",
       "0                            135.0  0.314487  \n",
       "1                            167.0  0.314487  \n",
       "2                            167.0  0.314487  \n",
       "3                            167.0  0.314487  \n",
       "4                              7.0  0.821205  "
      ]
     },
     "execution_count": 52,
     "metadata": {},
     "output_type": "execute_result"
    }
   ],
   "source": [
    "df_pv_list.head()"
   ]
  },
  {
   "cell_type": "code",
   "execution_count": null,
   "metadata": {},
   "outputs": [],
   "source": []
  },
  {
   "cell_type": "code",
   "execution_count": null,
   "metadata": {},
   "outputs": [],
   "source": []
  }
 ],
 "metadata": {
  "kernelspec": {
   "display_name": "Python 3",
   "language": "python",
   "name": "python3"
  },
  "language_info": {
   "codemirror_mode": {
    "name": "ipython",
    "version": 3
   },
   "file_extension": ".py",
   "mimetype": "text/x-python",
   "name": "python",
   "nbconvert_exporter": "python",
   "pygments_lexer": "ipython3",
   "version": "3.6.8"
  }
 },
 "nbformat": 4,
 "nbformat_minor": 4
}
